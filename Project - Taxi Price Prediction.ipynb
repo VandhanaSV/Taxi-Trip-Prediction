{
 "cells": [
  {
   "cell_type": "markdown",
   "id": "3a09c828",
   "metadata": {},
   "source": [
    "# Taxi Trip Prediction"
   ]
  },
  {
   "cell_type": "code",
   "execution_count": 3,
   "id": "16edb153",
   "metadata": {},
   "outputs": [],
   "source": [
    "#Importing essential libraries\n",
    "\n",
    "import numpy as np\n",
    "import pandas as pd\n",
    "import matplotlib.pyplot as plt\n",
    "import seaborn as sns"
   ]
  },
  {
   "cell_type": "markdown",
   "id": "634c57b9",
   "metadata": {},
   "source": [
    "# Description"
   ]
  },
  {
   "cell_type": "markdown",
   "id": "a71562ed",
   "metadata": {},
   "source": [
    "LocationID: This column likely represents a unique identifier for the location where the taxi trip either begins or ends. Each location may have a specific ID associated with it, which helps in tracking and analyzing trip data.\n",
    "\n",
    "Borough: This column probably denotes the borough or administrative district within which the location falls. In the context of a city like New York, for instance, boroughs could include Manhattan, Brooklyn, Queens, the Bronx, and Staten Island.\n",
    "\n",
    "Zone: This column may refer to a specific zone or area within the borough where the taxi trip starts or ends. Zones could be smaller divisions within a borough, often used for more granular location tracking.\n",
    "\n",
    "service_zone: This column could indicate the service zone classification for the taxi trip. It might describe whether the zone falls under a particular service category such as \"Manhattan,\" \"Outer Boroughs,\" or \"Newark Airport,\" depending on the service zones defined by the taxi service provider.\n",
    " \n",
    " Target value- service_zone\n",
    " "
   ]
  },
  {
   "cell_type": "code",
   "execution_count": 4,
   "id": "f28d97e5",
   "metadata": {},
   "outputs": [
    {
     "data": {
      "text/html": [
       "<div>\n",
       "<style scoped>\n",
       "    .dataframe tbody tr th:only-of-type {\n",
       "        vertical-align: middle;\n",
       "    }\n",
       "\n",
       "    .dataframe tbody tr th {\n",
       "        vertical-align: top;\n",
       "    }\n",
       "\n",
       "    .dataframe thead th {\n",
       "        text-align: right;\n",
       "    }\n",
       "</style>\n",
       "<table border=\"1\" class=\"dataframe\">\n",
       "  <thead>\n",
       "    <tr style=\"text-align: right;\">\n",
       "      <th></th>\n",
       "      <th>LocationID</th>\n",
       "      <th>Borough</th>\n",
       "      <th>Zone</th>\n",
       "      <th>service_zone</th>\n",
       "    </tr>\n",
       "  </thead>\n",
       "  <tbody>\n",
       "    <tr>\n",
       "      <th>0</th>\n",
       "      <td>1</td>\n",
       "      <td>EWR</td>\n",
       "      <td>Newark Airport</td>\n",
       "      <td>EWR</td>\n",
       "    </tr>\n",
       "    <tr>\n",
       "      <th>1</th>\n",
       "      <td>2</td>\n",
       "      <td>Queens</td>\n",
       "      <td>Jamaica Bay</td>\n",
       "      <td>Boro Zone</td>\n",
       "    </tr>\n",
       "    <tr>\n",
       "      <th>2</th>\n",
       "      <td>3</td>\n",
       "      <td>Bronx</td>\n",
       "      <td>Allerton/Pelham Gardens</td>\n",
       "      <td>Boro Zone</td>\n",
       "    </tr>\n",
       "    <tr>\n",
       "      <th>3</th>\n",
       "      <td>4</td>\n",
       "      <td>Manhattan</td>\n",
       "      <td>Alphabet City</td>\n",
       "      <td>Yellow Zone</td>\n",
       "    </tr>\n",
       "    <tr>\n",
       "      <th>4</th>\n",
       "      <td>5</td>\n",
       "      <td>Staten Island</td>\n",
       "      <td>Arden Heights</td>\n",
       "      <td>Boro Zone</td>\n",
       "    </tr>\n",
       "    <tr>\n",
       "      <th>...</th>\n",
       "      <td>...</td>\n",
       "      <td>...</td>\n",
       "      <td>...</td>\n",
       "      <td>...</td>\n",
       "    </tr>\n",
       "    <tr>\n",
       "      <th>260</th>\n",
       "      <td>261</td>\n",
       "      <td>Manhattan</td>\n",
       "      <td>World Trade Center</td>\n",
       "      <td>Yellow Zone</td>\n",
       "    </tr>\n",
       "    <tr>\n",
       "      <th>261</th>\n",
       "      <td>262</td>\n",
       "      <td>Manhattan</td>\n",
       "      <td>Yorkville East</td>\n",
       "      <td>Yellow Zone</td>\n",
       "    </tr>\n",
       "    <tr>\n",
       "      <th>262</th>\n",
       "      <td>263</td>\n",
       "      <td>Manhattan</td>\n",
       "      <td>Yorkville West</td>\n",
       "      <td>Yellow Zone</td>\n",
       "    </tr>\n",
       "    <tr>\n",
       "      <th>263</th>\n",
       "      <td>264</td>\n",
       "      <td>Unknown</td>\n",
       "      <td>NV</td>\n",
       "      <td>NaN</td>\n",
       "    </tr>\n",
       "    <tr>\n",
       "      <th>264</th>\n",
       "      <td>265</td>\n",
       "      <td>Unknown</td>\n",
       "      <td>NaN</td>\n",
       "      <td>NaN</td>\n",
       "    </tr>\n",
       "  </tbody>\n",
       "</table>\n",
       "<p>265 rows × 4 columns</p>\n",
       "</div>"
      ],
      "text/plain": [
       "     LocationID        Borough                     Zone service_zone\n",
       "0             1            EWR           Newark Airport          EWR\n",
       "1             2         Queens              Jamaica Bay    Boro Zone\n",
       "2             3          Bronx  Allerton/Pelham Gardens    Boro Zone\n",
       "3             4      Manhattan            Alphabet City  Yellow Zone\n",
       "4             5  Staten Island            Arden Heights    Boro Zone\n",
       "..          ...            ...                      ...          ...\n",
       "260         261      Manhattan       World Trade Center  Yellow Zone\n",
       "261         262      Manhattan           Yorkville East  Yellow Zone\n",
       "262         263      Manhattan           Yorkville West  Yellow Zone\n",
       "263         264        Unknown                       NV          NaN\n",
       "264         265        Unknown                      NaN          NaN\n",
       "\n",
       "[265 rows x 4 columns]"
      ]
     },
     "execution_count": 4,
     "metadata": {},
     "output_type": "execute_result"
    }
   ],
   "source": [
    "#Loading the dataset and storing it in a variable\n",
    "\n",
    "a = pd.read_csv(\"taxi _zone_lookup.csv\")\n",
    "a"
   ]
  },
  {
   "cell_type": "code",
   "execution_count": 3,
   "id": "79147aa0",
   "metadata": {
    "scrolled": true
   },
   "outputs": [
    {
     "data": {
      "text/plain": [
       "LocationID      0\n",
       "Borough         0\n",
       "Zone            1\n",
       "service_zone    2\n",
       "dtype: int64"
      ]
     },
     "execution_count": 3,
     "metadata": {},
     "output_type": "execute_result"
    }
   ],
   "source": [
    "a.isnull().sum()                                                     #To check if there are any null values"
   ]
  },
  {
   "cell_type": "code",
   "execution_count": 7,
   "id": "2f2dc063",
   "metadata": {},
   "outputs": [
    {
     "data": {
      "text/html": [
       "<div>\n",
       "<style scoped>\n",
       "    .dataframe tbody tr th:only-of-type {\n",
       "        vertical-align: middle;\n",
       "    }\n",
       "\n",
       "    .dataframe tbody tr th {\n",
       "        vertical-align: top;\n",
       "    }\n",
       "\n",
       "    .dataframe thead th {\n",
       "        text-align: right;\n",
       "    }\n",
       "</style>\n",
       "<table border=\"1\" class=\"dataframe\">\n",
       "  <thead>\n",
       "    <tr style=\"text-align: right;\">\n",
       "      <th></th>\n",
       "      <th>LocationID</th>\n",
       "      <th>Borough</th>\n",
       "      <th>Zone</th>\n",
       "      <th>service_zone</th>\n",
       "    </tr>\n",
       "  </thead>\n",
       "  <tbody>\n",
       "    <tr>\n",
       "      <th>0</th>\n",
       "      <td>1</td>\n",
       "      <td>EWR</td>\n",
       "      <td>Newark Airport</td>\n",
       "      <td>EWR</td>\n",
       "    </tr>\n",
       "    <tr>\n",
       "      <th>1</th>\n",
       "      <td>2</td>\n",
       "      <td>Queens</td>\n",
       "      <td>Jamaica Bay</td>\n",
       "      <td>Boro Zone</td>\n",
       "    </tr>\n",
       "    <tr>\n",
       "      <th>2</th>\n",
       "      <td>3</td>\n",
       "      <td>Bronx</td>\n",
       "      <td>Allerton/Pelham Gardens</td>\n",
       "      <td>Boro Zone</td>\n",
       "    </tr>\n",
       "    <tr>\n",
       "      <th>3</th>\n",
       "      <td>4</td>\n",
       "      <td>Manhattan</td>\n",
       "      <td>Alphabet City</td>\n",
       "      <td>Yellow Zone</td>\n",
       "    </tr>\n",
       "    <tr>\n",
       "      <th>4</th>\n",
       "      <td>5</td>\n",
       "      <td>Staten Island</td>\n",
       "      <td>Arden Heights</td>\n",
       "      <td>Boro Zone</td>\n",
       "    </tr>\n",
       "    <tr>\n",
       "      <th>...</th>\n",
       "      <td>...</td>\n",
       "      <td>...</td>\n",
       "      <td>...</td>\n",
       "      <td>...</td>\n",
       "    </tr>\n",
       "    <tr>\n",
       "      <th>258</th>\n",
       "      <td>259</td>\n",
       "      <td>Bronx</td>\n",
       "      <td>Woodlawn/Wakefield</td>\n",
       "      <td>Boro Zone</td>\n",
       "    </tr>\n",
       "    <tr>\n",
       "      <th>259</th>\n",
       "      <td>260</td>\n",
       "      <td>Queens</td>\n",
       "      <td>Woodside</td>\n",
       "      <td>Boro Zone</td>\n",
       "    </tr>\n",
       "    <tr>\n",
       "      <th>260</th>\n",
       "      <td>261</td>\n",
       "      <td>Manhattan</td>\n",
       "      <td>World Trade Center</td>\n",
       "      <td>Yellow Zone</td>\n",
       "    </tr>\n",
       "    <tr>\n",
       "      <th>261</th>\n",
       "      <td>262</td>\n",
       "      <td>Manhattan</td>\n",
       "      <td>Yorkville East</td>\n",
       "      <td>Yellow Zone</td>\n",
       "    </tr>\n",
       "    <tr>\n",
       "      <th>262</th>\n",
       "      <td>263</td>\n",
       "      <td>Manhattan</td>\n",
       "      <td>Yorkville West</td>\n",
       "      <td>Yellow Zone</td>\n",
       "    </tr>\n",
       "  </tbody>\n",
       "</table>\n",
       "<p>263 rows × 4 columns</p>\n",
       "</div>"
      ],
      "text/plain": [
       "     LocationID        Borough                     Zone service_zone\n",
       "0             1            EWR           Newark Airport          EWR\n",
       "1             2         Queens              Jamaica Bay    Boro Zone\n",
       "2             3          Bronx  Allerton/Pelham Gardens    Boro Zone\n",
       "3             4      Manhattan            Alphabet City  Yellow Zone\n",
       "4             5  Staten Island            Arden Heights    Boro Zone\n",
       "..          ...            ...                      ...          ...\n",
       "258         259          Bronx       Woodlawn/Wakefield    Boro Zone\n",
       "259         260         Queens                 Woodside    Boro Zone\n",
       "260         261      Manhattan       World Trade Center  Yellow Zone\n",
       "261         262      Manhattan           Yorkville East  Yellow Zone\n",
       "262         263      Manhattan           Yorkville West  Yellow Zone\n",
       "\n",
       "[263 rows x 4 columns]"
      ]
     },
     "execution_count": 7,
     "metadata": {},
     "output_type": "execute_result"
    }
   ],
   "source": [
    "b=a.dropna(how=\"any\")                                              # To remove all rows containing null values\n",
    "b"
   ]
  },
  {
   "cell_type": "code",
   "execution_count": 5,
   "id": "d8594b9f",
   "metadata": {},
   "outputs": [
    {
     "name": "stdout",
     "output_type": "stream",
     "text": [
      "<class 'pandas.core.frame.DataFrame'>\n",
      "Int64Index: 263 entries, 0 to 262\n",
      "Data columns (total 4 columns):\n",
      " #   Column        Non-Null Count  Dtype \n",
      "---  ------        --------------  ----- \n",
      " 0   LocationID    263 non-null    int64 \n",
      " 1   Borough       263 non-null    object\n",
      " 2   Zone          263 non-null    object\n",
      " 3   service_zone  263 non-null    object\n",
      "dtypes: int64(1), object(3)\n",
      "memory usage: 10.3+ KB\n"
     ]
    }
   ],
   "source": [
    "b.info()                                                         #To get information"
   ]
  },
  {
   "cell_type": "code",
   "execution_count": 6,
   "id": "de468170",
   "metadata": {
    "scrolled": true
   },
   "outputs": [
    {
     "data": {
      "text/html": [
       "<div>\n",
       "<style scoped>\n",
       "    .dataframe tbody tr th:only-of-type {\n",
       "        vertical-align: middle;\n",
       "    }\n",
       "\n",
       "    .dataframe tbody tr th {\n",
       "        vertical-align: top;\n",
       "    }\n",
       "\n",
       "    .dataframe thead th {\n",
       "        text-align: right;\n",
       "    }\n",
       "</style>\n",
       "<table border=\"1\" class=\"dataframe\">\n",
       "  <thead>\n",
       "    <tr style=\"text-align: right;\">\n",
       "      <th></th>\n",
       "      <th>LocationID</th>\n",
       "    </tr>\n",
       "  </thead>\n",
       "  <tbody>\n",
       "    <tr>\n",
       "      <th>count</th>\n",
       "      <td>263.000000</td>\n",
       "    </tr>\n",
       "    <tr>\n",
       "      <th>mean</th>\n",
       "      <td>132.000000</td>\n",
       "    </tr>\n",
       "    <tr>\n",
       "      <th>std</th>\n",
       "      <td>76.065761</td>\n",
       "    </tr>\n",
       "    <tr>\n",
       "      <th>min</th>\n",
       "      <td>1.000000</td>\n",
       "    </tr>\n",
       "    <tr>\n",
       "      <th>25%</th>\n",
       "      <td>66.500000</td>\n",
       "    </tr>\n",
       "    <tr>\n",
       "      <th>50%</th>\n",
       "      <td>132.000000</td>\n",
       "    </tr>\n",
       "    <tr>\n",
       "      <th>75%</th>\n",
       "      <td>197.500000</td>\n",
       "    </tr>\n",
       "    <tr>\n",
       "      <th>max</th>\n",
       "      <td>263.000000</td>\n",
       "    </tr>\n",
       "  </tbody>\n",
       "</table>\n",
       "</div>"
      ],
      "text/plain": [
       "       LocationID\n",
       "count  263.000000\n",
       "mean   132.000000\n",
       "std     76.065761\n",
       "min      1.000000\n",
       "25%     66.500000\n",
       "50%    132.000000\n",
       "75%    197.500000\n",
       "max    263.000000"
      ]
     },
     "execution_count": 6,
     "metadata": {},
     "output_type": "execute_result"
    }
   ],
   "source": [
    "b.describe()                                                      #To describe set(like max,min,mean,count......)"
   ]
  },
  {
   "cell_type": "code",
   "execution_count": 7,
   "id": "c746d158",
   "metadata": {},
   "outputs": [
    {
     "data": {
      "text/plain": [
       "(263, 4)"
      ]
     },
     "execution_count": 7,
     "metadata": {},
     "output_type": "execute_result"
    }
   ],
   "source": [
    "b.shape                                             #To find the number of rows and columns."
   ]
  },
  {
   "cell_type": "code",
   "execution_count": 8,
   "id": "70c47ce0",
   "metadata": {},
   "outputs": [
    {
     "data": {
      "text/plain": [
       "LocationID      263\n",
       "Borough         263\n",
       "Zone            263\n",
       "service_zone    263\n",
       "dtype: int64"
      ]
     },
     "execution_count": 8,
     "metadata": {},
     "output_type": "execute_result"
    }
   ],
   "source": [
    "b.count()                                          #To count the number of each columns and rows"
   ]
  },
  {
   "cell_type": "code",
   "execution_count": 9,
   "id": "9203dca1",
   "metadata": {},
   "outputs": [
    {
     "data": {
      "text/html": [
       "<div>\n",
       "<style scoped>\n",
       "    .dataframe tbody tr th:only-of-type {\n",
       "        vertical-align: middle;\n",
       "    }\n",
       "\n",
       "    .dataframe tbody tr th {\n",
       "        vertical-align: top;\n",
       "    }\n",
       "\n",
       "    .dataframe thead th {\n",
       "        text-align: right;\n",
       "    }\n",
       "</style>\n",
       "<table border=\"1\" class=\"dataframe\">\n",
       "  <thead>\n",
       "    <tr style=\"text-align: right;\">\n",
       "      <th></th>\n",
       "      <th>LocationID</th>\n",
       "      <th>Borough</th>\n",
       "      <th>Zone</th>\n",
       "      <th>service_zone</th>\n",
       "    </tr>\n",
       "  </thead>\n",
       "  <tbody>\n",
       "    <tr>\n",
       "      <th>0</th>\n",
       "      <td>1</td>\n",
       "      <td>EWR</td>\n",
       "      <td>Newark Airport</td>\n",
       "      <td>EWR</td>\n",
       "    </tr>\n",
       "    <tr>\n",
       "      <th>1</th>\n",
       "      <td>2</td>\n",
       "      <td>Queens</td>\n",
       "      <td>Jamaica Bay</td>\n",
       "      <td>Boro Zone</td>\n",
       "    </tr>\n",
       "    <tr>\n",
       "      <th>2</th>\n",
       "      <td>3</td>\n",
       "      <td>Bronx</td>\n",
       "      <td>Allerton/Pelham Gardens</td>\n",
       "      <td>Boro Zone</td>\n",
       "    </tr>\n",
       "    <tr>\n",
       "      <th>3</th>\n",
       "      <td>4</td>\n",
       "      <td>Manhattan</td>\n",
       "      <td>Alphabet City</td>\n",
       "      <td>Yellow Zone</td>\n",
       "    </tr>\n",
       "    <tr>\n",
       "      <th>4</th>\n",
       "      <td>5</td>\n",
       "      <td>Staten Island</td>\n",
       "      <td>Arden Heights</td>\n",
       "      <td>Boro Zone</td>\n",
       "    </tr>\n",
       "  </tbody>\n",
       "</table>\n",
       "</div>"
      ],
      "text/plain": [
       "   LocationID        Borough                     Zone service_zone\n",
       "0           1            EWR           Newark Airport          EWR\n",
       "1           2         Queens              Jamaica Bay    Boro Zone\n",
       "2           3          Bronx  Allerton/Pelham Gardens    Boro Zone\n",
       "3           4      Manhattan            Alphabet City  Yellow Zone\n",
       "4           5  Staten Island            Arden Heights    Boro Zone"
      ]
     },
     "execution_count": 9,
     "metadata": {},
     "output_type": "execute_result"
    }
   ],
   "source": [
    "b.head() #first 5 values"
   ]
  },
  {
   "cell_type": "code",
   "execution_count": 10,
   "id": "5bf7b27f",
   "metadata": {},
   "outputs": [
    {
     "data": {
      "text/html": [
       "<div>\n",
       "<style scoped>\n",
       "    .dataframe tbody tr th:only-of-type {\n",
       "        vertical-align: middle;\n",
       "    }\n",
       "\n",
       "    .dataframe tbody tr th {\n",
       "        vertical-align: top;\n",
       "    }\n",
       "\n",
       "    .dataframe thead th {\n",
       "        text-align: right;\n",
       "    }\n",
       "</style>\n",
       "<table border=\"1\" class=\"dataframe\">\n",
       "  <thead>\n",
       "    <tr style=\"text-align: right;\">\n",
       "      <th></th>\n",
       "      <th>LocationID</th>\n",
       "      <th>Borough</th>\n",
       "      <th>Zone</th>\n",
       "      <th>service_zone</th>\n",
       "    </tr>\n",
       "  </thead>\n",
       "  <tbody>\n",
       "    <tr>\n",
       "      <th>258</th>\n",
       "      <td>259</td>\n",
       "      <td>Bronx</td>\n",
       "      <td>Woodlawn/Wakefield</td>\n",
       "      <td>Boro Zone</td>\n",
       "    </tr>\n",
       "    <tr>\n",
       "      <th>259</th>\n",
       "      <td>260</td>\n",
       "      <td>Queens</td>\n",
       "      <td>Woodside</td>\n",
       "      <td>Boro Zone</td>\n",
       "    </tr>\n",
       "    <tr>\n",
       "      <th>260</th>\n",
       "      <td>261</td>\n",
       "      <td>Manhattan</td>\n",
       "      <td>World Trade Center</td>\n",
       "      <td>Yellow Zone</td>\n",
       "    </tr>\n",
       "    <tr>\n",
       "      <th>261</th>\n",
       "      <td>262</td>\n",
       "      <td>Manhattan</td>\n",
       "      <td>Yorkville East</td>\n",
       "      <td>Yellow Zone</td>\n",
       "    </tr>\n",
       "    <tr>\n",
       "      <th>262</th>\n",
       "      <td>263</td>\n",
       "      <td>Manhattan</td>\n",
       "      <td>Yorkville West</td>\n",
       "      <td>Yellow Zone</td>\n",
       "    </tr>\n",
       "  </tbody>\n",
       "</table>\n",
       "</div>"
      ],
      "text/plain": [
       "     LocationID    Borough                Zone service_zone\n",
       "258         259      Bronx  Woodlawn/Wakefield    Boro Zone\n",
       "259         260     Queens            Woodside    Boro Zone\n",
       "260         261  Manhattan  World Trade Center  Yellow Zone\n",
       "261         262  Manhattan      Yorkville East  Yellow Zone\n",
       "262         263  Manhattan      Yorkville West  Yellow Zone"
      ]
     },
     "execution_count": 10,
     "metadata": {},
     "output_type": "execute_result"
    }
   ],
   "source": [
    "b.tail() # last 5 values"
   ]
  },
  {
   "cell_type": "code",
   "execution_count": 11,
   "id": "0275a925",
   "metadata": {},
   "outputs": [
    {
     "data": {
      "text/plain": [
       "LocationID                            1\n",
       "Borough                           Bronx\n",
       "Zone            Allerton/Pelham Gardens\n",
       "service_zone                   Airports\n",
       "dtype: object"
      ]
     },
     "execution_count": 11,
     "metadata": {},
     "output_type": "execute_result"
    }
   ],
   "source": [
    "b.min()  #minimum"
   ]
  },
  {
   "cell_type": "code",
   "execution_count": 12,
   "id": "a8bdf4c5",
   "metadata": {},
   "outputs": [
    {
     "data": {
      "text/plain": [
       "LocationID                 263\n",
       "Borough          Staten Island\n",
       "Zone            Yorkville West\n",
       "service_zone       Yellow Zone\n",
       "dtype: object"
      ]
     },
     "execution_count": 12,
     "metadata": {},
     "output_type": "execute_result"
    }
   ],
   "source": [
    "b.max() #maximum"
   ]
  },
  {
   "cell_type": "markdown",
   "id": "b12967b6",
   "metadata": {},
   "source": [
    "# Visualization"
   ]
  },
  {
   "cell_type": "code",
   "execution_count": 13,
   "id": "e99e6c49",
   "metadata": {},
   "outputs": [
    {
     "data": {
      "text/html": [
       "<div>\n",
       "<style scoped>\n",
       "    .dataframe tbody tr th:only-of-type {\n",
       "        vertical-align: middle;\n",
       "    }\n",
       "\n",
       "    .dataframe tbody tr th {\n",
       "        vertical-align: top;\n",
       "    }\n",
       "\n",
       "    .dataframe thead th {\n",
       "        text-align: right;\n",
       "    }\n",
       "</style>\n",
       "<table border=\"1\" class=\"dataframe\">\n",
       "  <thead>\n",
       "    <tr style=\"text-align: right;\">\n",
       "      <th></th>\n",
       "      <th>LocationID</th>\n",
       "      <th>Borough</th>\n",
       "      <th>Zone</th>\n",
       "      <th>service_zone</th>\n",
       "    </tr>\n",
       "  </thead>\n",
       "  <tbody>\n",
       "    <tr>\n",
       "      <th>0</th>\n",
       "      <td>1</td>\n",
       "      <td>EWR</td>\n",
       "      <td>Newark Airport</td>\n",
       "      <td>EWR</td>\n",
       "    </tr>\n",
       "    <tr>\n",
       "      <th>1</th>\n",
       "      <td>2</td>\n",
       "      <td>Queens</td>\n",
       "      <td>Jamaica Bay</td>\n",
       "      <td>Boro Zone</td>\n",
       "    </tr>\n",
       "    <tr>\n",
       "      <th>2</th>\n",
       "      <td>3</td>\n",
       "      <td>Bronx</td>\n",
       "      <td>Allerton/Pelham Gardens</td>\n",
       "      <td>Boro Zone</td>\n",
       "    </tr>\n",
       "    <tr>\n",
       "      <th>3</th>\n",
       "      <td>4</td>\n",
       "      <td>Manhattan</td>\n",
       "      <td>Alphabet City</td>\n",
       "      <td>Yellow Zone</td>\n",
       "    </tr>\n",
       "    <tr>\n",
       "      <th>4</th>\n",
       "      <td>5</td>\n",
       "      <td>Staten Island</td>\n",
       "      <td>Arden Heights</td>\n",
       "      <td>Boro Zone</td>\n",
       "    </tr>\n",
       "    <tr>\n",
       "      <th>...</th>\n",
       "      <td>...</td>\n",
       "      <td>...</td>\n",
       "      <td>...</td>\n",
       "      <td>...</td>\n",
       "    </tr>\n",
       "    <tr>\n",
       "      <th>258</th>\n",
       "      <td>259</td>\n",
       "      <td>Bronx</td>\n",
       "      <td>Woodlawn/Wakefield</td>\n",
       "      <td>Boro Zone</td>\n",
       "    </tr>\n",
       "    <tr>\n",
       "      <th>259</th>\n",
       "      <td>260</td>\n",
       "      <td>Queens</td>\n",
       "      <td>Woodside</td>\n",
       "      <td>Boro Zone</td>\n",
       "    </tr>\n",
       "    <tr>\n",
       "      <th>260</th>\n",
       "      <td>261</td>\n",
       "      <td>Manhattan</td>\n",
       "      <td>World Trade Center</td>\n",
       "      <td>Yellow Zone</td>\n",
       "    </tr>\n",
       "    <tr>\n",
       "      <th>261</th>\n",
       "      <td>262</td>\n",
       "      <td>Manhattan</td>\n",
       "      <td>Yorkville East</td>\n",
       "      <td>Yellow Zone</td>\n",
       "    </tr>\n",
       "    <tr>\n",
       "      <th>262</th>\n",
       "      <td>263</td>\n",
       "      <td>Manhattan</td>\n",
       "      <td>Yorkville West</td>\n",
       "      <td>Yellow Zone</td>\n",
       "    </tr>\n",
       "  </tbody>\n",
       "</table>\n",
       "<p>263 rows × 4 columns</p>\n",
       "</div>"
      ],
      "text/plain": [
       "     LocationID        Borough                     Zone service_zone\n",
       "0             1            EWR           Newark Airport          EWR\n",
       "1             2         Queens              Jamaica Bay    Boro Zone\n",
       "2             3          Bronx  Allerton/Pelham Gardens    Boro Zone\n",
       "3             4      Manhattan            Alphabet City  Yellow Zone\n",
       "4             5  Staten Island            Arden Heights    Boro Zone\n",
       "..          ...            ...                      ...          ...\n",
       "258         259          Bronx       Woodlawn/Wakefield    Boro Zone\n",
       "259         260         Queens                 Woodside    Boro Zone\n",
       "260         261      Manhattan       World Trade Center  Yellow Zone\n",
       "261         262      Manhattan           Yorkville East  Yellow Zone\n",
       "262         263      Manhattan           Yorkville West  Yellow Zone\n",
       "\n",
       "[263 rows x 4 columns]"
      ]
     },
     "execution_count": 13,
     "metadata": {},
     "output_type": "execute_result"
    }
   ],
   "source": [
    "b"
   ]
  },
  {
   "cell_type": "code",
   "execution_count": 14,
   "id": "2d2d8e0c",
   "metadata": {},
   "outputs": [
    {
     "data": {
      "text/html": [
       "<div>\n",
       "<style scoped>\n",
       "    .dataframe tbody tr th:only-of-type {\n",
       "        vertical-align: middle;\n",
       "    }\n",
       "\n",
       "    .dataframe tbody tr th {\n",
       "        vertical-align: top;\n",
       "    }\n",
       "\n",
       "    .dataframe thead th {\n",
       "        text-align: right;\n",
       "    }\n",
       "</style>\n",
       "<table border=\"1\" class=\"dataframe\">\n",
       "  <thead>\n",
       "    <tr style=\"text-align: right;\">\n",
       "      <th></th>\n",
       "      <th>LocationID</th>\n",
       "      <th>Borough</th>\n",
       "      <th>Zone</th>\n",
       "      <th>service_zone</th>\n",
       "    </tr>\n",
       "  </thead>\n",
       "  <tbody>\n",
       "    <tr>\n",
       "      <th>0</th>\n",
       "      <td>1</td>\n",
       "      <td>EWR</td>\n",
       "      <td>Newark Airport</td>\n",
       "      <td>EWR</td>\n",
       "    </tr>\n",
       "  </tbody>\n",
       "</table>\n",
       "</div>"
      ],
      "text/plain": [
       "   LocationID Borough            Zone service_zone\n",
       "0           1     EWR  Newark Airport          EWR"
      ]
     },
     "execution_count": 14,
     "metadata": {},
     "output_type": "execute_result"
    }
   ],
   "source": [
    "EWR=b[b['Borough']==\"EWR\"]                                       # Borough - EWR\n",
    "EWR"
   ]
  },
  {
   "cell_type": "code",
   "execution_count": 15,
   "id": "4a40ade0",
   "metadata": {},
   "outputs": [
    {
     "data": {
      "text/html": [
       "<div>\n",
       "<style scoped>\n",
       "    .dataframe tbody tr th:only-of-type {\n",
       "        vertical-align: middle;\n",
       "    }\n",
       "\n",
       "    .dataframe tbody tr th {\n",
       "        vertical-align: top;\n",
       "    }\n",
       "\n",
       "    .dataframe thead th {\n",
       "        text-align: right;\n",
       "    }\n",
       "</style>\n",
       "<table border=\"1\" class=\"dataframe\">\n",
       "  <thead>\n",
       "    <tr style=\"text-align: right;\">\n",
       "      <th></th>\n",
       "      <th>LocationID</th>\n",
       "      <th>Borough</th>\n",
       "      <th>Zone</th>\n",
       "      <th>service_zone</th>\n",
       "    </tr>\n",
       "  </thead>\n",
       "  <tbody>\n",
       "    <tr>\n",
       "      <th>1</th>\n",
       "      <td>2</td>\n",
       "      <td>Queens</td>\n",
       "      <td>Jamaica Bay</td>\n",
       "      <td>Boro Zone</td>\n",
       "    </tr>\n",
       "    <tr>\n",
       "      <th>6</th>\n",
       "      <td>7</td>\n",
       "      <td>Queens</td>\n",
       "      <td>Astoria</td>\n",
       "      <td>Boro Zone</td>\n",
       "    </tr>\n",
       "    <tr>\n",
       "      <th>7</th>\n",
       "      <td>8</td>\n",
       "      <td>Queens</td>\n",
       "      <td>Astoria Park</td>\n",
       "      <td>Boro Zone</td>\n",
       "    </tr>\n",
       "    <tr>\n",
       "      <th>8</th>\n",
       "      <td>9</td>\n",
       "      <td>Queens</td>\n",
       "      <td>Auburndale</td>\n",
       "      <td>Boro Zone</td>\n",
       "    </tr>\n",
       "    <tr>\n",
       "      <th>9</th>\n",
       "      <td>10</td>\n",
       "      <td>Queens</td>\n",
       "      <td>Baisley Park</td>\n",
       "      <td>Boro Zone</td>\n",
       "    </tr>\n",
       "    <tr>\n",
       "      <th>...</th>\n",
       "      <td>...</td>\n",
       "      <td>...</td>\n",
       "      <td>...</td>\n",
       "      <td>...</td>\n",
       "    </tr>\n",
       "    <tr>\n",
       "      <th>225</th>\n",
       "      <td>226</td>\n",
       "      <td>Queens</td>\n",
       "      <td>Sunnyside</td>\n",
       "      <td>Boro Zone</td>\n",
       "    </tr>\n",
       "    <tr>\n",
       "      <th>251</th>\n",
       "      <td>252</td>\n",
       "      <td>Queens</td>\n",
       "      <td>Whitestone</td>\n",
       "      <td>Boro Zone</td>\n",
       "    </tr>\n",
       "    <tr>\n",
       "      <th>252</th>\n",
       "      <td>253</td>\n",
       "      <td>Queens</td>\n",
       "      <td>Willets Point</td>\n",
       "      <td>Boro Zone</td>\n",
       "    </tr>\n",
       "    <tr>\n",
       "      <th>257</th>\n",
       "      <td>258</td>\n",
       "      <td>Queens</td>\n",
       "      <td>Woodhaven</td>\n",
       "      <td>Boro Zone</td>\n",
       "    </tr>\n",
       "    <tr>\n",
       "      <th>259</th>\n",
       "      <td>260</td>\n",
       "      <td>Queens</td>\n",
       "      <td>Woodside</td>\n",
       "      <td>Boro Zone</td>\n",
       "    </tr>\n",
       "  </tbody>\n",
       "</table>\n",
       "<p>69 rows × 4 columns</p>\n",
       "</div>"
      ],
      "text/plain": [
       "     LocationID Borough           Zone service_zone\n",
       "1             2  Queens    Jamaica Bay    Boro Zone\n",
       "6             7  Queens        Astoria    Boro Zone\n",
       "7             8  Queens   Astoria Park    Boro Zone\n",
       "8             9  Queens     Auburndale    Boro Zone\n",
       "9            10  Queens   Baisley Park    Boro Zone\n",
       "..          ...     ...            ...          ...\n",
       "225         226  Queens      Sunnyside    Boro Zone\n",
       "251         252  Queens     Whitestone    Boro Zone\n",
       "252         253  Queens  Willets Point    Boro Zone\n",
       "257         258  Queens      Woodhaven    Boro Zone\n",
       "259         260  Queens       Woodside    Boro Zone\n",
       "\n",
       "[69 rows x 4 columns]"
      ]
     },
     "execution_count": 15,
     "metadata": {},
     "output_type": "execute_result"
    }
   ],
   "source": [
    "QNS=b[b['Borough']==\"Queens\"]                                    # Borough - Queens\n",
    "QNS"
   ]
  },
  {
   "cell_type": "code",
   "execution_count": 16,
   "id": "71e791d1",
   "metadata": {},
   "outputs": [
    {
     "data": {
      "text/html": [
       "<div>\n",
       "<style scoped>\n",
       "    .dataframe tbody tr th:only-of-type {\n",
       "        vertical-align: middle;\n",
       "    }\n",
       "\n",
       "    .dataframe tbody tr th {\n",
       "        vertical-align: top;\n",
       "    }\n",
       "\n",
       "    .dataframe thead th {\n",
       "        text-align: right;\n",
       "    }\n",
       "</style>\n",
       "<table border=\"1\" class=\"dataframe\">\n",
       "  <thead>\n",
       "    <tr style=\"text-align: right;\">\n",
       "      <th></th>\n",
       "      <th>LocationID</th>\n",
       "      <th>Borough</th>\n",
       "      <th>Zone</th>\n",
       "      <th>service_zone</th>\n",
       "    </tr>\n",
       "  </thead>\n",
       "  <tbody>\n",
       "    <tr>\n",
       "      <th>2</th>\n",
       "      <td>3</td>\n",
       "      <td>Bronx</td>\n",
       "      <td>Allerton/Pelham Gardens</td>\n",
       "      <td>Boro Zone</td>\n",
       "    </tr>\n",
       "    <tr>\n",
       "      <th>17</th>\n",
       "      <td>18</td>\n",
       "      <td>Bronx</td>\n",
       "      <td>Bedford Park</td>\n",
       "      <td>Boro Zone</td>\n",
       "    </tr>\n",
       "    <tr>\n",
       "      <th>19</th>\n",
       "      <td>20</td>\n",
       "      <td>Bronx</td>\n",
       "      <td>Belmont</td>\n",
       "      <td>Boro Zone</td>\n",
       "    </tr>\n",
       "    <tr>\n",
       "      <th>30</th>\n",
       "      <td>31</td>\n",
       "      <td>Bronx</td>\n",
       "      <td>Bronx Park</td>\n",
       "      <td>Boro Zone</td>\n",
       "    </tr>\n",
       "    <tr>\n",
       "      <th>31</th>\n",
       "      <td>32</td>\n",
       "      <td>Bronx</td>\n",
       "      <td>Bronxdale</td>\n",
       "      <td>Boro Zone</td>\n",
       "    </tr>\n",
       "    <tr>\n",
       "      <th>45</th>\n",
       "      <td>46</td>\n",
       "      <td>Bronx</td>\n",
       "      <td>City Island</td>\n",
       "      <td>Boro Zone</td>\n",
       "    </tr>\n",
       "    <tr>\n",
       "      <th>46</th>\n",
       "      <td>47</td>\n",
       "      <td>Bronx</td>\n",
       "      <td>Claremont/Bathgate</td>\n",
       "      <td>Boro Zone</td>\n",
       "    </tr>\n",
       "    <tr>\n",
       "      <th>50</th>\n",
       "      <td>51</td>\n",
       "      <td>Bronx</td>\n",
       "      <td>Co-Op City</td>\n",
       "      <td>Boro Zone</td>\n",
       "    </tr>\n",
       "    <tr>\n",
       "      <th>57</th>\n",
       "      <td>58</td>\n",
       "      <td>Bronx</td>\n",
       "      <td>Country Club</td>\n",
       "      <td>Boro Zone</td>\n",
       "    </tr>\n",
       "    <tr>\n",
       "      <th>58</th>\n",
       "      <td>59</td>\n",
       "      <td>Bronx</td>\n",
       "      <td>Crotona Park</td>\n",
       "      <td>Boro Zone</td>\n",
       "    </tr>\n",
       "    <tr>\n",
       "      <th>59</th>\n",
       "      <td>60</td>\n",
       "      <td>Bronx</td>\n",
       "      <td>Crotona Park East</td>\n",
       "      <td>Boro Zone</td>\n",
       "    </tr>\n",
       "    <tr>\n",
       "      <th>68</th>\n",
       "      <td>69</td>\n",
       "      <td>Bronx</td>\n",
       "      <td>East Concourse/Concourse Village</td>\n",
       "      <td>Boro Zone</td>\n",
       "    </tr>\n",
       "    <tr>\n",
       "      <th>77</th>\n",
       "      <td>78</td>\n",
       "      <td>Bronx</td>\n",
       "      <td>East Tremont</td>\n",
       "      <td>Boro Zone</td>\n",
       "    </tr>\n",
       "    <tr>\n",
       "      <th>80</th>\n",
       "      <td>81</td>\n",
       "      <td>Bronx</td>\n",
       "      <td>Eastchester</td>\n",
       "      <td>Boro Zone</td>\n",
       "    </tr>\n",
       "    <tr>\n",
       "      <th>93</th>\n",
       "      <td>94</td>\n",
       "      <td>Bronx</td>\n",
       "      <td>Fordham South</td>\n",
       "      <td>Boro Zone</td>\n",
       "    </tr>\n",
       "    <tr>\n",
       "      <th>118</th>\n",
       "      <td>119</td>\n",
       "      <td>Bronx</td>\n",
       "      <td>Highbridge</td>\n",
       "      <td>Boro Zone</td>\n",
       "    </tr>\n",
       "    <tr>\n",
       "      <th>125</th>\n",
       "      <td>126</td>\n",
       "      <td>Bronx</td>\n",
       "      <td>Hunts Point</td>\n",
       "      <td>Boro Zone</td>\n",
       "    </tr>\n",
       "    <tr>\n",
       "      <th>135</th>\n",
       "      <td>136</td>\n",
       "      <td>Bronx</td>\n",
       "      <td>Kingsbridge Heights</td>\n",
       "      <td>Boro Zone</td>\n",
       "    </tr>\n",
       "    <tr>\n",
       "      <th>146</th>\n",
       "      <td>147</td>\n",
       "      <td>Bronx</td>\n",
       "      <td>Longwood</td>\n",
       "      <td>Boro Zone</td>\n",
       "    </tr>\n",
       "    <tr>\n",
       "      <th>158</th>\n",
       "      <td>159</td>\n",
       "      <td>Bronx</td>\n",
       "      <td>Melrose South</td>\n",
       "      <td>Boro Zone</td>\n",
       "    </tr>\n",
       "    <tr>\n",
       "      <th>166</th>\n",
       "      <td>167</td>\n",
       "      <td>Bronx</td>\n",
       "      <td>Morrisania/Melrose</td>\n",
       "      <td>Boro Zone</td>\n",
       "    </tr>\n",
       "    <tr>\n",
       "      <th>167</th>\n",
       "      <td>168</td>\n",
       "      <td>Bronx</td>\n",
       "      <td>Mott Haven/Port Morris</td>\n",
       "      <td>Boro Zone</td>\n",
       "    </tr>\n",
       "    <tr>\n",
       "      <th>168</th>\n",
       "      <td>169</td>\n",
       "      <td>Bronx</td>\n",
       "      <td>Mount Hope</td>\n",
       "      <td>Boro Zone</td>\n",
       "    </tr>\n",
       "    <tr>\n",
       "      <th>173</th>\n",
       "      <td>174</td>\n",
       "      <td>Bronx</td>\n",
       "      <td>Norwood</td>\n",
       "      <td>Boro Zone</td>\n",
       "    </tr>\n",
       "    <tr>\n",
       "      <th>181</th>\n",
       "      <td>182</td>\n",
       "      <td>Bronx</td>\n",
       "      <td>Parkchester</td>\n",
       "      <td>Boro Zone</td>\n",
       "    </tr>\n",
       "    <tr>\n",
       "      <th>182</th>\n",
       "      <td>183</td>\n",
       "      <td>Bronx</td>\n",
       "      <td>Pelham Bay</td>\n",
       "      <td>Boro Zone</td>\n",
       "    </tr>\n",
       "    <tr>\n",
       "      <th>183</th>\n",
       "      <td>184</td>\n",
       "      <td>Bronx</td>\n",
       "      <td>Pelham Bay Park</td>\n",
       "      <td>Boro Zone</td>\n",
       "    </tr>\n",
       "    <tr>\n",
       "      <th>184</th>\n",
       "      <td>185</td>\n",
       "      <td>Bronx</td>\n",
       "      <td>Pelham Parkway</td>\n",
       "      <td>Boro Zone</td>\n",
       "    </tr>\n",
       "    <tr>\n",
       "      <th>198</th>\n",
       "      <td>199</td>\n",
       "      <td>Bronx</td>\n",
       "      <td>Rikers Island</td>\n",
       "      <td>Boro Zone</td>\n",
       "    </tr>\n",
       "    <tr>\n",
       "      <th>199</th>\n",
       "      <td>200</td>\n",
       "      <td>Bronx</td>\n",
       "      <td>Riverdale/North Riverdale/Fieldston</td>\n",
       "      <td>Boro Zone</td>\n",
       "    </tr>\n",
       "    <tr>\n",
       "      <th>207</th>\n",
       "      <td>208</td>\n",
       "      <td>Bronx</td>\n",
       "      <td>Schuylerville/Edgewater Park</td>\n",
       "      <td>Boro Zone</td>\n",
       "    </tr>\n",
       "    <tr>\n",
       "      <th>211</th>\n",
       "      <td>212</td>\n",
       "      <td>Bronx</td>\n",
       "      <td>Soundview/Bruckner</td>\n",
       "      <td>Boro Zone</td>\n",
       "    </tr>\n",
       "    <tr>\n",
       "      <th>212</th>\n",
       "      <td>213</td>\n",
       "      <td>Bronx</td>\n",
       "      <td>Soundview/Castle Hill</td>\n",
       "      <td>Boro Zone</td>\n",
       "    </tr>\n",
       "    <tr>\n",
       "      <th>219</th>\n",
       "      <td>220</td>\n",
       "      <td>Bronx</td>\n",
       "      <td>Spuyten Duyvil/Kingsbridge</td>\n",
       "      <td>Boro Zone</td>\n",
       "    </tr>\n",
       "    <tr>\n",
       "      <th>234</th>\n",
       "      <td>235</td>\n",
       "      <td>Bronx</td>\n",
       "      <td>University Heights/Morris Heights</td>\n",
       "      <td>Boro Zone</td>\n",
       "    </tr>\n",
       "    <tr>\n",
       "      <th>239</th>\n",
       "      <td>240</td>\n",
       "      <td>Bronx</td>\n",
       "      <td>Van Cortlandt Park</td>\n",
       "      <td>Boro Zone</td>\n",
       "    </tr>\n",
       "    <tr>\n",
       "      <th>240</th>\n",
       "      <td>241</td>\n",
       "      <td>Bronx</td>\n",
       "      <td>Van Cortlandt Village</td>\n",
       "      <td>Boro Zone</td>\n",
       "    </tr>\n",
       "    <tr>\n",
       "      <th>241</th>\n",
       "      <td>242</td>\n",
       "      <td>Bronx</td>\n",
       "      <td>Van Nest/Morris Park</td>\n",
       "      <td>Boro Zone</td>\n",
       "    </tr>\n",
       "    <tr>\n",
       "      <th>246</th>\n",
       "      <td>247</td>\n",
       "      <td>Bronx</td>\n",
       "      <td>West Concourse</td>\n",
       "      <td>Boro Zone</td>\n",
       "    </tr>\n",
       "    <tr>\n",
       "      <th>247</th>\n",
       "      <td>248</td>\n",
       "      <td>Bronx</td>\n",
       "      <td>West Farms/Bronx River</td>\n",
       "      <td>Boro Zone</td>\n",
       "    </tr>\n",
       "    <tr>\n",
       "      <th>249</th>\n",
       "      <td>250</td>\n",
       "      <td>Bronx</td>\n",
       "      <td>Westchester Village/Unionport</td>\n",
       "      <td>Boro Zone</td>\n",
       "    </tr>\n",
       "    <tr>\n",
       "      <th>253</th>\n",
       "      <td>254</td>\n",
       "      <td>Bronx</td>\n",
       "      <td>Williamsbridge/Olinville</td>\n",
       "      <td>Boro Zone</td>\n",
       "    </tr>\n",
       "    <tr>\n",
       "      <th>258</th>\n",
       "      <td>259</td>\n",
       "      <td>Bronx</td>\n",
       "      <td>Woodlawn/Wakefield</td>\n",
       "      <td>Boro Zone</td>\n",
       "    </tr>\n",
       "  </tbody>\n",
       "</table>\n",
       "</div>"
      ],
      "text/plain": [
       "     LocationID Borough                                 Zone service_zone\n",
       "2             3   Bronx              Allerton/Pelham Gardens    Boro Zone\n",
       "17           18   Bronx                         Bedford Park    Boro Zone\n",
       "19           20   Bronx                              Belmont    Boro Zone\n",
       "30           31   Bronx                           Bronx Park    Boro Zone\n",
       "31           32   Bronx                            Bronxdale    Boro Zone\n",
       "45           46   Bronx                          City Island    Boro Zone\n",
       "46           47   Bronx                   Claremont/Bathgate    Boro Zone\n",
       "50           51   Bronx                           Co-Op City    Boro Zone\n",
       "57           58   Bronx                         Country Club    Boro Zone\n",
       "58           59   Bronx                         Crotona Park    Boro Zone\n",
       "59           60   Bronx                    Crotona Park East    Boro Zone\n",
       "68           69   Bronx     East Concourse/Concourse Village    Boro Zone\n",
       "77           78   Bronx                         East Tremont    Boro Zone\n",
       "80           81   Bronx                          Eastchester    Boro Zone\n",
       "93           94   Bronx                        Fordham South    Boro Zone\n",
       "118         119   Bronx                           Highbridge    Boro Zone\n",
       "125         126   Bronx                          Hunts Point    Boro Zone\n",
       "135         136   Bronx                  Kingsbridge Heights    Boro Zone\n",
       "146         147   Bronx                             Longwood    Boro Zone\n",
       "158         159   Bronx                        Melrose South    Boro Zone\n",
       "166         167   Bronx                   Morrisania/Melrose    Boro Zone\n",
       "167         168   Bronx               Mott Haven/Port Morris    Boro Zone\n",
       "168         169   Bronx                           Mount Hope    Boro Zone\n",
       "173         174   Bronx                              Norwood    Boro Zone\n",
       "181         182   Bronx                          Parkchester    Boro Zone\n",
       "182         183   Bronx                           Pelham Bay    Boro Zone\n",
       "183         184   Bronx                      Pelham Bay Park    Boro Zone\n",
       "184         185   Bronx                       Pelham Parkway    Boro Zone\n",
       "198         199   Bronx                        Rikers Island    Boro Zone\n",
       "199         200   Bronx  Riverdale/North Riverdale/Fieldston    Boro Zone\n",
       "207         208   Bronx         Schuylerville/Edgewater Park    Boro Zone\n",
       "211         212   Bronx                   Soundview/Bruckner    Boro Zone\n",
       "212         213   Bronx                Soundview/Castle Hill    Boro Zone\n",
       "219         220   Bronx           Spuyten Duyvil/Kingsbridge    Boro Zone\n",
       "234         235   Bronx    University Heights/Morris Heights    Boro Zone\n",
       "239         240   Bronx                   Van Cortlandt Park    Boro Zone\n",
       "240         241   Bronx                Van Cortlandt Village    Boro Zone\n",
       "241         242   Bronx                 Van Nest/Morris Park    Boro Zone\n",
       "246         247   Bronx                       West Concourse    Boro Zone\n",
       "247         248   Bronx               West Farms/Bronx River    Boro Zone\n",
       "249         250   Bronx        Westchester Village/Unionport    Boro Zone\n",
       "253         254   Bronx             Williamsbridge/Olinville    Boro Zone\n",
       "258         259   Bronx                   Woodlawn/Wakefield    Boro Zone"
      ]
     },
     "execution_count": 16,
     "metadata": {},
     "output_type": "execute_result"
    }
   ],
   "source": [
    "BRX=b[b['Borough']==\"Bronx\"]                                  # Borough - Bronx\n",
    "BRX"
   ]
  },
  {
   "cell_type": "code",
   "execution_count": 17,
   "id": "e997965c",
   "metadata": {},
   "outputs": [
    {
     "data": {
      "text/html": [
       "<div>\n",
       "<style scoped>\n",
       "    .dataframe tbody tr th:only-of-type {\n",
       "        vertical-align: middle;\n",
       "    }\n",
       "\n",
       "    .dataframe tbody tr th {\n",
       "        vertical-align: top;\n",
       "    }\n",
       "\n",
       "    .dataframe thead th {\n",
       "        text-align: right;\n",
       "    }\n",
       "</style>\n",
       "<table border=\"1\" class=\"dataframe\">\n",
       "  <thead>\n",
       "    <tr style=\"text-align: right;\">\n",
       "      <th></th>\n",
       "      <th>LocationID</th>\n",
       "      <th>Borough</th>\n",
       "      <th>Zone</th>\n",
       "      <th>service_zone</th>\n",
       "    </tr>\n",
       "  </thead>\n",
       "  <tbody>\n",
       "    <tr>\n",
       "      <th>3</th>\n",
       "      <td>4</td>\n",
       "      <td>Manhattan</td>\n",
       "      <td>Alphabet City</td>\n",
       "      <td>Yellow Zone</td>\n",
       "    </tr>\n",
       "    <tr>\n",
       "      <th>11</th>\n",
       "      <td>12</td>\n",
       "      <td>Manhattan</td>\n",
       "      <td>Battery Park</td>\n",
       "      <td>Yellow Zone</td>\n",
       "    </tr>\n",
       "    <tr>\n",
       "      <th>12</th>\n",
       "      <td>13</td>\n",
       "      <td>Manhattan</td>\n",
       "      <td>Battery Park City</td>\n",
       "      <td>Yellow Zone</td>\n",
       "    </tr>\n",
       "    <tr>\n",
       "      <th>23</th>\n",
       "      <td>24</td>\n",
       "      <td>Manhattan</td>\n",
       "      <td>Bloomingdale</td>\n",
       "      <td>Yellow Zone</td>\n",
       "    </tr>\n",
       "    <tr>\n",
       "      <th>40</th>\n",
       "      <td>41</td>\n",
       "      <td>Manhattan</td>\n",
       "      <td>Central Harlem</td>\n",
       "      <td>Boro Zone</td>\n",
       "    </tr>\n",
       "    <tr>\n",
       "      <th>...</th>\n",
       "      <td>...</td>\n",
       "      <td>...</td>\n",
       "      <td>...</td>\n",
       "      <td>...</td>\n",
       "    </tr>\n",
       "    <tr>\n",
       "      <th>245</th>\n",
       "      <td>246</td>\n",
       "      <td>Manhattan</td>\n",
       "      <td>West Chelsea/Hudson Yards</td>\n",
       "      <td>Yellow Zone</td>\n",
       "    </tr>\n",
       "    <tr>\n",
       "      <th>248</th>\n",
       "      <td>249</td>\n",
       "      <td>Manhattan</td>\n",
       "      <td>West Village</td>\n",
       "      <td>Yellow Zone</td>\n",
       "    </tr>\n",
       "    <tr>\n",
       "      <th>260</th>\n",
       "      <td>261</td>\n",
       "      <td>Manhattan</td>\n",
       "      <td>World Trade Center</td>\n",
       "      <td>Yellow Zone</td>\n",
       "    </tr>\n",
       "    <tr>\n",
       "      <th>261</th>\n",
       "      <td>262</td>\n",
       "      <td>Manhattan</td>\n",
       "      <td>Yorkville East</td>\n",
       "      <td>Yellow Zone</td>\n",
       "    </tr>\n",
       "    <tr>\n",
       "      <th>262</th>\n",
       "      <td>263</td>\n",
       "      <td>Manhattan</td>\n",
       "      <td>Yorkville West</td>\n",
       "      <td>Yellow Zone</td>\n",
       "    </tr>\n",
       "  </tbody>\n",
       "</table>\n",
       "<p>69 rows × 4 columns</p>\n",
       "</div>"
      ],
      "text/plain": [
       "     LocationID    Borough                       Zone service_zone\n",
       "3             4  Manhattan              Alphabet City  Yellow Zone\n",
       "11           12  Manhattan               Battery Park  Yellow Zone\n",
       "12           13  Manhattan          Battery Park City  Yellow Zone\n",
       "23           24  Manhattan               Bloomingdale  Yellow Zone\n",
       "40           41  Manhattan             Central Harlem    Boro Zone\n",
       "..          ...        ...                        ...          ...\n",
       "245         246  Manhattan  West Chelsea/Hudson Yards  Yellow Zone\n",
       "248         249  Manhattan               West Village  Yellow Zone\n",
       "260         261  Manhattan         World Trade Center  Yellow Zone\n",
       "261         262  Manhattan             Yorkville East  Yellow Zone\n",
       "262         263  Manhattan             Yorkville West  Yellow Zone\n",
       "\n",
       "[69 rows x 4 columns]"
      ]
     },
     "execution_count": 17,
     "metadata": {},
     "output_type": "execute_result"
    }
   ],
   "source": [
    "MAN=b[b['Borough']==\"Manhattan\"]                              # Borough - Manhattan\n",
    "MAN"
   ]
  },
  {
   "cell_type": "code",
   "execution_count": 18,
   "id": "27fdcbdf",
   "metadata": {},
   "outputs": [
    {
     "data": {
      "text/html": [
       "<div>\n",
       "<style scoped>\n",
       "    .dataframe tbody tr th:only-of-type {\n",
       "        vertical-align: middle;\n",
       "    }\n",
       "\n",
       "    .dataframe tbody tr th {\n",
       "        vertical-align: top;\n",
       "    }\n",
       "\n",
       "    .dataframe thead th {\n",
       "        text-align: right;\n",
       "    }\n",
       "</style>\n",
       "<table border=\"1\" class=\"dataframe\">\n",
       "  <thead>\n",
       "    <tr style=\"text-align: right;\">\n",
       "      <th></th>\n",
       "      <th>LocationID</th>\n",
       "      <th>Borough</th>\n",
       "      <th>Zone</th>\n",
       "      <th>service_zone</th>\n",
       "    </tr>\n",
       "  </thead>\n",
       "  <tbody>\n",
       "    <tr>\n",
       "      <th>4</th>\n",
       "      <td>5</td>\n",
       "      <td>Staten Island</td>\n",
       "      <td>Arden Heights</td>\n",
       "      <td>Boro Zone</td>\n",
       "    </tr>\n",
       "    <tr>\n",
       "      <th>5</th>\n",
       "      <td>6</td>\n",
       "      <td>Staten Island</td>\n",
       "      <td>Arrochar/Fort Wadsworth</td>\n",
       "      <td>Boro Zone</td>\n",
       "    </tr>\n",
       "    <tr>\n",
       "      <th>22</th>\n",
       "      <td>23</td>\n",
       "      <td>Staten Island</td>\n",
       "      <td>Bloomfield/Emerson Hill</td>\n",
       "      <td>Boro Zone</td>\n",
       "    </tr>\n",
       "    <tr>\n",
       "      <th>43</th>\n",
       "      <td>44</td>\n",
       "      <td>Staten Island</td>\n",
       "      <td>Charleston/Tottenville</td>\n",
       "      <td>Boro Zone</td>\n",
       "    </tr>\n",
       "    <tr>\n",
       "      <th>83</th>\n",
       "      <td>84</td>\n",
       "      <td>Staten Island</td>\n",
       "      <td>Eltingville/Annadale/Prince's Bay</td>\n",
       "      <td>Boro Zone</td>\n",
       "    </tr>\n",
       "    <tr>\n",
       "      <th>98</th>\n",
       "      <td>99</td>\n",
       "      <td>Staten Island</td>\n",
       "      <td>Freshkills Park</td>\n",
       "      <td>Boro Zone</td>\n",
       "    </tr>\n",
       "    <tr>\n",
       "      <th>108</th>\n",
       "      <td>109</td>\n",
       "      <td>Staten Island</td>\n",
       "      <td>Great Kills</td>\n",
       "      <td>Boro Zone</td>\n",
       "    </tr>\n",
       "    <tr>\n",
       "      <th>109</th>\n",
       "      <td>110</td>\n",
       "      <td>Staten Island</td>\n",
       "      <td>Great Kills Park</td>\n",
       "      <td>Boro Zone</td>\n",
       "    </tr>\n",
       "    <tr>\n",
       "      <th>114</th>\n",
       "      <td>115</td>\n",
       "      <td>Staten Island</td>\n",
       "      <td>Grymes Hill/Clifton</td>\n",
       "      <td>Boro Zone</td>\n",
       "    </tr>\n",
       "    <tr>\n",
       "      <th>117</th>\n",
       "      <td>118</td>\n",
       "      <td>Staten Island</td>\n",
       "      <td>Heartland Village/Todt Hill</td>\n",
       "      <td>Boro Zone</td>\n",
       "    </tr>\n",
       "    <tr>\n",
       "      <th>155</th>\n",
       "      <td>156</td>\n",
       "      <td>Staten Island</td>\n",
       "      <td>Mariners Harbor</td>\n",
       "      <td>Boro Zone</td>\n",
       "    </tr>\n",
       "    <tr>\n",
       "      <th>171</th>\n",
       "      <td>172</td>\n",
       "      <td>Staten Island</td>\n",
       "      <td>New Dorp/Midland Beach</td>\n",
       "      <td>Boro Zone</td>\n",
       "    </tr>\n",
       "    <tr>\n",
       "      <th>175</th>\n",
       "      <td>176</td>\n",
       "      <td>Staten Island</td>\n",
       "      <td>Oakwood</td>\n",
       "      <td>Boro Zone</td>\n",
       "    </tr>\n",
       "    <tr>\n",
       "      <th>186</th>\n",
       "      <td>187</td>\n",
       "      <td>Staten Island</td>\n",
       "      <td>Port Richmond</td>\n",
       "      <td>Boro Zone</td>\n",
       "    </tr>\n",
       "    <tr>\n",
       "      <th>203</th>\n",
       "      <td>204</td>\n",
       "      <td>Staten Island</td>\n",
       "      <td>Rossville/Woodrow</td>\n",
       "      <td>Boro Zone</td>\n",
       "    </tr>\n",
       "    <tr>\n",
       "      <th>205</th>\n",
       "      <td>206</td>\n",
       "      <td>Staten Island</td>\n",
       "      <td>Saint George/New Brighton</td>\n",
       "      <td>Boro Zone</td>\n",
       "    </tr>\n",
       "    <tr>\n",
       "      <th>213</th>\n",
       "      <td>214</td>\n",
       "      <td>Staten Island</td>\n",
       "      <td>South Beach/Dongan Hills</td>\n",
       "      <td>Boro Zone</td>\n",
       "    </tr>\n",
       "    <tr>\n",
       "      <th>220</th>\n",
       "      <td>221</td>\n",
       "      <td>Staten Island</td>\n",
       "      <td>Stapleton</td>\n",
       "      <td>Boro Zone</td>\n",
       "    </tr>\n",
       "    <tr>\n",
       "      <th>244</th>\n",
       "      <td>245</td>\n",
       "      <td>Staten Island</td>\n",
       "      <td>West Brighton</td>\n",
       "      <td>Boro Zone</td>\n",
       "    </tr>\n",
       "    <tr>\n",
       "      <th>250</th>\n",
       "      <td>251</td>\n",
       "      <td>Staten Island</td>\n",
       "      <td>Westerleigh</td>\n",
       "      <td>Boro Zone</td>\n",
       "    </tr>\n",
       "  </tbody>\n",
       "</table>\n",
       "</div>"
      ],
      "text/plain": [
       "     LocationID        Borough                               Zone service_zone\n",
       "4             5  Staten Island                      Arden Heights    Boro Zone\n",
       "5             6  Staten Island            Arrochar/Fort Wadsworth    Boro Zone\n",
       "22           23  Staten Island            Bloomfield/Emerson Hill    Boro Zone\n",
       "43           44  Staten Island             Charleston/Tottenville    Boro Zone\n",
       "83           84  Staten Island  Eltingville/Annadale/Prince's Bay    Boro Zone\n",
       "98           99  Staten Island                    Freshkills Park    Boro Zone\n",
       "108         109  Staten Island                        Great Kills    Boro Zone\n",
       "109         110  Staten Island                   Great Kills Park    Boro Zone\n",
       "114         115  Staten Island                Grymes Hill/Clifton    Boro Zone\n",
       "117         118  Staten Island        Heartland Village/Todt Hill    Boro Zone\n",
       "155         156  Staten Island                    Mariners Harbor    Boro Zone\n",
       "171         172  Staten Island             New Dorp/Midland Beach    Boro Zone\n",
       "175         176  Staten Island                            Oakwood    Boro Zone\n",
       "186         187  Staten Island                      Port Richmond    Boro Zone\n",
       "203         204  Staten Island                  Rossville/Woodrow    Boro Zone\n",
       "205         206  Staten Island          Saint George/New Brighton    Boro Zone\n",
       "213         214  Staten Island           South Beach/Dongan Hills    Boro Zone\n",
       "220         221  Staten Island                          Stapleton    Boro Zone\n",
       "244         245  Staten Island                      West Brighton    Boro Zone\n",
       "250         251  Staten Island                        Westerleigh    Boro Zone"
      ]
     },
     "execution_count": 18,
     "metadata": {},
     "output_type": "execute_result"
    }
   ],
   "source": [
    "SI=b[b['Borough']==\"Staten Island\"]                         # Borough - Staten Island\n",
    "SI"
   ]
  },
  {
   "cell_type": "code",
   "execution_count": 19,
   "id": "db04e452",
   "metadata": {},
   "outputs": [
    {
     "data": {
      "text/html": [
       "<div>\n",
       "<style scoped>\n",
       "    .dataframe tbody tr th:only-of-type {\n",
       "        vertical-align: middle;\n",
       "    }\n",
       "\n",
       "    .dataframe tbody tr th {\n",
       "        vertical-align: top;\n",
       "    }\n",
       "\n",
       "    .dataframe thead th {\n",
       "        text-align: right;\n",
       "    }\n",
       "</style>\n",
       "<table border=\"1\" class=\"dataframe\">\n",
       "  <thead>\n",
       "    <tr style=\"text-align: right;\">\n",
       "      <th></th>\n",
       "      <th>LocationID</th>\n",
       "      <th>Borough</th>\n",
       "      <th>Zone</th>\n",
       "      <th>service_zone</th>\n",
       "    </tr>\n",
       "  </thead>\n",
       "  <tbody>\n",
       "    <tr>\n",
       "      <th>10</th>\n",
       "      <td>11</td>\n",
       "      <td>Brooklyn</td>\n",
       "      <td>Bath Beach</td>\n",
       "      <td>Boro Zone</td>\n",
       "    </tr>\n",
       "    <tr>\n",
       "      <th>13</th>\n",
       "      <td>14</td>\n",
       "      <td>Brooklyn</td>\n",
       "      <td>Bay Ridge</td>\n",
       "      <td>Boro Zone</td>\n",
       "    </tr>\n",
       "    <tr>\n",
       "      <th>16</th>\n",
       "      <td>17</td>\n",
       "      <td>Brooklyn</td>\n",
       "      <td>Bedford</td>\n",
       "      <td>Boro Zone</td>\n",
       "    </tr>\n",
       "    <tr>\n",
       "      <th>20</th>\n",
       "      <td>21</td>\n",
       "      <td>Brooklyn</td>\n",
       "      <td>Bensonhurst East</td>\n",
       "      <td>Boro Zone</td>\n",
       "    </tr>\n",
       "    <tr>\n",
       "      <th>21</th>\n",
       "      <td>22</td>\n",
       "      <td>Brooklyn</td>\n",
       "      <td>Bensonhurst West</td>\n",
       "      <td>Boro Zone</td>\n",
       "    </tr>\n",
       "    <tr>\n",
       "      <th>...</th>\n",
       "      <td>...</td>\n",
       "      <td>...</td>\n",
       "      <td>...</td>\n",
       "      <td>...</td>\n",
       "    </tr>\n",
       "    <tr>\n",
       "      <th>226</th>\n",
       "      <td>227</td>\n",
       "      <td>Brooklyn</td>\n",
       "      <td>Sunset Park East</td>\n",
       "      <td>Boro Zone</td>\n",
       "    </tr>\n",
       "    <tr>\n",
       "      <th>227</th>\n",
       "      <td>228</td>\n",
       "      <td>Brooklyn</td>\n",
       "      <td>Sunset Park West</td>\n",
       "      <td>Boro Zone</td>\n",
       "    </tr>\n",
       "    <tr>\n",
       "      <th>254</th>\n",
       "      <td>255</td>\n",
       "      <td>Brooklyn</td>\n",
       "      <td>Williamsburg (North Side)</td>\n",
       "      <td>Boro Zone</td>\n",
       "    </tr>\n",
       "    <tr>\n",
       "      <th>255</th>\n",
       "      <td>256</td>\n",
       "      <td>Brooklyn</td>\n",
       "      <td>Williamsburg (South Side)</td>\n",
       "      <td>Boro Zone</td>\n",
       "    </tr>\n",
       "    <tr>\n",
       "      <th>256</th>\n",
       "      <td>257</td>\n",
       "      <td>Brooklyn</td>\n",
       "      <td>Windsor Terrace</td>\n",
       "      <td>Boro Zone</td>\n",
       "    </tr>\n",
       "  </tbody>\n",
       "</table>\n",
       "<p>61 rows × 4 columns</p>\n",
       "</div>"
      ],
      "text/plain": [
       "     LocationID   Borough                       Zone service_zone\n",
       "10           11  Brooklyn                 Bath Beach    Boro Zone\n",
       "13           14  Brooklyn                  Bay Ridge    Boro Zone\n",
       "16           17  Brooklyn                    Bedford    Boro Zone\n",
       "20           21  Brooklyn           Bensonhurst East    Boro Zone\n",
       "21           22  Brooklyn           Bensonhurst West    Boro Zone\n",
       "..          ...       ...                        ...          ...\n",
       "226         227  Brooklyn           Sunset Park East    Boro Zone\n",
       "227         228  Brooklyn           Sunset Park West    Boro Zone\n",
       "254         255  Brooklyn  Williamsburg (North Side)    Boro Zone\n",
       "255         256  Brooklyn  Williamsburg (South Side)    Boro Zone\n",
       "256         257  Brooklyn            Windsor Terrace    Boro Zone\n",
       "\n",
       "[61 rows x 4 columns]"
      ]
     },
     "execution_count": 19,
     "metadata": {},
     "output_type": "execute_result"
    }
   ],
   "source": [
    "brk=b[b['Borough']==\"Brooklyn\"]                                # Borough - Brooklyn\n",
    "brk"
   ]
  },
  {
   "cell_type": "code",
   "execution_count": 20,
   "id": "f6925147",
   "metadata": {},
   "outputs": [
    {
     "data": {
      "image/png": "[encoded data removed]",
      "text/plain": [
       "<Figure size 640x480 with 1 Axes>"
      ]
     },
     "metadata": {},
     "output_type": "display_data"
    }
   ],
   "source": [
    "sns.countplot(x=\"Borough\",data=b,palette=\"Set1\")  # more Borough - Manhattan & Queens\n",
    "plt.show()"
   ]
  },
  {
   "cell_type": "code",
   "execution_count": 21,
   "id": "8181fc02",
   "metadata": {},
   "outputs": [
    {
     "data": {
      "image/png": "[encoded data removed]",
      "text/plain": [
       "<Figure size 640x480 with 1 Axes>"
      ]
     },
     "metadata": {},
     "output_type": "display_data"
    }
   ],
   "source": [
    "sns.countplot(x=\"service_zone\",data=b,palette=\"Set1\")  # more service zone-BoroZone\n",
    "plt.show()"
   ]
  },
  {
   "cell_type": "code",
   "execution_count": 170,
   "id": "f1e1ad3e",
   "metadata": {},
   "outputs": [
    {
     "data": {
      "image/png": "[encoded data removed]",
      "text/plain": [
       "<Figure size 1129.36x1000 with 20 Axes>"
      ]
     },
     "metadata": {},
     "output_type": "display_data"
    }
   ],
   "source": [
    "sns.pairplot(hue=\"service_zone\",data=b,palette=\"Set1\")\n",
    "plt.show()"
   ]
  },
  {
   "cell_type": "markdown",
   "id": "2661516f",
   "metadata": {},
   "source": [
    "# Prediction - Regression"
   ]
  },
  {
   "cell_type": "code",
   "execution_count": 4,
   "id": "05914fc8",
   "metadata": {},
   "outputs": [],
   "source": [
    "import warnings                                      # To remove warning\n",
    "warnings.filterwarnings(\"ignore\")"
   ]
  },
  {
   "cell_type": "markdown",
   "id": "cc943897",
   "metadata": {},
   "source": [
    "# Encoding"
   ]
  },
  {
   "cell_type": "code",
   "execution_count": 5,
   "id": "35661ccf",
   "metadata": {},
   "outputs": [],
   "source": [
    "from sklearn.preprocessing import LabelEncoder   # To convert string values to numericals"
   ]
  },
  {
   "cell_type": "code",
   "execution_count": 158,
   "id": "01b6f11d",
   "metadata": {
    "scrolled": true
   },
   "outputs": [
    {
     "data": {
      "text/html": [
       "<div>\n",
       "<style scoped>\n",
       "    .dataframe tbody tr th:only-of-type {\n",
       "        vertical-align: middle;\n",
       "    }\n",
       "\n",
       "    .dataframe tbody tr th {\n",
       "        vertical-align: top;\n",
       "    }\n",
       "\n",
       "    .dataframe thead th {\n",
       "        text-align: right;\n",
       "    }\n",
       "</style>\n",
       "<table border=\"1\" class=\"dataframe\">\n",
       "  <thead>\n",
       "    <tr style=\"text-align: right;\">\n",
       "      <th></th>\n",
       "      <th>LocationID</th>\n",
       "      <th>Borough</th>\n",
       "      <th>Zone</th>\n",
       "      <th>service_zone</th>\n",
       "    </tr>\n",
       "  </thead>\n",
       "  <tbody>\n",
       "    <tr>\n",
       "      <th>0</th>\n",
       "      <td>1</td>\n",
       "      <td>2</td>\n",
       "      <td>168</td>\n",
       "      <td>2</td>\n",
       "    </tr>\n",
       "    <tr>\n",
       "      <th>1</th>\n",
       "      <td>2</td>\n",
       "      <td>4</td>\n",
       "      <td>126</td>\n",
       "      <td>1</td>\n",
       "    </tr>\n",
       "    <tr>\n",
       "      <th>2</th>\n",
       "      <td>3</td>\n",
       "      <td>0</td>\n",
       "      <td>0</td>\n",
       "      <td>1</td>\n",
       "    </tr>\n",
       "    <tr>\n",
       "      <th>3</th>\n",
       "      <td>4</td>\n",
       "      <td>3</td>\n",
       "      <td>1</td>\n",
       "      <td>3</td>\n",
       "    </tr>\n",
       "    <tr>\n",
       "      <th>4</th>\n",
       "      <td>5</td>\n",
       "      <td>5</td>\n",
       "      <td>2</td>\n",
       "      <td>1</td>\n",
       "    </tr>\n",
       "    <tr>\n",
       "      <th>...</th>\n",
       "      <td>...</td>\n",
       "      <td>...</td>\n",
       "      <td>...</td>\n",
       "      <td>...</td>\n",
       "    </tr>\n",
       "    <tr>\n",
       "      <th>258</th>\n",
       "      <td>259</td>\n",
       "      <td>0</td>\n",
       "      <td>255</td>\n",
       "      <td>1</td>\n",
       "    </tr>\n",
       "    <tr>\n",
       "      <th>259</th>\n",
       "      <td>260</td>\n",
       "      <td>4</td>\n",
       "      <td>256</td>\n",
       "      <td>1</td>\n",
       "    </tr>\n",
       "    <tr>\n",
       "      <th>260</th>\n",
       "      <td>261</td>\n",
       "      <td>3</td>\n",
       "      <td>257</td>\n",
       "      <td>3</td>\n",
       "    </tr>\n",
       "    <tr>\n",
       "      <th>261</th>\n",
       "      <td>262</td>\n",
       "      <td>3</td>\n",
       "      <td>258</td>\n",
       "      <td>3</td>\n",
       "    </tr>\n",
       "    <tr>\n",
       "      <th>262</th>\n",
       "      <td>263</td>\n",
       "      <td>3</td>\n",
       "      <td>259</td>\n",
       "      <td>3</td>\n",
       "    </tr>\n",
       "  </tbody>\n",
       "</table>\n",
       "<p>263 rows × 4 columns</p>\n",
       "</div>"
      ],
      "text/plain": [
       "     LocationID  Borough  Zone  service_zone\n",
       "0             1        2   168             2\n",
       "1             2        4   126             1\n",
       "2             3        0     0             1\n",
       "3             4        3     1             3\n",
       "4             5        5     2             1\n",
       "..          ...      ...   ...           ...\n",
       "258         259        0   255             1\n",
       "259         260        4   256             1\n",
       "260         261        3   257             3\n",
       "261         262        3   258             3\n",
       "262         263        3   259             3\n",
       "\n",
       "[263 rows x 4 columns]"
      ]
     },
     "execution_count": 158,
     "metadata": {},
     "output_type": "execute_result"
    }
   ],
   "source": [
    "d=LabelEncoder()\n",
    "b[\"Borough\"]=d.fit_transform(b[\"Borough\"])                         # To convert string into numbers\n",
    "b"
   ]
  },
  {
   "cell_type": "code",
   "execution_count": 157,
   "id": "d9210aad",
   "metadata": {},
   "outputs": [
    {
     "data": {
      "text/html": [
       "<div>\n",
       "<style scoped>\n",
       "    .dataframe tbody tr th:only-of-type {\n",
       "        vertical-align: middle;\n",
       "    }\n",
       "\n",
       "    .dataframe tbody tr th {\n",
       "        vertical-align: top;\n",
       "    }\n",
       "\n",
       "    .dataframe thead th {\n",
       "        text-align: right;\n",
       "    }\n",
       "</style>\n",
       "<table border=\"1\" class=\"dataframe\">\n",
       "  <thead>\n",
       "    <tr style=\"text-align: right;\">\n",
       "      <th></th>\n",
       "      <th>LocationID</th>\n",
       "      <th>Borough</th>\n",
       "      <th>Zone</th>\n",
       "      <th>service_zone</th>\n",
       "    </tr>\n",
       "  </thead>\n",
       "  <tbody>\n",
       "    <tr>\n",
       "      <th>0</th>\n",
       "      <td>1</td>\n",
       "      <td>EWR</td>\n",
       "      <td>168</td>\n",
       "      <td>2</td>\n",
       "    </tr>\n",
       "    <tr>\n",
       "      <th>1</th>\n",
       "      <td>2</td>\n",
       "      <td>Queens</td>\n",
       "      <td>126</td>\n",
       "      <td>1</td>\n",
       "    </tr>\n",
       "    <tr>\n",
       "      <th>2</th>\n",
       "      <td>3</td>\n",
       "      <td>Bronx</td>\n",
       "      <td>0</td>\n",
       "      <td>1</td>\n",
       "    </tr>\n",
       "    <tr>\n",
       "      <th>3</th>\n",
       "      <td>4</td>\n",
       "      <td>Manhattan</td>\n",
       "      <td>1</td>\n",
       "      <td>3</td>\n",
       "    </tr>\n",
       "    <tr>\n",
       "      <th>4</th>\n",
       "      <td>5</td>\n",
       "      <td>Staten Island</td>\n",
       "      <td>2</td>\n",
       "      <td>1</td>\n",
       "    </tr>\n",
       "    <tr>\n",
       "      <th>...</th>\n",
       "      <td>...</td>\n",
       "      <td>...</td>\n",
       "      <td>...</td>\n",
       "      <td>...</td>\n",
       "    </tr>\n",
       "    <tr>\n",
       "      <th>258</th>\n",
       "      <td>259</td>\n",
       "      <td>Bronx</td>\n",
       "      <td>255</td>\n",
       "      <td>1</td>\n",
       "    </tr>\n",
       "    <tr>\n",
       "      <th>259</th>\n",
       "      <td>260</td>\n",
       "      <td>Queens</td>\n",
       "      <td>256</td>\n",
       "      <td>1</td>\n",
       "    </tr>\n",
       "    <tr>\n",
       "      <th>260</th>\n",
       "      <td>261</td>\n",
       "      <td>Manhattan</td>\n",
       "      <td>257</td>\n",
       "      <td>3</td>\n",
       "    </tr>\n",
       "    <tr>\n",
       "      <th>261</th>\n",
       "      <td>262</td>\n",
       "      <td>Manhattan</td>\n",
       "      <td>258</td>\n",
       "      <td>3</td>\n",
       "    </tr>\n",
       "    <tr>\n",
       "      <th>262</th>\n",
       "      <td>263</td>\n",
       "      <td>Manhattan</td>\n",
       "      <td>259</td>\n",
       "      <td>3</td>\n",
       "    </tr>\n",
       "  </tbody>\n",
       "</table>\n",
       "<p>263 rows × 4 columns</p>\n",
       "</div>"
      ],
      "text/plain": [
       "     LocationID        Borough  Zone  service_zone\n",
       "0             1            EWR   168             2\n",
       "1             2         Queens   126             1\n",
       "2             3          Bronx     0             1\n",
       "3             4      Manhattan     1             3\n",
       "4             5  Staten Island     2             1\n",
       "..          ...            ...   ...           ...\n",
       "258         259          Bronx   255             1\n",
       "259         260         Queens   256             1\n",
       "260         261      Manhattan   257             3\n",
       "261         262      Manhattan   258             3\n",
       "262         263      Manhattan   259             3\n",
       "\n",
       "[263 rows x 4 columns]"
      ]
     },
     "execution_count": 157,
     "metadata": {},
     "output_type": "execute_result"
    }
   ],
   "source": [
    "d=LabelEncoder()\n",
    "b[\"Zone\"]=d.fit_transform(b[\"Zone\"])                         # To convert string into numbers\n",
    "b"
   ]
  },
  {
   "cell_type": "code",
   "execution_count": 156,
   "id": "711e94e1",
   "metadata": {},
   "outputs": [
    {
     "data": {
      "text/html": [
       "<div>\n",
       "<style scoped>\n",
       "    .dataframe tbody tr th:only-of-type {\n",
       "        vertical-align: middle;\n",
       "    }\n",
       "\n",
       "    .dataframe tbody tr th {\n",
       "        vertical-align: top;\n",
       "    }\n",
       "\n",
       "    .dataframe thead th {\n",
       "        text-align: right;\n",
       "    }\n",
       "</style>\n",
       "<table border=\"1\" class=\"dataframe\">\n",
       "  <thead>\n",
       "    <tr style=\"text-align: right;\">\n",
       "      <th></th>\n",
       "      <th>LocationID</th>\n",
       "      <th>Borough</th>\n",
       "      <th>Zone</th>\n",
       "      <th>service_zone</th>\n",
       "    </tr>\n",
       "  </thead>\n",
       "  <tbody>\n",
       "    <tr>\n",
       "      <th>0</th>\n",
       "      <td>1</td>\n",
       "      <td>EWR</td>\n",
       "      <td>Newark Airport</td>\n",
       "      <td>2</td>\n",
       "    </tr>\n",
       "    <tr>\n",
       "      <th>1</th>\n",
       "      <td>2</td>\n",
       "      <td>Queens</td>\n",
       "      <td>Jamaica Bay</td>\n",
       "      <td>1</td>\n",
       "    </tr>\n",
       "    <tr>\n",
       "      <th>2</th>\n",
       "      <td>3</td>\n",
       "      <td>Bronx</td>\n",
       "      <td>Allerton/Pelham Gardens</td>\n",
       "      <td>1</td>\n",
       "    </tr>\n",
       "    <tr>\n",
       "      <th>3</th>\n",
       "      <td>4</td>\n",
       "      <td>Manhattan</td>\n",
       "      <td>Alphabet City</td>\n",
       "      <td>3</td>\n",
       "    </tr>\n",
       "    <tr>\n",
       "      <th>4</th>\n",
       "      <td>5</td>\n",
       "      <td>Staten Island</td>\n",
       "      <td>Arden Heights</td>\n",
       "      <td>1</td>\n",
       "    </tr>\n",
       "    <tr>\n",
       "      <th>...</th>\n",
       "      <td>...</td>\n",
       "      <td>...</td>\n",
       "      <td>...</td>\n",
       "      <td>...</td>\n",
       "    </tr>\n",
       "    <tr>\n",
       "      <th>258</th>\n",
       "      <td>259</td>\n",
       "      <td>Bronx</td>\n",
       "      <td>Woodlawn/Wakefield</td>\n",
       "      <td>1</td>\n",
       "    </tr>\n",
       "    <tr>\n",
       "      <th>259</th>\n",
       "      <td>260</td>\n",
       "      <td>Queens</td>\n",
       "      <td>Woodside</td>\n",
       "      <td>1</td>\n",
       "    </tr>\n",
       "    <tr>\n",
       "      <th>260</th>\n",
       "      <td>261</td>\n",
       "      <td>Manhattan</td>\n",
       "      <td>World Trade Center</td>\n",
       "      <td>3</td>\n",
       "    </tr>\n",
       "    <tr>\n",
       "      <th>261</th>\n",
       "      <td>262</td>\n",
       "      <td>Manhattan</td>\n",
       "      <td>Yorkville East</td>\n",
       "      <td>3</td>\n",
       "    </tr>\n",
       "    <tr>\n",
       "      <th>262</th>\n",
       "      <td>263</td>\n",
       "      <td>Manhattan</td>\n",
       "      <td>Yorkville West</td>\n",
       "      <td>3</td>\n",
       "    </tr>\n",
       "  </tbody>\n",
       "</table>\n",
       "<p>263 rows × 4 columns</p>\n",
       "</div>"
      ],
      "text/plain": [
       "     LocationID        Borough                     Zone  service_zone\n",
       "0             1            EWR           Newark Airport             2\n",
       "1             2         Queens              Jamaica Bay             1\n",
       "2             3          Bronx  Allerton/Pelham Gardens             1\n",
       "3             4      Manhattan            Alphabet City             3\n",
       "4             5  Staten Island            Arden Heights             1\n",
       "..          ...            ...                      ...           ...\n",
       "258         259          Bronx       Woodlawn/Wakefield             1\n",
       "259         260         Queens                 Woodside             1\n",
       "260         261      Manhattan       World Trade Center             3\n",
       "261         262      Manhattan           Yorkville East             3\n",
       "262         263      Manhattan           Yorkville West             3\n",
       "\n",
       "[263 rows x 4 columns]"
      ]
     },
     "execution_count": 156,
     "metadata": {},
     "output_type": "execute_result"
    }
   ],
   "source": [
    "d=LabelEncoder()\n",
    "b[\"service_zone\"]=d.fit_transform(b[\"service_zone\"])                         # To convert string into numbers\n",
    "b"
   ]
  },
  {
   "cell_type": "markdown",
   "id": "92c95b60",
   "metadata": {},
   "source": [
    "# Prediction-Regression"
   ]
  },
  {
   "cell_type": "code",
   "execution_count": 9,
   "id": "0866f056",
   "metadata": {
    "scrolled": true
   },
   "outputs": [
    {
     "data": {
      "text/plain": [
       "array([[  1,   2, 168],\n",
       "       [  2,   4, 126],\n",
       "       [  3,   0,   0],\n",
       "       [  4,   3,   1],\n",
       "       [  5,   5,   2],\n",
       "       [  6,   5,   3],\n",
       "       [  7,   4,   4],\n",
       "       [  8,   4,   5],\n",
       "       [  9,   4,   6],\n",
       "       [ 10,   4,   7],\n",
       "       [ 11,   1,   8],\n",
       "       [ 12,   3,   9],\n",
       "       [ 13,   3,  10],\n",
       "       [ 14,   1,  11],\n",
       "       [ 15,   4,  12],\n",
       "       [ 16,   4,  13],\n",
       "       [ 17,   1,  14],\n",
       "       [ 18,   0,  15],\n",
       "       [ 19,   4,  16],\n",
       "       [ 20,   0,  17],\n",
       "       [ 21,   1,  18],\n",
       "       [ 22,   1,  19],\n",
       "       [ 23,   5,  20],\n",
       "       [ 24,   3,  21],\n",
       "       [ 25,   1,  22],\n",
       "       [ 26,   1,  23],\n",
       "       [ 27,   4,  24],\n",
       "       [ 28,   4,  25],\n",
       "       [ 29,   1,  26],\n",
       "       [ 30,   4,  27],\n",
       "       [ 31,   0,  28],\n",
       "       [ 32,   0,  29],\n",
       "       [ 33,   1,  30],\n",
       "       [ 34,   1,  31],\n",
       "       [ 35,   1,  32],\n",
       "       [ 36,   1,  33],\n",
       "       [ 37,   1,  34],\n",
       "       [ 38,   4,  35],\n",
       "       [ 39,   1,  36],\n",
       "       [ 40,   1,  37],\n",
       "       [ 41,   3,  38],\n",
       "       [ 42,   3,  39],\n",
       "       [ 43,   3,  40],\n",
       "       [ 44,   5,  41],\n",
       "       [ 45,   3,  42],\n",
       "       [ 46,   0,  43],\n",
       "       [ 47,   0,  44],\n",
       "       [ 48,   3,  45],\n",
       "       [ 49,   1,  46],\n",
       "       [ 50,   3,  47],\n",
       "       [ 51,   0,  48],\n",
       "       [ 52,   1,  49],\n",
       "       [ 53,   4,  50],\n",
       "       [ 54,   1,  51],\n",
       "       [ 55,   1,  52],\n",
       "       [ 56,   4,  53],\n",
       "       [ 57,   4,  53],\n",
       "       [ 58,   0,  54],\n",
       "       [ 59,   0,  55],\n",
       "       [ 60,   0,  56],\n",
       "       [ 61,   1,  57],\n",
       "       [ 62,   1,  58],\n",
       "       [ 63,   1,  59],\n",
       "       [ 64,   4,  61],\n",
       "       [ 65,   1,  62],\n",
       "       [ 66,   1,  60],\n",
       "       [ 67,   1,  63],\n",
       "       [ 68,   3,  64],\n",
       "       [ 69,   0,  65],\n",
       "       [ 70,   4,  66],\n",
       "       [ 71,   1,  67],\n",
       "       [ 72,   1,  68],\n",
       "       [ 73,   4,  69],\n",
       "       [ 74,   3,  70],\n",
       "       [ 75,   3,  71],\n",
       "       [ 76,   1,  72],\n",
       "       [ 77,   1,  73],\n",
       "       [ 78,   0,  74],\n",
       "       [ 79,   3,  75],\n",
       "       [ 80,   1,  76],\n",
       "       [ 81,   0,  77],\n",
       "       [ 82,   4,  78],\n",
       "       [ 83,   4,  79],\n",
       "       [ 84,   5,  80],\n",
       "       [ 85,   1,  81],\n",
       "       [ 86,   4,  82],\n",
       "       [ 87,   3,  83],\n",
       "       [ 88,   3,  84],\n",
       "       [ 89,   1,  85],\n",
       "       [ 90,   3,  86],\n",
       "       [ 91,   1,  87],\n",
       "       [ 92,   4,  88],\n",
       "       [ 93,   4,  89],\n",
       "       [ 94,   0,  90],\n",
       "       [ 95,   4,  91],\n",
       "       [ 96,   4,  92],\n",
       "       [ 97,   1,  93],\n",
       "       [ 98,   4,  94],\n",
       "       [ 99,   5,  95],\n",
       "       [100,   3,  96],\n",
       "       [101,   4,  97],\n",
       "       [102,   4,  98],\n",
       "       [103,   3,  99],\n",
       "       [104,   3,  99],\n",
       "       [105,   3,  99],\n",
       "       [106,   1, 100],\n",
       "       [107,   3, 101],\n",
       "       [108,   1, 102],\n",
       "       [109,   5, 103],\n",
       "       [110,   5, 104],\n",
       "       [111,   1, 105],\n",
       "       [112,   1, 106],\n",
       "       [113,   3, 107],\n",
       "       [114,   3, 108],\n",
       "       [115,   5, 109],\n",
       "       [116,   3, 110],\n",
       "       [117,   4, 111],\n",
       "       [118,   5, 112],\n",
       "       [119,   0, 113],\n",
       "       [120,   3, 114],\n",
       "       [121,   4, 115],\n",
       "       [122,   4, 116],\n",
       "       [123,   1, 117],\n",
       "       [124,   4, 118],\n",
       "       [125,   3, 119],\n",
       "       [126,   0, 120],\n",
       "       [127,   3, 121],\n",
       "       [128,   3, 122],\n",
       "       [129,   4, 124],\n",
       "       [130,   4, 125],\n",
       "       [131,   4, 127],\n",
       "       [132,   4, 123],\n",
       "       [133,   1, 128],\n",
       "       [134,   4, 129],\n",
       "       [135,   4, 130],\n",
       "       [136,   0, 131],\n",
       "       [137,   3, 132],\n",
       "       [138,   4, 133],\n",
       "       [139,   4, 134],\n",
       "       [140,   3, 135],\n",
       "       [141,   3, 136],\n",
       "       [142,   3, 137],\n",
       "       [143,   3, 138],\n",
       "       [144,   3, 139],\n",
       "       [145,   4, 140],\n",
       "       [146,   4, 141],\n",
       "       [147,   0, 142],\n",
       "       [148,   3, 143],\n",
       "       [149,   1, 144],\n",
       "       [150,   1, 145],\n",
       "       [151,   3, 146],\n",
       "       [152,   3, 147],\n",
       "       [153,   3, 148],\n",
       "       [154,   1, 149],\n",
       "       [155,   1, 150],\n",
       "       [156,   5, 151],\n",
       "       [157,   4, 152],\n",
       "       [158,   3, 153],\n",
       "       [159,   0, 154],\n",
       "       [160,   4, 155],\n",
       "       [161,   3, 156],\n",
       "       [162,   3, 157],\n",
       "       [163,   3, 158],\n",
       "       [164,   3, 159],\n",
       "       [165,   1, 160],\n",
       "       [166,   3, 161],\n",
       "       [167,   0, 162],\n",
       "       [168,   0, 163],\n",
       "       [169,   0, 164],\n",
       "       [170,   3, 165],\n",
       "       [171,   4, 166],\n",
       "       [172,   5, 167],\n",
       "       [173,   4, 169],\n",
       "       [174,   0, 170],\n",
       "       [175,   4, 171],\n",
       "       [176,   5, 172],\n",
       "       [177,   1, 173],\n",
       "       [178,   1, 174],\n",
       "       [179,   4, 175],\n",
       "       [180,   4, 176],\n",
       "       [181,   1, 177],\n",
       "       [182,   0, 178],\n",
       "       [183,   0, 179],\n",
       "       [184,   0, 180],\n",
       "       [185,   0, 181],\n",
       "       [186,   3, 182],\n",
       "       [187,   5, 183],\n",
       "       [188,   1, 186],\n",
       "       [189,   1, 184],\n",
       "       [190,   1, 185],\n",
       "       [191,   4, 187],\n",
       "       [192,   4, 188],\n",
       "       [193,   4, 189],\n",
       "       [194,   3, 190],\n",
       "       [195,   1, 191],\n",
       "       [196,   4, 192],\n",
       "       [197,   4, 193],\n",
       "       [198,   4, 194],\n",
       "       [199,   0, 195],\n",
       "       [200,   0, 196],\n",
       "       [201,   4, 197],\n",
       "       [202,   3, 198],\n",
       "       [203,   4, 199],\n",
       "       [204,   5, 200],\n",
       "       [205,   4, 201],\n",
       "       [206,   5, 202],\n",
       "       [207,   4, 203],\n",
       "       [208,   0, 204],\n",
       "       [209,   3, 205],\n",
       "       [210,   1, 206],\n",
       "       [211,   3, 207],\n",
       "       [212,   0, 208],\n",
       "       [213,   0, 209],\n",
       "       [214,   5, 210],\n",
       "       [215,   4, 211],\n",
       "       [216,   4, 212],\n",
       "       [217,   1, 213],\n",
       "       [218,   4, 214],\n",
       "       [219,   4, 215],\n",
       "       [220,   0, 216],\n",
       "       [221,   5, 217],\n",
       "       [222,   1, 218],\n",
       "       [223,   4, 219],\n",
       "       [224,   3, 220],\n",
       "       [225,   1, 221],\n",
       "       [226,   4, 222],\n",
       "       [227,   1, 223],\n",
       "       [228,   1, 224],\n",
       "       [229,   3, 225],\n",
       "       [230,   3, 226],\n",
       "       [231,   3, 227],\n",
       "       [232,   3, 228],\n",
       "       [233,   3, 229],\n",
       "       [234,   3, 230],\n",
       "       [235,   0, 231],\n",
       "       [236,   3, 232],\n",
       "       [237,   3, 233],\n",
       "       [238,   3, 234],\n",
       "       [239,   3, 235],\n",
       "       [240,   0, 236],\n",
       "       [241,   0, 237],\n",
       "       [242,   0, 238],\n",
       "       [243,   3, 239],\n",
       "       [244,   3, 240],\n",
       "       [245,   5, 241],\n",
       "       [246,   3, 242],\n",
       "       [247,   0, 243],\n",
       "       [248,   0, 244],\n",
       "       [249,   3, 245],\n",
       "       [250,   0, 246],\n",
       "       [251,   5, 247],\n",
       "       [252,   4, 248],\n",
       "       [253,   4, 249],\n",
       "       [254,   0, 250],\n",
       "       [255,   1, 251],\n",
       "       [256,   1, 252],\n",
       "       [257,   1, 253],\n",
       "       [258,   4, 254],\n",
       "       [259,   0, 255],\n",
       "       [260,   4, 256],\n",
       "       [261,   3, 257],\n",
       "       [262,   3, 258],\n",
       "       [263,   3, 259]], dtype=int64)"
      ]
     },
     "execution_count": 9,
     "metadata": {},
     "output_type": "execute_result"
    }
   ],
   "source": [
    "x=b.iloc[:,[0,1,2]].values #independent values\n",
    "x"
   ]
  },
  {
   "cell_type": "code",
   "execution_count": 10,
   "id": "b4d23774",
   "metadata": {},
   "outputs": [
    {
     "data": {
      "text/plain": [
       "array([2, 1, 1, 3, 1, 1, 1, 1, 1, 1, 1, 3, 3, 1, 1, 1, 1, 1, 1, 1, 1, 1,\n",
       "       1, 3, 1, 1, 1, 1, 1, 1, 1, 1, 1, 1, 1, 1, 1, 1, 1, 1, 1, 1, 3, 1,\n",
       "       3, 1, 1, 3, 1, 3, 1, 1, 1, 1, 1, 1, 1, 1, 1, 1, 1, 1, 1, 1, 1, 1,\n",
       "       1, 3, 1, 1, 1, 1, 1, 1, 1, 1, 1, 1, 3, 1, 1, 1, 1, 1, 1, 1, 3, 3,\n",
       "       1, 3, 1, 1, 1, 1, 1, 1, 1, 1, 1, 3, 1, 1, 3, 3, 3, 1, 3, 1, 1, 1,\n",
       "       1, 1, 3, 3, 1, 1, 1, 1, 1, 1, 1, 1, 1, 1, 3, 1, 1, 1, 1, 1, 1, 0,\n",
       "       1, 1, 1, 1, 3, 0, 1, 3, 3, 3, 3, 3, 1, 1, 1, 3, 1, 1, 3, 1, 1, 1,\n",
       "       1, 1, 1, 3, 1, 1, 3, 3, 3, 3, 1, 1, 1, 1, 1, 3, 1, 1, 1, 1, 1, 1,\n",
       "       1, 1, 1, 1, 1, 1, 1, 1, 1, 3, 1, 1, 1, 1, 1, 1, 1, 3, 1, 1, 1, 1,\n",
       "       1, 1, 1, 1, 1, 1, 1, 1, 1, 1, 3, 1, 3, 1, 1, 1, 1, 1, 1, 1, 1, 1,\n",
       "       1, 1, 1, 3, 1, 1, 1, 1, 3, 3, 3, 3, 3, 3, 1, 3, 3, 3, 3, 1, 1, 1,\n",
       "       1, 1, 1, 3, 1, 1, 3, 1, 1, 1, 1, 1, 1, 1, 1, 1, 1, 1, 3, 3, 3])"
      ]
     },
     "execution_count": 10,
     "metadata": {},
     "output_type": "execute_result"
    }
   ],
   "source": [
    "y=b.iloc[:,3].values  #dependent value\n",
    "y"
   ]
  },
  {
   "cell_type": "code",
   "execution_count": 11,
   "id": "b3be4162",
   "metadata": {},
   "outputs": [],
   "source": [
    "from sklearn.model_selection import train_test_split "
   ]
  },
  {
   "cell_type": "code",
   "execution_count": 12,
   "id": "82ea0ba0",
   "metadata": {},
   "outputs": [],
   "source": [
    "x_train,x_test,y_train,y_test=train_test_split(x,y,test_size=70,random_state=30)"
   ]
  },
  {
   "cell_type": "code",
   "execution_count": 13,
   "id": "af630cf9",
   "metadata": {},
   "outputs": [
    {
     "data": {
      "text/plain": [
       "array([[211,   3, 207],\n",
       "       [200,   0, 196],\n",
       "       [254,   0, 250],\n",
       "       [ 98,   4,  94],\n",
       "       [149,   1, 144],\n",
       "       [131,   4, 127],\n",
       "       [111,   1, 105],\n",
       "       [ 37,   1,  34],\n",
       "       [110,   5, 104],\n",
       "       [ 26,   1,  23],\n",
       "       [218,   4, 214],\n",
       "       [129,   4, 124],\n",
       "       [113,   3, 107],\n",
       "       [212,   0, 208],\n",
       "       [ 48,   3,  45],\n",
       "       [161,   3, 156],\n",
       "       [242,   0, 238],\n",
       "       [143,   3, 138],\n",
       "       [ 38,   4,  35],\n",
       "       [198,   4, 194],\n",
       "       [221,   5, 217],\n",
       "       [228,   1, 224],\n",
       "       [137,   3, 132],\n",
       "       [ 90,   3,  86],\n",
       "       [ 66,   1,  60],\n",
       "       [181,   1, 177],\n",
       "       [233,   3, 229],\n",
       "       [101,   4,  97],\n",
       "       [  7,   4,   4],\n",
       "       [102,   4,  98],\n",
       "       [  6,   5,   3],\n",
       "       [ 62,   1,  58],\n",
       "       [220,   0, 216],\n",
       "       [ 18,   0,  15],\n",
       "       [263,   3, 259],\n",
       "       [  1,   2, 168],\n",
       "       [127,   3, 121],\n",
       "       [ 13,   3,  10],\n",
       "       [100,   3,  96],\n",
       "       [  4,   3,   1],\n",
       "       [203,   4, 199],\n",
       "       [134,   4, 129],\n",
       "       [140,   3, 135],\n",
       "       [  8,   4,   5],\n",
       "       [  3,   0,   0],\n",
       "       [177,   1, 173],\n",
       "       [ 85,   1,  81],\n",
       "       [246,   3, 242],\n",
       "       [210,   1, 206],\n",
       "       [ 73,   4,  69],\n",
       "       [150,   1, 145],\n",
       "       [193,   4, 189],\n",
       "       [ 43,   3,  40],\n",
       "       [107,   3, 101],\n",
       "       [234,   3, 230],\n",
       "       [214,   5, 210],\n",
       "       [251,   5, 247],\n",
       "       [122,   4, 116],\n",
       "       [ 67,   1,  63],\n",
       "       [ 32,   0,  29],\n",
       "       [ 33,   1,  30],\n",
       "       [126,   0, 120],\n",
       "       [ 39,   1,  36],\n",
       "       [206,   5, 202],\n",
       "       [ 57,   4,  53],\n",
       "       [ 87,   3,  83],\n",
       "       [ 69,   0,  65],\n",
       "       [ 95,   4,  91],\n",
       "       [ 74,   3,  70],\n",
       "       [118,   5, 112],\n",
       "       [ 82,   4,  78],\n",
       "       [ 83,   4,  79],\n",
       "       [ 15,   4,  12],\n",
       "       [209,   3, 205],\n",
       "       [215,   4, 211],\n",
       "       [133,   1, 128],\n",
       "       [ 71,   1,  67],\n",
       "       [144,   3, 139],\n",
       "       [136,   0, 131],\n",
       "       [142,   3, 137],\n",
       "       [ 84,   5,  80],\n",
       "       [ 31,   0,  28],\n",
       "       [ 75,   3,  71],\n",
       "       [223,   4, 219],\n",
       "       [191,   4, 187],\n",
       "       [250,   0, 246],\n",
       "       [116,   3, 110],\n",
       "       [167,   0, 162],\n",
       "       [202,   3, 198],\n",
       "       [125,   3, 119],\n",
       "       [226,   4, 222],\n",
       "       [262,   3, 258],\n",
       "       [158,   3, 153],\n",
       "       [201,   4, 197],\n",
       "       [ 30,   4,  27],\n",
       "       [188,   1, 186],\n",
       "       [241,   0, 237],\n",
       "       [172,   5, 167],\n",
       "       [160,   4, 155],\n",
       "       [148,   3, 143],\n",
       "       [ 81,   0,  77],\n",
       "       [109,   5, 103],\n",
       "       [236,   3, 232],\n",
       "       [253,   4, 249],\n",
       "       [ 72,   1,  68],\n",
       "       [ 46,   0,  43],\n",
       "       [196,   4, 192],\n",
       "       [ 59,   0,  55],\n",
       "       [261,   3, 257],\n",
       "       [108,   1, 102],\n",
       "       [ 80,   1,  76],\n",
       "       [184,   0, 180],\n",
       "       [ 11,   1,   8],\n",
       "       [128,   3, 122],\n",
       "       [235,   0, 231],\n",
       "       [ 99,   5,  95],\n",
       "       [  5,   5,   2],\n",
       "       [243,   3, 239],\n",
       "       [ 10,   4,   7],\n",
       "       [ 34,   1,  31],\n",
       "       [222,   1, 218],\n",
       "       [ 17,   1,  14],\n",
       "       [185,   0, 181],\n",
       "       [170,   3, 165],\n",
       "       [180,   4, 176],\n",
       "       [189,   1, 184],\n",
       "       [ 29,   1,  26],\n",
       "       [ 44,   5,  41],\n",
       "       [ 35,   1,  32],\n",
       "       [190,   1, 185],\n",
       "       [ 45,   3,  42],\n",
       "       [ 53,   4,  50],\n",
       "       [ 50,   3,  47],\n",
       "       [159,   0, 154],\n",
       "       [ 20,   0,  17],\n",
       "       [232,   3, 228],\n",
       "       [207,   4, 203],\n",
       "       [155,   1, 150],\n",
       "       [106,   1, 100],\n",
       "       [ 70,   4,  66],\n",
       "       [120,   3, 114],\n",
       "       [183,   0, 179],\n",
       "       [154,   1, 149],\n",
       "       [169,   0, 164],\n",
       "       [ 23,   5,  20],\n",
       "       [165,   1, 160],\n",
       "       [168,   0, 163],\n",
       "       [176,   5, 172],\n",
       "       [121,   4, 115],\n",
       "       [237,   3, 233],\n",
       "       [138,   4, 133],\n",
       "       [ 40,   1,  37],\n",
       "       [230,   3, 226],\n",
       "       [204,   5, 200],\n",
       "       [166,   3, 161],\n",
       "       [173,   4, 169],\n",
       "       [ 96,   4,  92],\n",
       "       [ 76,   1,  72],\n",
       "       [105,   3,  99],\n",
       "       [186,   3, 182],\n",
       "       [ 79,   3,  75],\n",
       "       [ 92,   4,  88],\n",
       "       [187,   5, 183],\n",
       "       [114,   3, 108],\n",
       "       [157,   4, 152],\n",
       "       [ 56,   4,  53],\n",
       "       [162,   3, 157],\n",
       "       [179,   4, 175],\n",
       "       [ 14,   1,  11],\n",
       "       [229,   3, 225],\n",
       "       [152,   3, 147],\n",
       "       [ 16,   4,  13],\n",
       "       [ 12,   3,   9],\n",
       "       [249,   3, 245],\n",
       "       [ 65,   1,  62],\n",
       "       [174,   0, 170],\n",
       "       [ 47,   0,  44],\n",
       "       [ 28,   4,  25],\n",
       "       [ 63,   1,  59],\n",
       "       [135,   4, 130],\n",
       "       [145,   4, 140],\n",
       "       [205,   4, 201],\n",
       "       [103,   3,  99],\n",
       "       [117,   4, 111],\n",
       "       [245,   5, 241],\n",
       "       [257,   1, 253],\n",
       "       [ 19,   4,  16],\n",
       "       [164,   3, 159],\n",
       "       [178,   1, 174],\n",
       "       [132,   4, 123],\n",
       "       [146,   4, 141],\n",
       "       [252,   4, 248],\n",
       "       [141,   3, 136]], dtype=int64)"
      ]
     },
     "execution_count": 13,
     "metadata": {},
     "output_type": "execute_result"
    }
   ],
   "source": [
    "x_train"
   ]
  },
  {
   "cell_type": "code",
   "execution_count": 14,
   "id": "30540d29",
   "metadata": {},
   "outputs": [
    {
     "data": {
      "text/plain": [
       "array([[ 91,   1,  87],\n",
       "       [231,   3, 227],\n",
       "       [  2,   4, 126],\n",
       "       [ 60,   0,  56],\n",
       "       [ 36,   1,  33],\n",
       "       [256,   1, 252],\n",
       "       [ 54,   1,  51],\n",
       "       [156,   5, 151],\n",
       "       [ 27,   4,  24],\n",
       "       [104,   3,  99],\n",
       "       [ 61,   1,  57],\n",
       "       [192,   4, 188],\n",
       "       [ 68,   3,  64],\n",
       "       [175,   4, 171],\n",
       "       [ 88,   3,  84],\n",
       "       [112,   1, 106],\n",
       "       [247,   0, 243],\n",
       "       [ 94,   0,  90],\n",
       "       [ 21,   1,  18],\n",
       "       [194,   3, 190],\n",
       "       [258,   4, 254],\n",
       "       [227,   1, 223],\n",
       "       [ 64,   4,  61],\n",
       "       [ 52,   1,  49],\n",
       "       [199,   0, 195],\n",
       "       [219,   4, 215],\n",
       "       [239,   3, 235],\n",
       "       [238,   3, 234],\n",
       "       [195,   1, 191],\n",
       "       [124,   4, 118],\n",
       "       [ 58,   0,  54],\n",
       "       [  9,   4,   6],\n",
       "       [153,   3, 148],\n",
       "       [123,   1, 117],\n",
       "       [240,   0, 236],\n",
       "       [139,   4, 134],\n",
       "       [119,   0, 113],\n",
       "       [259,   0, 255],\n",
       "       [260,   4, 256],\n",
       "       [208,   0, 204],\n",
       "       [248,   0, 244],\n",
       "       [ 86,   4,  82],\n",
       "       [163,   3, 158],\n",
       "       [115,   5, 109],\n",
       "       [ 77,   1,  73],\n",
       "       [182,   0, 178],\n",
       "       [ 41,   3,  38],\n",
       "       [217,   1, 213],\n",
       "       [255,   1, 251],\n",
       "       [ 24,   3,  21],\n",
       "       [ 49,   1,  46],\n",
       "       [213,   0, 209],\n",
       "       [ 42,   3,  39],\n",
       "       [ 97,   1,  93],\n",
       "       [197,   4, 193],\n",
       "       [ 89,   1,  85],\n",
       "       [216,   4, 212],\n",
       "       [171,   4, 166],\n",
       "       [130,   4, 125],\n",
       "       [151,   3, 146],\n",
       "       [225,   1, 221],\n",
       "       [ 25,   1,  22],\n",
       "       [ 78,   0,  74],\n",
       "       [ 22,   1,  19],\n",
       "       [224,   3, 220],\n",
       "       [ 55,   1,  52],\n",
       "       [ 93,   4,  89],\n",
       "       [244,   3, 240],\n",
       "       [ 51,   0,  48],\n",
       "       [147,   0, 142]], dtype=int64)"
      ]
     },
     "execution_count": 14,
     "metadata": {},
     "output_type": "execute_result"
    }
   ],
   "source": [
    "x_test"
   ]
  },
  {
   "cell_type": "code",
   "execution_count": 15,
   "id": "08ba8787",
   "metadata": {},
   "outputs": [
    {
     "data": {
      "text/plain": [
       "array([3, 1, 1, 1, 1, 1, 1, 1, 1, 1, 1, 1, 3, 1, 3, 3, 1, 3, 1, 1, 1, 1,\n",
       "       3, 3, 1, 1, 3, 1, 1, 1, 1, 1, 1, 1, 3, 2, 1, 3, 3, 3, 1, 1, 3, 1,\n",
       "       1, 1, 1, 3, 1, 1, 1, 1, 3, 3, 3, 1, 1, 1, 1, 1, 1, 1, 1, 1, 1, 3,\n",
       "       1, 1, 1, 1, 1, 1, 1, 3, 1, 1, 1, 3, 1, 3, 1, 1, 1, 1, 1, 1, 1, 1,\n",
       "       1, 3, 1, 3, 3, 1, 1, 1, 1, 1, 1, 3, 1, 1, 3, 1, 1, 1, 1, 1, 3, 1,\n",
       "       1, 1, 1, 1, 1, 1, 1, 1, 1, 1, 1, 1, 1, 3, 1, 1, 1, 1, 1, 1, 3, 1,\n",
       "       3, 1, 1, 3, 1, 1, 1, 1, 1, 1, 1, 1, 1, 1, 1, 1, 1, 3, 0, 1, 3, 1,\n",
       "       1, 1, 1, 1, 3, 3, 3, 1, 1, 3, 1, 1, 3, 1, 1, 3, 1, 1, 3, 3, 1, 1,\n",
       "       1, 1, 1, 1, 1, 1, 3, 1, 1, 1, 1, 3, 1, 0, 1, 1, 3])"
      ]
     },
     "execution_count": 15,
     "metadata": {},
     "output_type": "execute_result"
    }
   ],
   "source": [
    "y_train"
   ]
  },
  {
   "cell_type": "code",
   "execution_count": 16,
   "id": "bc8d6e62",
   "metadata": {},
   "outputs": [
    {
     "data": {
      "text/plain": [
       "array([1, 3, 1, 1, 1, 1, 1, 1, 1, 3, 1, 1, 3, 1, 3, 1, 1, 1, 1, 3, 1, 1,\n",
       "       1, 1, 1, 1, 3, 3, 1, 1, 1, 1, 1, 1, 1, 1, 1, 1, 1, 1, 1, 1, 3, 1,\n",
       "       1, 1, 1, 1, 1, 3, 1, 1, 1, 1, 1, 1, 1, 1, 1, 3, 1, 1, 1, 1, 3, 1,\n",
       "       1, 1, 1, 1])"
      ]
     },
     "execution_count": 16,
     "metadata": {},
     "output_type": "execute_result"
    }
   ],
   "source": [
    "y_test"
   ]
  },
  {
   "cell_type": "markdown",
   "id": "6f6426b6",
   "metadata": {},
   "source": [
    "# Linear"
   ]
  },
  {
   "cell_type": "code",
   "execution_count": 64,
   "id": "c800b9f9",
   "metadata": {},
   "outputs": [],
   "source": [
    "from sklearn.linear_model import LinearRegression"
   ]
  },
  {
   "cell_type": "code",
   "execution_count": 19,
   "id": "f68da704",
   "metadata": {},
   "outputs": [
    {
     "data": {
      "text/html": [
       "<style>#sk-container-id-1 {color: black;}#sk-container-id-1 pre{padding: 0;}#sk-container-id-1 div.sk-toggleable {background-color: white;}#sk-container-id-1 label.sk-toggleable__label {cursor: pointer;display: block;width: 100%;margin-bottom: 0;padding: 0.3em;box-sizing: border-box;text-align: center;}#sk-container-id-1 label.sk-toggleable__label-arrow:before {content: \"▸\";float: left;margin-right: 0.25em;color: #696969;}#sk-container-id-1 label.sk-toggleable__label-arrow:hover:before {color: black;}#sk-container-id-1 div.sk-estimator:hover label.sk-toggleable__label-arrow:before {color: black;}#sk-container-id-1 div.sk-toggleable__content {max-height: 0;max-width: 0;overflow: hidden;text-align: left;background-color: #f0f8ff;}#sk-container-id-1 div.sk-toggleable__content pre {margin: 0.2em;color: black;border-radius: 0.25em;background-color: #f0f8ff;}#sk-container-id-1 input.sk-toggleable__control:checked~div.sk-toggleable__content {max-height: 200px;max-width: 100%;overflow: auto;}#sk-container-id-1 input.sk-toggleable__control:checked~label.sk-toggleable__label-arrow:before {content: \"▾\";}#sk-container-id-1 div.sk-estimator input.sk-toggleable__control:checked~label.sk-toggleable__label {background-color: #d4ebff;}#sk-container-id-1 div.sk-label input.sk-toggleable__control:checked~label.sk-toggleable__label {background-color: #d4ebff;}#sk-container-id-1 input.sk-hidden--visually {border: 0;clip: rect(1px 1px 1px 1px);clip: rect(1px, 1px, 1px, 1px);height: 1px;margin: -1px;overflow: hidden;padding: 0;position: absolute;width: 1px;}#sk-container-id-1 div.sk-estimator {font-family: monospace;background-color: #f0f8ff;border: 1px dotted black;border-radius: 0.25em;box-sizing: border-box;margin-bottom: 0.5em;}#sk-container-id-1 div.sk-estimator:hover {background-color: #d4ebff;}#sk-container-id-1 div.sk-parallel-item::after {content: \"\";width: 100%;border-bottom: 1px solid gray;flex-grow: 1;}#sk-container-id-1 div.sk-label:hover label.sk-toggleable__label {background-color: #d4ebff;}#sk-container-id-1 div.sk-serial::before {content: \"\";position: absolute;border-left: 1px solid gray;box-sizing: border-box;top: 0;bottom: 0;left: 50%;z-index: 0;}#sk-container-id-1 div.sk-serial {display: flex;flex-direction: column;align-items: center;background-color: white;padding-right: 0.2em;padding-left: 0.2em;position: relative;}#sk-container-id-1 div.sk-item {position: relative;z-index: 1;}#sk-container-id-1 div.sk-parallel {display: flex;align-items: stretch;justify-content: center;background-color: white;position: relative;}#sk-container-id-1 div.sk-item::before, #sk-container-id-1 div.sk-parallel-item::before {content: \"\";position: absolute;border-left: 1px solid gray;box-sizing: border-box;top: 0;bottom: 0;left: 50%;z-index: -1;}#sk-container-id-1 div.sk-parallel-item {display: flex;flex-direction: column;z-index: 1;position: relative;background-color: white;}#sk-container-id-1 div.sk-parallel-item:first-child::after {align-self: flex-end;width: 50%;}#sk-container-id-1 div.sk-parallel-item:last-child::after {align-self: flex-start;width: 50%;}#sk-container-id-1 div.sk-parallel-item:only-child::after {width: 0;}#sk-container-id-1 div.sk-dashed-wrapped {border: 1px dashed gray;margin: 0 0.4em 0.5em 0.4em;box-sizing: border-box;padding-bottom: 0.4em;background-color: white;}#sk-container-id-1 div.sk-label label {font-family: monospace;font-weight: bold;display: inline-block;line-height: 1.2em;}#sk-container-id-1 div.sk-label-container {text-align: center;}#sk-container-id-1 div.sk-container {/* jupyter's `normalize.less` sets `[hidden] { display: none; }` but bootstrap.min.css set `[hidden] { display: none !important; }` so we also need the `!important` here to be able to override the default hidden behavior on the sphinx rendered scikit-learn.org. See: https://github.com/scikit-learn/scikit-learn/issues/21755 */display: inline-block !important;position: relative;}#sk-container-id-1 div.sk-text-repr-fallback {display: none;}</style><div id=\"sk-container-id-1\" class=\"sk-top-container\"><div class=\"sk-text-repr-fallback\"><pre>LinearRegression()</pre><b>In a Jupyter environment, please rerun this cell to show the HTML representation or trust the notebook. <br />On GitHub, the HTML representation is unable to render, please try loading this page with nbviewer.org.</b></div><div class=\"sk-container\" hidden><div class=\"sk-item\"><div class=\"sk-estimator sk-toggleable\"><input class=\"sk-toggleable__control sk-hidden--visually\" id=\"sk-estimator-id-1\" type=\"checkbox\" checked><label for=\"sk-estimator-id-1\" class=\"sk-toggleable__label sk-toggleable__label-arrow\">LinearRegression</label><div class=\"sk-toggleable__content\"><pre>LinearRegression()</pre></div></div></div></div></div>"
      ],
      "text/plain": [
       "LinearRegression()"
      ]
     },
     "execution_count": 19,
     "metadata": {},
     "output_type": "execute_result"
    }
   ],
   "source": [
    "regressor=LinearRegression()\n",
    "regressor"
   ]
  },
  {
   "cell_type": "code",
   "execution_count": 20,
   "id": "deb2b75e",
   "metadata": {},
   "outputs": [
    {
     "data": {
      "text/html": [
       "<style>#sk-container-id-2 {color: black;}#sk-container-id-2 pre{padding: 0;}#sk-container-id-2 div.sk-toggleable {background-color: white;}#sk-container-id-2 label.sk-toggleable__label {cursor: pointer;display: block;width: 100%;margin-bottom: 0;padding: 0.3em;box-sizing: border-box;text-align: center;}#sk-container-id-2 label.sk-toggleable__label-arrow:before {content: \"▸\";float: left;margin-right: 0.25em;color: #696969;}#sk-container-id-2 label.sk-toggleable__label-arrow:hover:before {color: black;}#sk-container-id-2 div.sk-estimator:hover label.sk-toggleable__label-arrow:before {color: black;}#sk-container-id-2 div.sk-toggleable__content {max-height: 0;max-width: 0;overflow: hidden;text-align: left;background-color: #f0f8ff;}#sk-container-id-2 div.sk-toggleable__content pre {margin: 0.2em;color: black;border-radius: 0.25em;background-color: #f0f8ff;}#sk-container-id-2 input.sk-toggleable__control:checked~div.sk-toggleable__content {max-height: 200px;max-width: 100%;overflow: auto;}#sk-container-id-2 input.sk-toggleable__control:checked~label.sk-toggleable__label-arrow:before {content: \"▾\";}#sk-container-id-2 div.sk-estimator input.sk-toggleable__control:checked~label.sk-toggleable__label {background-color: #d4ebff;}#sk-container-id-2 div.sk-label input.sk-toggleable__control:checked~label.sk-toggleable__label {background-color: #d4ebff;}#sk-container-id-2 input.sk-hidden--visually {border: 0;clip: rect(1px 1px 1px 1px);clip: rect(1px, 1px, 1px, 1px);height: 1px;margin: -1px;overflow: hidden;padding: 0;position: absolute;width: 1px;}#sk-container-id-2 div.sk-estimator {font-family: monospace;background-color: #f0f8ff;border: 1px dotted black;border-radius: 0.25em;box-sizing: border-box;margin-bottom: 0.5em;}#sk-container-id-2 div.sk-estimator:hover {background-color: #d4ebff;}#sk-container-id-2 div.sk-parallel-item::after {content: \"\";width: 100%;border-bottom: 1px solid gray;flex-grow: 1;}#sk-container-id-2 div.sk-label:hover label.sk-toggleable__label {background-color: #d4ebff;}#sk-container-id-2 div.sk-serial::before {content: \"\";position: absolute;border-left: 1px solid gray;box-sizing: border-box;top: 0;bottom: 0;left: 50%;z-index: 0;}#sk-container-id-2 div.sk-serial {display: flex;flex-direction: column;align-items: center;background-color: white;padding-right: 0.2em;padding-left: 0.2em;position: relative;}#sk-container-id-2 div.sk-item {position: relative;z-index: 1;}#sk-container-id-2 div.sk-parallel {display: flex;align-items: stretch;justify-content: center;background-color: white;position: relative;}#sk-container-id-2 div.sk-item::before, #sk-container-id-2 div.sk-parallel-item::before {content: \"\";position: absolute;border-left: 1px solid gray;box-sizing: border-box;top: 0;bottom: 0;left: 50%;z-index: -1;}#sk-container-id-2 div.sk-parallel-item {display: flex;flex-direction: column;z-index: 1;position: relative;background-color: white;}#sk-container-id-2 div.sk-parallel-item:first-child::after {align-self: flex-end;width: 50%;}#sk-container-id-2 div.sk-parallel-item:last-child::after {align-self: flex-start;width: 50%;}#sk-container-id-2 div.sk-parallel-item:only-child::after {width: 0;}#sk-container-id-2 div.sk-dashed-wrapped {border: 1px dashed gray;margin: 0 0.4em 0.5em 0.4em;box-sizing: border-box;padding-bottom: 0.4em;background-color: white;}#sk-container-id-2 div.sk-label label {font-family: monospace;font-weight: bold;display: inline-block;line-height: 1.2em;}#sk-container-id-2 div.sk-label-container {text-align: center;}#sk-container-id-2 div.sk-container {/* jupyter's `normalize.less` sets `[hidden] { display: none; }` but bootstrap.min.css set `[hidden] { display: none !important; }` so we also need the `!important` here to be able to override the default hidden behavior on the sphinx rendered scikit-learn.org. See: https://github.com/scikit-learn/scikit-learn/issues/21755 */display: inline-block !important;position: relative;}#sk-container-id-2 div.sk-text-repr-fallback {display: none;}</style><div id=\"sk-container-id-2\" class=\"sk-top-container\"><div class=\"sk-text-repr-fallback\"><pre>LinearRegression()</pre><b>In a Jupyter environment, please rerun this cell to show the HTML representation or trust the notebook. <br />On GitHub, the HTML representation is unable to render, please try loading this page with nbviewer.org.</b></div><div class=\"sk-container\" hidden><div class=\"sk-item\"><div class=\"sk-estimator sk-toggleable\"><input class=\"sk-toggleable__control sk-hidden--visually\" id=\"sk-estimator-id-2\" type=\"checkbox\" checked><label for=\"sk-estimator-id-2\" class=\"sk-toggleable__label sk-toggleable__label-arrow\">LinearRegression</label><div class=\"sk-toggleable__content\"><pre>LinearRegression()</pre></div></div></div></div></div>"
      ],
      "text/plain": [
       "LinearRegression()"
      ]
     },
     "execution_count": 20,
     "metadata": {},
     "output_type": "execute_result"
    }
   ],
   "source": [
    "regressor.fit(x_train,y_train)"
   ]
  },
  {
   "cell_type": "code",
   "execution_count": 21,
   "id": "0cf4289f",
   "metadata": {},
   "outputs": [
    {
     "data": {
      "text/plain": [
       "array([1.59062873, 1.39359967, 1.47313299, 1.48447384, 1.37420761,\n",
       "       1.53307754, 1.31368653, 1.21835601, 1.55331747, 1.20215478,\n",
       "       1.66121455, 1.52557866, 1.43718409, 1.41127374, 1.35510913,\n",
       "       1.51243357, 1.45545892, 1.48592247, 1.40065668, 1.63175777,\n",
       "       1.72590901, 1.49511511, 1.47708543, 1.41241518, 1.24740876,\n",
       "       1.42589167, 1.6230312 , 1.48889236, 1.35499866, 1.4903652 ,\n",
       "       1.41380177, 1.25062379, 1.42305645, 1.13009612, 1.66721638,\n",
       "       1.99965294, 1.45780384, 1.30355975, 1.42714357, 1.2903042 ,\n",
       "       1.63912196, 1.53294286, 1.48150395, 1.3564715 , 1.10800353,\n",
       "       1.42000031, 1.2844991 , 1.64217811, 1.46860401, 1.44765286,\n",
       "       1.37568045, 1.62439357, 1.34774493, 1.42834706, 1.62450404,\n",
       "       1.71559914, 1.77009419, 1.51071559, 1.25798799, 1.15071587,\n",
       "       1.21246465, 1.27550317, 1.22130169, 1.70381643, 1.42408743,\n",
       "       1.40799666, 1.20065772, 1.48005532, 1.38884975, 1.56510018,\n",
       "       1.46090841, 1.46238125, 1.36678138, 1.58768305, 1.65679603,\n",
       "       1.35064219, 1.26387935, 1.48739531, 1.29478476, 1.48444963,\n",
       "       1.52413004, 1.14924303, 1.39032259, 1.66857875, 1.62144789,\n",
       "       1.46724163, 1.44160261, 1.34044278, 1.57737318, 1.45485817,\n",
       "       1.67299727, 1.66574354, 1.50801506, 1.63617629, 1.38887397,\n",
       "       1.44530793, 1.45398608, 1.6491867 , 1.57123668, 1.49328666,\n",
       "       1.2183318 , 1.55184463, 1.62744972, 1.71276393, 1.26535219,\n",
       "       1.17133562, 1.62881209, 1.18592933, 1.6642707 , 1.30926801,\n",
       "       1.2771349 , 1.37003424, 1.18006219, 1.45927668, 1.44514904,\n",
       "       1.54622262, 1.41232893, 1.63775959, 1.35941718, 1.21393749,\n",
       "       1.48627808, 1.18889922, 1.37150708, 1.52568913, 1.60524666,\n",
       "       1.43312119, 1.20657329, 1.46976966, 1.21541033, 1.43459402,\n",
       "       1.35069061, 1.42274927, 1.35805481, 1.32866006, 1.1330418 ,\n",
       "       1.62155836, 1.64501332, 1.38304465, 1.30632233, 1.44323434,\n",
       "       1.44749397, 1.3685614 , 1.38157181, 1.34338846, 1.43884004,\n",
       "       1.39777304, 1.34191562, 1.65963125, 1.50924275, 1.62892255,\n",
       "       1.53883422, 1.22277453, 1.61861268, 1.70087075, 1.51979777,\n",
       "       1.59493679, 1.48152816, 1.27124354, 1.42540138, 1.55380775,\n",
       "       1.39621395, 1.4756368 , 1.67583248, 1.43865693, 1.56681816,\n",
       "       1.42716779, 1.51390641, 1.60377382, 1.1844807 , 1.61713984,\n",
       "       1.49917802, 1.36825422, 1.30208691, 1.64659663, 1.25959551,\n",
       "       1.35530585, 1.17280846, 1.38592829, 1.25209663, 1.5344157 ,\n",
       "       1.54914409, 1.64206764, 1.43156209, 1.5033514 , 1.76125716,\n",
       "       1.53782745, 1.37267273, 1.51685209, 1.42147315, 1.5117844 ,\n",
       "       1.55061693, 1.71129109, 1.48297679])"
      ]
     },
     "execution_count": 21,
     "metadata": {},
     "output_type": "execute_result"
    }
   ],
   "source": [
    "xpred1=regressor.predict(x_train)\n",
    "xpred1"
   ]
  },
  {
   "cell_type": "code",
   "execution_count": 22,
   "id": "f6cf1a53",
   "metadata": {},
   "outputs": [
    {
     "data": {
      "text/plain": [
       "array([1.29333613, 1.62008552, 1.92589027, 1.18740217, 1.21688317,\n",
       "       1.53635461, 1.24339428, 1.62562127, 1.38445545, 1.42848174,\n",
       "       1.24915095, 1.62292073, 1.38001272, 1.59788246, 1.4094695 ,\n",
       "       1.31515937, 1.46282311, 1.23747871, 1.19479058, 1.56559047,\n",
       "       1.72012812, 1.49364227, 1.4389505 , 1.2404486 , 1.39212683,\n",
       "       1.66268739, 1.63186823, 1.63039539, 1.44651142, 1.51366127,\n",
       "       1.18445649, 1.35794434, 1.50065086, 1.3313606 , 1.45251324,\n",
       "       1.54030706, 1.2651933 , 1.48049719, 1.7230738 , 1.40538238,\n",
       "       1.46429595, 1.46679977, 1.51537925, 1.56068166, 1.27271638,\n",
       "       1.36708856, 1.34479925, 1.47891388, 1.53488177, 1.31976099,\n",
       "       1.23603008, 1.41274658, 1.34627209, 1.30217317, 1.63028493,\n",
       "       1.29039045, 1.65826887, 1.58743791, 1.5270515 , 1.49770518,\n",
       "       1.49069659, 1.20068194, 1.21391328, 1.19626342, 1.60977564,\n",
       "       1.24486711, 1.47710964, 1.63923243, 1.17869981, 1.31098599])"
      ]
     },
     "execution_count": 22,
     "metadata": {},
     "output_type": "execute_result"
    }
   ],
   "source": [
    "ypred1=regressor.predict(x_test)\n",
    "ypred1"
   ]
  },
  {
   "cell_type": "code",
   "execution_count": 23,
   "id": "973cfce9",
   "metadata": {},
   "outputs": [
    {
     "data": {
      "text/plain": [
       "0.032649294298720655"
      ]
     },
     "execution_count": 23,
     "metadata": {},
     "output_type": "execute_result"
    }
   ],
   "source": [
    "trainingscore1=regressor.score(x_train,y_train)\n",
    "trainingscore1"
   ]
  },
  {
   "cell_type": "code",
   "execution_count": 24,
   "id": "3d6a42ed",
   "metadata": {},
   "outputs": [
    {
     "data": {
      "text/plain": [
       "0.015518589028260532"
      ]
     },
     "execution_count": 24,
     "metadata": {},
     "output_type": "execute_result"
    }
   ],
   "source": [
    "testingscore1=regressor.score(x_test,y_test)\n",
    "testingscore1"
   ]
  },
  {
   "cell_type": "markdown",
   "id": "a8f6e6bb",
   "metadata": {},
   "source": [
    "To Increase the Accuracy using Std Scaler"
   ]
  },
  {
   "cell_type": "code",
   "execution_count": 65,
   "id": "9b1864fe",
   "metadata": {},
   "outputs": [],
   "source": [
    "from sklearn.preprocessing import StandardScaler"
   ]
  },
  {
   "cell_type": "code",
   "execution_count": 66,
   "id": "50746fc3",
   "metadata": {},
   "outputs": [],
   "source": [
    "ss=StandardScaler()"
   ]
  },
  {
   "cell_type": "code",
   "execution_count": 67,
   "id": "da9c8824",
   "metadata": {},
   "outputs": [],
   "source": [
    "x_test=ss.fit_transform(x_test)"
   ]
  },
  {
   "cell_type": "code",
   "execution_count": 68,
   "id": "e328ee7f",
   "metadata": {},
   "outputs": [
    {
     "data": {
      "text/html": [
       "<style>#sk-container-id-9 {color: black;}#sk-container-id-9 pre{padding: 0;}#sk-container-id-9 div.sk-toggleable {background-color: white;}#sk-container-id-9 label.sk-toggleable__label {cursor: pointer;display: block;width: 100%;margin-bottom: 0;padding: 0.3em;box-sizing: border-box;text-align: center;}#sk-container-id-9 label.sk-toggleable__label-arrow:before {content: \"▸\";float: left;margin-right: 0.25em;color: #696969;}#sk-container-id-9 label.sk-toggleable__label-arrow:hover:before {color: black;}#sk-container-id-9 div.sk-estimator:hover label.sk-toggleable__label-arrow:before {color: black;}#sk-container-id-9 div.sk-toggleable__content {max-height: 0;max-width: 0;overflow: hidden;text-align: left;background-color: #f0f8ff;}#sk-container-id-9 div.sk-toggleable__content pre {margin: 0.2em;color: black;border-radius: 0.25em;background-color: #f0f8ff;}#sk-container-id-9 input.sk-toggleable__control:checked~div.sk-toggleable__content {max-height: 200px;max-width: 100%;overflow: auto;}#sk-container-id-9 input.sk-toggleable__control:checked~label.sk-toggleable__label-arrow:before {content: \"▾\";}#sk-container-id-9 div.sk-estimator input.sk-toggleable__control:checked~label.sk-toggleable__label {background-color: #d4ebff;}#sk-container-id-9 div.sk-label input.sk-toggleable__control:checked~label.sk-toggleable__label {background-color: #d4ebff;}#sk-container-id-9 input.sk-hidden--visually {border: 0;clip: rect(1px 1px 1px 1px);clip: rect(1px, 1px, 1px, 1px);height: 1px;margin: -1px;overflow: hidden;padding: 0;position: absolute;width: 1px;}#sk-container-id-9 div.sk-estimator {font-family: monospace;background-color: #f0f8ff;border: 1px dotted black;border-radius: 0.25em;box-sizing: border-box;margin-bottom: 0.5em;}#sk-container-id-9 div.sk-estimator:hover {background-color: #d4ebff;}#sk-container-id-9 div.sk-parallel-item::after {content: \"\";width: 100%;border-bottom: 1px solid gray;flex-grow: 1;}#sk-container-id-9 div.sk-label:hover label.sk-toggleable__label {background-color: #d4ebff;}#sk-container-id-9 div.sk-serial::before {content: \"\";position: absolute;border-left: 1px solid gray;box-sizing: border-box;top: 0;bottom: 0;left: 50%;z-index: 0;}#sk-container-id-9 div.sk-serial {display: flex;flex-direction: column;align-items: center;background-color: white;padding-right: 0.2em;padding-left: 0.2em;position: relative;}#sk-container-id-9 div.sk-item {position: relative;z-index: 1;}#sk-container-id-9 div.sk-parallel {display: flex;align-items: stretch;justify-content: center;background-color: white;position: relative;}#sk-container-id-9 div.sk-item::before, #sk-container-id-9 div.sk-parallel-item::before {content: \"\";position: absolute;border-left: 1px solid gray;box-sizing: border-box;top: 0;bottom: 0;left: 50%;z-index: -1;}#sk-container-id-9 div.sk-parallel-item {display: flex;flex-direction: column;z-index: 1;position: relative;background-color: white;}#sk-container-id-9 div.sk-parallel-item:first-child::after {align-self: flex-end;width: 50%;}#sk-container-id-9 div.sk-parallel-item:last-child::after {align-self: flex-start;width: 50%;}#sk-container-id-9 div.sk-parallel-item:only-child::after {width: 0;}#sk-container-id-9 div.sk-dashed-wrapped {border: 1px dashed gray;margin: 0 0.4em 0.5em 0.4em;box-sizing: border-box;padding-bottom: 0.4em;background-color: white;}#sk-container-id-9 div.sk-label label {font-family: monospace;font-weight: bold;display: inline-block;line-height: 1.2em;}#sk-container-id-9 div.sk-label-container {text-align: center;}#sk-container-id-9 div.sk-container {/* jupyter's `normalize.less` sets `[hidden] { display: none; }` but bootstrap.min.css set `[hidden] { display: none !important; }` so we also need the `!important` here to be able to override the default hidden behavior on the sphinx rendered scikit-learn.org. See: https://github.com/scikit-learn/scikit-learn/issues/21755 */display: inline-block !important;position: relative;}#sk-container-id-9 div.sk-text-repr-fallback {display: none;}</style><div id=\"sk-container-id-9\" class=\"sk-top-container\"><div class=\"sk-text-repr-fallback\"><pre>StandardScaler()</pre><b>In a Jupyter environment, please rerun this cell to show the HTML representation or trust the notebook. <br />On GitHub, the HTML representation is unable to render, please try loading this page with nbviewer.org.</b></div><div class=\"sk-container\" hidden><div class=\"sk-item\"><div class=\"sk-estimator sk-toggleable\"><input class=\"sk-toggleable__control sk-hidden--visually\" id=\"sk-estimator-id-9\" type=\"checkbox\" checked><label for=\"sk-estimator-id-9\" class=\"sk-toggleable__label sk-toggleable__label-arrow\">StandardScaler</label><div class=\"sk-toggleable__content\"><pre>StandardScaler()</pre></div></div></div></div></div>"
      ],
      "text/plain": [
       "StandardScaler()"
      ]
     },
     "execution_count": 68,
     "metadata": {},
     "output_type": "execute_result"
    }
   ],
   "source": [
    "ss.fit(x_train,y_train)"
   ]
  },
  {
   "cell_type": "code",
   "execution_count": 69,
   "id": "cf0884e5",
   "metadata": {},
   "outputs": [],
   "source": [
    "x_train,x_test,y_train,y_test=train_test_split(x,y,test_size=70,random_state=69)"
   ]
  },
  {
   "cell_type": "code",
   "execution_count": 70,
   "id": "5854f7fa",
   "metadata": {},
   "outputs": [
    {
     "data": {
      "text/html": [
       "<style>#sk-container-id-10 {color: black;}#sk-container-id-10 pre{padding: 0;}#sk-container-id-10 div.sk-toggleable {background-color: white;}#sk-container-id-10 label.sk-toggleable__label {cursor: pointer;display: block;width: 100%;margin-bottom: 0;padding: 0.3em;box-sizing: border-box;text-align: center;}#sk-container-id-10 label.sk-toggleable__label-arrow:before {content: \"▸\";float: left;margin-right: 0.25em;color: #696969;}#sk-container-id-10 label.sk-toggleable__label-arrow:hover:before {color: black;}#sk-container-id-10 div.sk-estimator:hover label.sk-toggleable__label-arrow:before {color: black;}#sk-container-id-10 div.sk-toggleable__content {max-height: 0;max-width: 0;overflow: hidden;text-align: left;background-color: #f0f8ff;}#sk-container-id-10 div.sk-toggleable__content pre {margin: 0.2em;color: black;border-radius: 0.25em;background-color: #f0f8ff;}#sk-container-id-10 input.sk-toggleable__control:checked~div.sk-toggleable__content {max-height: 200px;max-width: 100%;overflow: auto;}#sk-container-id-10 input.sk-toggleable__control:checked~label.sk-toggleable__label-arrow:before {content: \"▾\";}#sk-container-id-10 div.sk-estimator input.sk-toggleable__control:checked~label.sk-toggleable__label {background-color: #d4ebff;}#sk-container-id-10 div.sk-label input.sk-toggleable__control:checked~label.sk-toggleable__label {background-color: #d4ebff;}#sk-container-id-10 input.sk-hidden--visually {border: 0;clip: rect(1px 1px 1px 1px);clip: rect(1px, 1px, 1px, 1px);height: 1px;margin: -1px;overflow: hidden;padding: 0;position: absolute;width: 1px;}#sk-container-id-10 div.sk-estimator {font-family: monospace;background-color: #f0f8ff;border: 1px dotted black;border-radius: 0.25em;box-sizing: border-box;margin-bottom: 0.5em;}#sk-container-id-10 div.sk-estimator:hover {background-color: #d4ebff;}#sk-container-id-10 div.sk-parallel-item::after {content: \"\";width: 100%;border-bottom: 1px solid gray;flex-grow: 1;}#sk-container-id-10 div.sk-label:hover label.sk-toggleable__label {background-color: #d4ebff;}#sk-container-id-10 div.sk-serial::before {content: \"\";position: absolute;border-left: 1px solid gray;box-sizing: border-box;top: 0;bottom: 0;left: 50%;z-index: 0;}#sk-container-id-10 div.sk-serial {display: flex;flex-direction: column;align-items: center;background-color: white;padding-right: 0.2em;padding-left: 0.2em;position: relative;}#sk-container-id-10 div.sk-item {position: relative;z-index: 1;}#sk-container-id-10 div.sk-parallel {display: flex;align-items: stretch;justify-content: center;background-color: white;position: relative;}#sk-container-id-10 div.sk-item::before, #sk-container-id-10 div.sk-parallel-item::before {content: \"\";position: absolute;border-left: 1px solid gray;box-sizing: border-box;top: 0;bottom: 0;left: 50%;z-index: -1;}#sk-container-id-10 div.sk-parallel-item {display: flex;flex-direction: column;z-index: 1;position: relative;background-color: white;}#sk-container-id-10 div.sk-parallel-item:first-child::after {align-self: flex-end;width: 50%;}#sk-container-id-10 div.sk-parallel-item:last-child::after {align-self: flex-start;width: 50%;}#sk-container-id-10 div.sk-parallel-item:only-child::after {width: 0;}#sk-container-id-10 div.sk-dashed-wrapped {border: 1px dashed gray;margin: 0 0.4em 0.5em 0.4em;box-sizing: border-box;padding-bottom: 0.4em;background-color: white;}#sk-container-id-10 div.sk-label label {font-family: monospace;font-weight: bold;display: inline-block;line-height: 1.2em;}#sk-container-id-10 div.sk-label-container {text-align: center;}#sk-container-id-10 div.sk-container {/* jupyter's `normalize.less` sets `[hidden] { display: none; }` but bootstrap.min.css set `[hidden] { display: none !important; }` so we also need the `!important` here to be able to override the default hidden behavior on the sphinx rendered scikit-learn.org. See: https://github.com/scikit-learn/scikit-learn/issues/21755 */display: inline-block !important;position: relative;}#sk-container-id-10 div.sk-text-repr-fallback {display: none;}</style><div id=\"sk-container-id-10\" class=\"sk-top-container\"><div class=\"sk-text-repr-fallback\"><pre>LinearRegression()</pre><b>In a Jupyter environment, please rerun this cell to show the HTML representation or trust the notebook. <br />On GitHub, the HTML representation is unable to render, please try loading this page with nbviewer.org.</b></div><div class=\"sk-container\" hidden><div class=\"sk-item\"><div class=\"sk-estimator sk-toggleable\"><input class=\"sk-toggleable__control sk-hidden--visually\" id=\"sk-estimator-id-10\" type=\"checkbox\" checked><label for=\"sk-estimator-id-10\" class=\"sk-toggleable__label sk-toggleable__label-arrow\">LinearRegression</label><div class=\"sk-toggleable__content\"><pre>LinearRegression()</pre></div></div></div></div></div>"
      ],
      "text/plain": [
       "LinearRegression()"
      ]
     },
     "execution_count": 70,
     "metadata": {},
     "output_type": "execute_result"
    }
   ],
   "source": [
    "regressor1=LinearRegression()\n",
    "regressor1.fit(x_train,y_train)"
   ]
  },
  {
   "cell_type": "code",
   "execution_count": 71,
   "id": "7ea3585d",
   "metadata": {},
   "outputs": [
    {
     "data": {
      "text/plain": [
       "array([1.07122788, 1.15768662, 1.53173784, 1.62627564, 1.14383679,\n",
       "       1.57213317, 1.66551682, 1.40667546, 1.41306552, 1.48736343,\n",
       "       1.63144799, 1.36805358, 1.09315678, 1.39208541, 1.19031413,\n",
       "       1.49123982, 1.34560807, 1.18726561, 1.46049164, 1.18915998,\n",
       "       1.55712919, 1.50288403, 1.24350782, 1.26910773, 1.45702919,\n",
       "       1.54555816, 1.51160063, 1.37361897, 1.21381111, 1.21570548,\n",
       "       1.5319464 , 1.38862295, 1.27236163, 1.48085245, 1.60088429,\n",
       "       1.09923879, 1.40362693, 1.46658869, 1.05506975, 1.08854017,\n",
       "       1.14960755, 1.43079493, 1.17961551, 1.47549562, 1.15999493,\n",
       "       1.62512149, 1.47203316, 1.36669406, 1.5158791 , 1.52135047,\n",
       "       1.42848662, 1.41191137, 1.43930297, 1.33752901, 1.15307001,\n",
       "       1.07007373, 1.58062936, 1.23594856, 1.5905996 , 1.58944545,\n",
       "       1.57308195, 1.3772868 , 1.37477313, 1.58178351, 1.37938974,\n",
       "       1.56059164, 1.05737806, 1.29449908, 1.30521274, 1.71388853,\n",
       "       1.19493074, 1.33857728, 1.20993472, 1.33374026, 1.24171933,\n",
       "       1.26312841, 1.6055009 , 1.48316076, 1.3092945 , 1.47318732,\n",
       "       1.56982486, 1.60203844, 1.40782961, 1.51211725, 1.28621146,\n",
       "       1.40624648, 1.55272114, 1.6078092 , 1.62281318, 1.18800583,\n",
       "       1.41937113, 1.19461949, 1.56289995, 1.24466197, 1.37382434,\n",
       "       1.29334493, 1.46774284, 1.18978247, 1.55482088, 1.2007015 ,\n",
       "       1.52732979, 1.41809925, 1.66436266, 1.41013792, 1.52155903,\n",
       "       1.50455799, 1.55597503, 1.31044865, 1.37959511, 1.44014587,\n",
       "       1.46931093, 1.53079225, 1.48242054, 1.67128758, 1.31737357,\n",
       "       1.38474656, 1.59973014, 1.5617458 , 1.22535263, 1.32545263,\n",
       "       1.3312234 , 1.17615306, 1.24235367, 1.63687157, 1.55576966,\n",
       "       1.57549294, 1.35997452, 1.33868316, 1.59395937, 1.08738602,\n",
       "       1.52040488, 1.46857071, 1.56867071, 1.43194908, 1.55828334,\n",
       "       1.39744224, 1.41579095, 1.61242581, 1.30405859, 1.58755427,\n",
       "       1.44937909, 1.27813239, 1.32083602, 1.14078827, 1.13922018,\n",
       "       1.23312045, 1.32188749, 1.42271586, 1.33489441, 1.4796983 ,\n",
       "       1.39282563, 1.24287348, 1.55251258, 1.20647226, 1.45430695,\n",
       "       1.26197426, 1.32304164, 1.28872832, 1.45125842, 1.62165903,\n",
       "       1.65533801, 1.16114908, 1.46164579, 1.34214562, 1.31852772,\n",
       "       1.67359588, 1.51032875, 1.66195167, 1.46279995, 1.16576569,\n",
       "       1.38074926, 1.03775747, 1.1484534 , 1.22419848, 1.12578429,\n",
       "       1.29482537, 1.18192382, 1.20531811, 1.74158818, 1.40771188,\n",
       "       1.47780393, 1.44895012, 1.22032209, 1.22955531, 1.16461153,\n",
       "       1.6343547 , 1.24581613, 1.38705487, 1.34791638, 1.2226304 ,\n",
       "       1.23825687, 1.69426794, 1.18307797])"
      ]
     },
     "execution_count": 71,
     "metadata": {},
     "output_type": "execute_result"
    }
   ],
   "source": [
    "xpred2=regressor1.predict(x_train)\n",
    "xpred2"
   ]
  },
  {
   "cell_type": "code",
   "execution_count": 72,
   "id": "dd111eb8",
   "metadata": {},
   "outputs": [
    {
     "data": {
      "text/plain": [
       "array([1.22304433, 1.3265041 , 1.59626768, 1.57318463, 1.52471024,\n",
       "       1.30352374, 1.27697824, 1.10154709, 1.19954735, 1.33983731,\n",
       "       1.15884077, 1.16564796, 1.52617564, 1.52942953, 1.45010427,\n",
       "       1.63089225, 1.16230323, 1.12232183, 1.69657624, 1.17372703,\n",
       "       1.5640541 , 1.44779597, 1.13229527, 1.5561836 , 1.58010955,\n",
       "       1.7485131 , 1.59511353, 1.34266223, 1.31160281, 1.40540358,\n",
       "       1.25556915, 1.41421967, 1.53887131, 1.28757417, 1.47434147,\n",
       "       1.13575773, 1.38590072, 1.31790842, 1.45776941, 1.40708939,\n",
       "       1.61011751, 1.30604061, 1.54674182, 1.45241258, 1.48662321,\n",
       "       1.10039294, 1.49008567, 1.70580946, 1.56887927, 1.11193446,\n",
       "       1.39397978, 1.38359241, 1.38977711, 1.67464735, 1.59175376,\n",
       "       1.48431491, 1.44433351, 1.5812637 , 1.55366673, 1.51263706,\n",
       "       1.54002546, 1.5091746 , 1.4146368 , 1.47277339, 1.46815678,\n",
       "       1.19996128, 1.57559562, 1.43668342, 1.14499095, 1.59101673])"
      ]
     },
     "execution_count": 72,
     "metadata": {},
     "output_type": "execute_result"
    }
   ],
   "source": [
    "ypred2=regressor1.predict(x_test)\n",
    "ypred2"
   ]
  },
  {
   "cell_type": "code",
   "execution_count": 73,
   "id": "96c80d6e",
   "metadata": {},
   "outputs": [
    {
     "data": {
      "text/plain": [
       "0.042233371015266585"
      ]
     },
     "execution_count": 73,
     "metadata": {},
     "output_type": "execute_result"
    }
   ],
   "source": [
    "trainingscore2=regressor1.score(x_train,y_train)\n",
    "trainingscore2"
   ]
  },
  {
   "cell_type": "code",
   "execution_count": 74,
   "id": "61b1b770",
   "metadata": {},
   "outputs": [
    {
     "data": {
      "text/plain": [
       "0.01838092053125595"
      ]
     },
     "execution_count": 74,
     "metadata": {},
     "output_type": "execute_result"
    }
   ],
   "source": [
    "testingscore2=regressor1.score(x_test,y_test)\n",
    "testingscore2"
   ]
  },
  {
   "cell_type": "code",
   "execution_count": 17,
   "id": "5a78753a",
   "metadata": {},
   "outputs": [],
   "source": [
    "from sklearn import metrics"
   ]
  },
  {
   "cell_type": "code",
   "execution_count": 55,
   "id": "e1178c50",
   "metadata": {},
   "outputs": [
    {
     "name": "stdout",
     "output_type": "stream",
     "text": [
      "mse\n"
     ]
    },
    {
     "data": {
      "text/plain": [
       "(None, 0.5195823129075468)"
      ]
     },
     "execution_count": 55,
     "metadata": {},
     "output_type": "execute_result"
    }
   ],
   "source": [
    "print(\"mse\"),metrics.mean_squared_error(y_test,ypred2)"
   ]
  },
  {
   "cell_type": "code",
   "execution_count": 56,
   "id": "2a1c0c98",
   "metadata": {},
   "outputs": [
    {
     "name": "stdout",
     "output_type": "stream",
     "text": [
      "mae\n"
     ]
    },
    {
     "data": {
      "text/plain": [
       "(None, 0.5757810526459254)"
      ]
     },
     "execution_count": 56,
     "metadata": {},
     "output_type": "execute_result"
    }
   ],
   "source": [
    "print(\"mae\"),metrics.mean_absolute_error(y_test,ypred2)"
   ]
  },
  {
   "cell_type": "code",
   "execution_count": 57,
   "id": "f9537025",
   "metadata": {},
   "outputs": [
    {
     "name": "stdout",
     "output_type": "stream",
     "text": [
      "rmse\n"
     ]
    },
    {
     "data": {
      "text/plain": [
       "(None, 0.5195823129075468)"
      ]
     },
     "execution_count": 57,
     "metadata": {},
     "output_type": "execute_result"
    }
   ],
   "source": [
    "print(\"rmse\"),metrics.mean_squared_error(y_test,ypred2)"
   ]
  },
  {
   "cell_type": "code",
   "execution_count": 58,
   "id": "9edc945b",
   "metadata": {},
   "outputs": [
    {
     "name": "stdout",
     "output_type": "stream",
     "text": [
      "rmae\n"
     ]
    },
    {
     "data": {
      "text/plain": [
       "(None, 0.7588023804956897)"
      ]
     },
     "execution_count": 58,
     "metadata": {},
     "output_type": "execute_result"
    }
   ],
   "source": [
    "print(\"rmae\"),np.sqrt(metrics.mean_absolute_error(y_test,ypred2))"
   ]
  },
  {
   "cell_type": "code",
   "execution_count": 18,
   "id": "b0e56532",
   "metadata": {},
   "outputs": [],
   "source": [
    "from sklearn.metrics import r2_score"
   ]
  },
  {
   "cell_type": "code",
   "execution_count": 60,
   "id": "bb563f46",
   "metadata": {},
   "outputs": [
    {
     "data": {
      "text/plain": [
       "0.0192783770235061"
      ]
     },
     "execution_count": 60,
     "metadata": {},
     "output_type": "execute_result"
    }
   ],
   "source": [
    "r1=r2_score(y_test,ypred2)\n",
    "r1"
   ]
  },
  {
   "cell_type": "markdown",
   "id": "1dfb63a6",
   "metadata": {},
   "source": [
    "# Decision Tree"
   ]
  },
  {
   "cell_type": "code",
   "execution_count": 75,
   "id": "1bdc74c0",
   "metadata": {},
   "outputs": [],
   "source": [
    "from sklearn.tree import DecisionTreeRegressor"
   ]
  },
  {
   "cell_type": "code",
   "execution_count": 19,
   "id": "ee3f979f",
   "metadata": {},
   "outputs": [
    {
     "data": {
      "text/html": [
       "<style>#sk-container-id-1 {color: black;}#sk-container-id-1 pre{padding: 0;}#sk-container-id-1 div.sk-toggleable {background-color: white;}#sk-container-id-1 label.sk-toggleable__label {cursor: pointer;display: block;width: 100%;margin-bottom: 0;padding: 0.3em;box-sizing: border-box;text-align: center;}#sk-container-id-1 label.sk-toggleable__label-arrow:before {content: \"▸\";float: left;margin-right: 0.25em;color: #696969;}#sk-container-id-1 label.sk-toggleable__label-arrow:hover:before {color: black;}#sk-container-id-1 div.sk-estimator:hover label.sk-toggleable__label-arrow:before {color: black;}#sk-container-id-1 div.sk-toggleable__content {max-height: 0;max-width: 0;overflow: hidden;text-align: left;background-color: #f0f8ff;}#sk-container-id-1 div.sk-toggleable__content pre {margin: 0.2em;color: black;border-radius: 0.25em;background-color: #f0f8ff;}#sk-container-id-1 input.sk-toggleable__control:checked~div.sk-toggleable__content {max-height: 200px;max-width: 100%;overflow: auto;}#sk-container-id-1 input.sk-toggleable__control:checked~label.sk-toggleable__label-arrow:before {content: \"▾\";}#sk-container-id-1 div.sk-estimator input.sk-toggleable__control:checked~label.sk-toggleable__label {background-color: #d4ebff;}#sk-container-id-1 div.sk-label input.sk-toggleable__control:checked~label.sk-toggleable__label {background-color: #d4ebff;}#sk-container-id-1 input.sk-hidden--visually {border: 0;clip: rect(1px 1px 1px 1px);clip: rect(1px, 1px, 1px, 1px);height: 1px;margin: -1px;overflow: hidden;padding: 0;position: absolute;width: 1px;}#sk-container-id-1 div.sk-estimator {font-family: monospace;background-color: #f0f8ff;border: 1px dotted black;border-radius: 0.25em;box-sizing: border-box;margin-bottom: 0.5em;}#sk-container-id-1 div.sk-estimator:hover {background-color: #d4ebff;}#sk-container-id-1 div.sk-parallel-item::after {content: \"\";width: 100%;border-bottom: 1px solid gray;flex-grow: 1;}#sk-container-id-1 div.sk-label:hover label.sk-toggleable__label {background-color: #d4ebff;}#sk-container-id-1 div.sk-serial::before {content: \"\";position: absolute;border-left: 1px solid gray;box-sizing: border-box;top: 0;bottom: 0;left: 50%;z-index: 0;}#sk-container-id-1 div.sk-serial {display: flex;flex-direction: column;align-items: center;background-color: white;padding-right: 0.2em;padding-left: 0.2em;position: relative;}#sk-container-id-1 div.sk-item {position: relative;z-index: 1;}#sk-container-id-1 div.sk-parallel {display: flex;align-items: stretch;justify-content: center;background-color: white;position: relative;}#sk-container-id-1 div.sk-item::before, #sk-container-id-1 div.sk-parallel-item::before {content: \"\";position: absolute;border-left: 1px solid gray;box-sizing: border-box;top: 0;bottom: 0;left: 50%;z-index: -1;}#sk-container-id-1 div.sk-parallel-item {display: flex;flex-direction: column;z-index: 1;position: relative;background-color: white;}#sk-container-id-1 div.sk-parallel-item:first-child::after {align-self: flex-end;width: 50%;}#sk-container-id-1 div.sk-parallel-item:last-child::after {align-self: flex-start;width: 50%;}#sk-container-id-1 div.sk-parallel-item:only-child::after {width: 0;}#sk-container-id-1 div.sk-dashed-wrapped {border: 1px dashed gray;margin: 0 0.4em 0.5em 0.4em;box-sizing: border-box;padding-bottom: 0.4em;background-color: white;}#sk-container-id-1 div.sk-label label {font-family: monospace;font-weight: bold;display: inline-block;line-height: 1.2em;}#sk-container-id-1 div.sk-label-container {text-align: center;}#sk-container-id-1 div.sk-container {/* jupyter's `normalize.less` sets `[hidden] { display: none; }` but bootstrap.min.css set `[hidden] { display: none !important; }` so we also need the `!important` here to be able to override the default hidden behavior on the sphinx rendered scikit-learn.org. See: https://github.com/scikit-learn/scikit-learn/issues/21755 */display: inline-block !important;position: relative;}#sk-container-id-1 div.sk-text-repr-fallback {display: none;}</style><div id=\"sk-container-id-1\" class=\"sk-top-container\"><div class=\"sk-text-repr-fallback\"><pre>DecisionTreeRegressor()</pre><b>In a Jupyter environment, please rerun this cell to show the HTML representation or trust the notebook. <br />On GitHub, the HTML representation is unable to render, please try loading this page with nbviewer.org.</b></div><div class=\"sk-container\" hidden><div class=\"sk-item\"><div class=\"sk-estimator sk-toggleable\"><input class=\"sk-toggleable__control sk-hidden--visually\" id=\"sk-estimator-id-1\" type=\"checkbox\" checked><label for=\"sk-estimator-id-1\" class=\"sk-toggleable__label sk-toggleable__label-arrow\">DecisionTreeRegressor</label><div class=\"sk-toggleable__content\"><pre>DecisionTreeRegressor()</pre></div></div></div></div></div>"
      ],
      "text/plain": [
       "DecisionTreeRegressor()"
      ]
     },
     "execution_count": 19,
     "metadata": {},
     "output_type": "execute_result"
    }
   ],
   "source": [
    "dtr=DecisionTreeRegressor()\n",
    "dtr"
   ]
  },
  {
   "cell_type": "code",
   "execution_count": 20,
   "id": "be0de3a1",
   "metadata": {},
   "outputs": [
    {
     "data": {
      "text/html": [
       "<style>#sk-container-id-2 {color: black;}#sk-container-id-2 pre{padding: 0;}#sk-container-id-2 div.sk-toggleable {background-color: white;}#sk-container-id-2 label.sk-toggleable__label {cursor: pointer;display: block;width: 100%;margin-bottom: 0;padding: 0.3em;box-sizing: border-box;text-align: center;}#sk-container-id-2 label.sk-toggleable__label-arrow:before {content: \"▸\";float: left;margin-right: 0.25em;color: #696969;}#sk-container-id-2 label.sk-toggleable__label-arrow:hover:before {color: black;}#sk-container-id-2 div.sk-estimator:hover label.sk-toggleable__label-arrow:before {color: black;}#sk-container-id-2 div.sk-toggleable__content {max-height: 0;max-width: 0;overflow: hidden;text-align: left;background-color: #f0f8ff;}#sk-container-id-2 div.sk-toggleable__content pre {margin: 0.2em;color: black;border-radius: 0.25em;background-color: #f0f8ff;}#sk-container-id-2 input.sk-toggleable__control:checked~div.sk-toggleable__content {max-height: 200px;max-width: 100%;overflow: auto;}#sk-container-id-2 input.sk-toggleable__control:checked~label.sk-toggleable__label-arrow:before {content: \"▾\";}#sk-container-id-2 div.sk-estimator input.sk-toggleable__control:checked~label.sk-toggleable__label {background-color: #d4ebff;}#sk-container-id-2 div.sk-label input.sk-toggleable__control:checked~label.sk-toggleable__label {background-color: #d4ebff;}#sk-container-id-2 input.sk-hidden--visually {border: 0;clip: rect(1px 1px 1px 1px);clip: rect(1px, 1px, 1px, 1px);height: 1px;margin: -1px;overflow: hidden;padding: 0;position: absolute;width: 1px;}#sk-container-id-2 div.sk-estimator {font-family: monospace;background-color: #f0f8ff;border: 1px dotted black;border-radius: 0.25em;box-sizing: border-box;margin-bottom: 0.5em;}#sk-container-id-2 div.sk-estimator:hover {background-color: #d4ebff;}#sk-container-id-2 div.sk-parallel-item::after {content: \"\";width: 100%;border-bottom: 1px solid gray;flex-grow: 1;}#sk-container-id-2 div.sk-label:hover label.sk-toggleable__label {background-color: #d4ebff;}#sk-container-id-2 div.sk-serial::before {content: \"\";position: absolute;border-left: 1px solid gray;box-sizing: border-box;top: 0;bottom: 0;left: 50%;z-index: 0;}#sk-container-id-2 div.sk-serial {display: flex;flex-direction: column;align-items: center;background-color: white;padding-right: 0.2em;padding-left: 0.2em;position: relative;}#sk-container-id-2 div.sk-item {position: relative;z-index: 1;}#sk-container-id-2 div.sk-parallel {display: flex;align-items: stretch;justify-content: center;background-color: white;position: relative;}#sk-container-id-2 div.sk-item::before, #sk-container-id-2 div.sk-parallel-item::before {content: \"\";position: absolute;border-left: 1px solid gray;box-sizing: border-box;top: 0;bottom: 0;left: 50%;z-index: -1;}#sk-container-id-2 div.sk-parallel-item {display: flex;flex-direction: column;z-index: 1;position: relative;background-color: white;}#sk-container-id-2 div.sk-parallel-item:first-child::after {align-self: flex-end;width: 50%;}#sk-container-id-2 div.sk-parallel-item:last-child::after {align-self: flex-start;width: 50%;}#sk-container-id-2 div.sk-parallel-item:only-child::after {width: 0;}#sk-container-id-2 div.sk-dashed-wrapped {border: 1px dashed gray;margin: 0 0.4em 0.5em 0.4em;box-sizing: border-box;padding-bottom: 0.4em;background-color: white;}#sk-container-id-2 div.sk-label label {font-family: monospace;font-weight: bold;display: inline-block;line-height: 1.2em;}#sk-container-id-2 div.sk-label-container {text-align: center;}#sk-container-id-2 div.sk-container {/* jupyter's `normalize.less` sets `[hidden] { display: none; }` but bootstrap.min.css set `[hidden] { display: none !important; }` so we also need the `!important` here to be able to override the default hidden behavior on the sphinx rendered scikit-learn.org. See: https://github.com/scikit-learn/scikit-learn/issues/21755 */display: inline-block !important;position: relative;}#sk-container-id-2 div.sk-text-repr-fallback {display: none;}</style><div id=\"sk-container-id-2\" class=\"sk-top-container\"><div class=\"sk-text-repr-fallback\"><pre>DecisionTreeRegressor()</pre><b>In a Jupyter environment, please rerun this cell to show the HTML representation or trust the notebook. <br />On GitHub, the HTML representation is unable to render, please try loading this page with nbviewer.org.</b></div><div class=\"sk-container\" hidden><div class=\"sk-item\"><div class=\"sk-estimator sk-toggleable\"><input class=\"sk-toggleable__control sk-hidden--visually\" id=\"sk-estimator-id-2\" type=\"checkbox\" checked><label for=\"sk-estimator-id-2\" class=\"sk-toggleable__label sk-toggleable__label-arrow\">DecisionTreeRegressor</label><div class=\"sk-toggleable__content\"><pre>DecisionTreeRegressor()</pre></div></div></div></div></div>"
      ],
      "text/plain": [
       "DecisionTreeRegressor()"
      ]
     },
     "execution_count": 20,
     "metadata": {},
     "output_type": "execute_result"
    }
   ],
   "source": [
    "dtr.fit(x_train,y_train)"
   ]
  },
  {
   "cell_type": "code",
   "execution_count": 21,
   "id": "76d5cbcd",
   "metadata": {},
   "outputs": [
    {
     "data": {
      "text/plain": [
       "array([3., 1., 1., 1., 1., 1., 1., 1., 1., 1., 1., 1., 3., 1., 3., 3., 1.,\n",
       "       3., 1., 1., 1., 1., 3., 3., 1., 1., 3., 1., 1., 1., 1., 1., 1., 1.,\n",
       "       3., 2., 1., 3., 3., 3., 1., 1., 3., 1., 1., 1., 1., 3., 1., 1., 1.,\n",
       "       1., 3., 3., 3., 1., 1., 1., 1., 1., 1., 1., 1., 1., 1., 3., 1., 1.,\n",
       "       1., 1., 1., 1., 1., 3., 1., 1., 1., 3., 1., 3., 1., 1., 1., 1., 1.,\n",
       "       1., 1., 1., 1., 3., 1., 3., 3., 1., 1., 1., 1., 1., 1., 3., 1., 1.,\n",
       "       3., 1., 1., 1., 1., 1., 3., 1., 1., 1., 1., 1., 1., 1., 1., 1., 1.,\n",
       "       1., 1., 1., 1., 3., 1., 1., 1., 1., 1., 1., 3., 1., 3., 1., 1., 3.,\n",
       "       1., 1., 1., 1., 1., 1., 1., 1., 1., 1., 1., 1., 1., 3., 0., 1., 3.,\n",
       "       1., 1., 1., 1., 1., 3., 3., 3., 1., 1., 3., 1., 1., 3., 1., 1., 3.,\n",
       "       1., 1., 3., 3., 1., 1., 1., 1., 1., 1., 1., 1., 3., 1., 1., 1., 1.,\n",
       "       3., 1., 0., 1., 1., 3.])"
      ]
     },
     "execution_count": 21,
     "metadata": {},
     "output_type": "execute_result"
    }
   ],
   "source": [
    "xpred3=dtr.predict(x_train)\n",
    "xpred3"
   ]
  },
  {
   "cell_type": "code",
   "execution_count": 22,
   "id": "b8f13a01",
   "metadata": {},
   "outputs": [
    {
     "data": {
      "text/plain": [
       "array([1., 3., 1., 1., 1., 1., 1., 1., 1., 3., 1., 1., 1., 1., 3., 1., 1.,\n",
       "       1., 1., 3., 1., 1., 1., 1., 1., 1., 3., 3., 1., 1., 1., 1., 1., 1.,\n",
       "       1., 0., 1., 1., 1., 1., 1., 1., 3., 1., 1., 1., 3., 1., 1., 3., 1.,\n",
       "       1., 3., 1., 1., 1., 1., 1., 1., 1., 1., 1., 1., 1., 3., 1., 1., 1.,\n",
       "       1., 1.])"
      ]
     },
     "execution_count": 22,
     "metadata": {},
     "output_type": "execute_result"
    }
   ],
   "source": [
    "ypred3=dtr.predict(x_test)\n",
    "ypred3"
   ]
  },
  {
   "cell_type": "code",
   "execution_count": 23,
   "id": "17c1e669",
   "metadata": {},
   "outputs": [
    {
     "data": {
      "text/plain": [
       "1.0"
      ]
     },
     "execution_count": 23,
     "metadata": {},
     "output_type": "execute_result"
    }
   ],
   "source": [
    "trainingscore3=dtr.score(x_train,y_train)\n",
    "trainingscore3"
   ]
  },
  {
   "cell_type": "code",
   "execution_count": 24,
   "id": "eed55763",
   "metadata": {},
   "outputs": [
    {
     "data": {
      "text/plain": [
       "0.541602465331279"
      ]
     },
     "execution_count": 24,
     "metadata": {},
     "output_type": "execute_result"
    }
   ],
   "source": [
    "testingscore3=dtr.score(x_test,y_test)\n",
    "testingscore3"
   ]
  },
  {
   "cell_type": "markdown",
   "id": "ed516976",
   "metadata": {},
   "source": [
    "To Increase the Accuracy using Std Scaler"
   ]
  },
  {
   "cell_type": "code",
   "execution_count": 76,
   "id": "a9718ec8",
   "metadata": {},
   "outputs": [],
   "source": [
    "from sklearn.preprocessing import StandardScaler"
   ]
  },
  {
   "cell_type": "code",
   "execution_count": 77,
   "id": "f72373cf",
   "metadata": {},
   "outputs": [],
   "source": [
    "ss=StandardScaler()"
   ]
  },
  {
   "cell_type": "code",
   "execution_count": 78,
   "id": "81ae9038",
   "metadata": {},
   "outputs": [],
   "source": [
    "x_test=ss.fit_transform(x_test)"
   ]
  },
  {
   "cell_type": "code",
   "execution_count": 79,
   "id": "1f09fded",
   "metadata": {},
   "outputs": [],
   "source": [
    "x_train,x_test,y_train,y_test=train_test_split(x,y,test_size=70,random_state=69)"
   ]
  },
  {
   "cell_type": "code",
   "execution_count": 80,
   "id": "83e54c15",
   "metadata": {},
   "outputs": [],
   "source": [
    "from sklearn.tree import DecisionTreeRegressor"
   ]
  },
  {
   "cell_type": "code",
   "execution_count": 81,
   "id": "2872074d",
   "metadata": {},
   "outputs": [
    {
     "data": {
      "text/html": [
       "<style>#sk-container-id-11 {color: black;}#sk-container-id-11 pre{padding: 0;}#sk-container-id-11 div.sk-toggleable {background-color: white;}#sk-container-id-11 label.sk-toggleable__label {cursor: pointer;display: block;width: 100%;margin-bottom: 0;padding: 0.3em;box-sizing: border-box;text-align: center;}#sk-container-id-11 label.sk-toggleable__label-arrow:before {content: \"▸\";float: left;margin-right: 0.25em;color: #696969;}#sk-container-id-11 label.sk-toggleable__label-arrow:hover:before {color: black;}#sk-container-id-11 div.sk-estimator:hover label.sk-toggleable__label-arrow:before {color: black;}#sk-container-id-11 div.sk-toggleable__content {max-height: 0;max-width: 0;overflow: hidden;text-align: left;background-color: #f0f8ff;}#sk-container-id-11 div.sk-toggleable__content pre {margin: 0.2em;color: black;border-radius: 0.25em;background-color: #f0f8ff;}#sk-container-id-11 input.sk-toggleable__control:checked~div.sk-toggleable__content {max-height: 200px;max-width: 100%;overflow: auto;}#sk-container-id-11 input.sk-toggleable__control:checked~label.sk-toggleable__label-arrow:before {content: \"▾\";}#sk-container-id-11 div.sk-estimator input.sk-toggleable__control:checked~label.sk-toggleable__label {background-color: #d4ebff;}#sk-container-id-11 div.sk-label input.sk-toggleable__control:checked~label.sk-toggleable__label {background-color: #d4ebff;}#sk-container-id-11 input.sk-hidden--visually {border: 0;clip: rect(1px 1px 1px 1px);clip: rect(1px, 1px, 1px, 1px);height: 1px;margin: -1px;overflow: hidden;padding: 0;position: absolute;width: 1px;}#sk-container-id-11 div.sk-estimator {font-family: monospace;background-color: #f0f8ff;border: 1px dotted black;border-radius: 0.25em;box-sizing: border-box;margin-bottom: 0.5em;}#sk-container-id-11 div.sk-estimator:hover {background-color: #d4ebff;}#sk-container-id-11 div.sk-parallel-item::after {content: \"\";width: 100%;border-bottom: 1px solid gray;flex-grow: 1;}#sk-container-id-11 div.sk-label:hover label.sk-toggleable__label {background-color: #d4ebff;}#sk-container-id-11 div.sk-serial::before {content: \"\";position: absolute;border-left: 1px solid gray;box-sizing: border-box;top: 0;bottom: 0;left: 50%;z-index: 0;}#sk-container-id-11 div.sk-serial {display: flex;flex-direction: column;align-items: center;background-color: white;padding-right: 0.2em;padding-left: 0.2em;position: relative;}#sk-container-id-11 div.sk-item {position: relative;z-index: 1;}#sk-container-id-11 div.sk-parallel {display: flex;align-items: stretch;justify-content: center;background-color: white;position: relative;}#sk-container-id-11 div.sk-item::before, #sk-container-id-11 div.sk-parallel-item::before {content: \"\";position: absolute;border-left: 1px solid gray;box-sizing: border-box;top: 0;bottom: 0;left: 50%;z-index: -1;}#sk-container-id-11 div.sk-parallel-item {display: flex;flex-direction: column;z-index: 1;position: relative;background-color: white;}#sk-container-id-11 div.sk-parallel-item:first-child::after {align-self: flex-end;width: 50%;}#sk-container-id-11 div.sk-parallel-item:last-child::after {align-self: flex-start;width: 50%;}#sk-container-id-11 div.sk-parallel-item:only-child::after {width: 0;}#sk-container-id-11 div.sk-dashed-wrapped {border: 1px dashed gray;margin: 0 0.4em 0.5em 0.4em;box-sizing: border-box;padding-bottom: 0.4em;background-color: white;}#sk-container-id-11 div.sk-label label {font-family: monospace;font-weight: bold;display: inline-block;line-height: 1.2em;}#sk-container-id-11 div.sk-label-container {text-align: center;}#sk-container-id-11 div.sk-container {/* jupyter's `normalize.less` sets `[hidden] { display: none; }` but bootstrap.min.css set `[hidden] { display: none !important; }` so we also need the `!important` here to be able to override the default hidden behavior on the sphinx rendered scikit-learn.org. See: https://github.com/scikit-learn/scikit-learn/issues/21755 */display: inline-block !important;position: relative;}#sk-container-id-11 div.sk-text-repr-fallback {display: none;}</style><div id=\"sk-container-id-11\" class=\"sk-top-container\"><div class=\"sk-text-repr-fallback\"><pre>DecisionTreeRegressor()</pre><b>In a Jupyter environment, please rerun this cell to show the HTML representation or trust the notebook. <br />On GitHub, the HTML representation is unable to render, please try loading this page with nbviewer.org.</b></div><div class=\"sk-container\" hidden><div class=\"sk-item\"><div class=\"sk-estimator sk-toggleable\"><input class=\"sk-toggleable__control sk-hidden--visually\" id=\"sk-estimator-id-11\" type=\"checkbox\" checked><label for=\"sk-estimator-id-11\" class=\"sk-toggleable__label sk-toggleable__label-arrow\">DecisionTreeRegressor</label><div class=\"sk-toggleable__content\"><pre>DecisionTreeRegressor()</pre></div></div></div></div></div>"
      ],
      "text/plain": [
       "DecisionTreeRegressor()"
      ]
     },
     "execution_count": 81,
     "metadata": {},
     "output_type": "execute_result"
    }
   ],
   "source": [
    "dtr1=DecisionTreeRegressor()\n",
    "dtr1"
   ]
  },
  {
   "cell_type": "code",
   "execution_count": 82,
   "id": "ad5957a0",
   "metadata": {},
   "outputs": [
    {
     "data": {
      "text/html": [
       "<style>#sk-container-id-12 {color: black;}#sk-container-id-12 pre{padding: 0;}#sk-container-id-12 div.sk-toggleable {background-color: white;}#sk-container-id-12 label.sk-toggleable__label {cursor: pointer;display: block;width: 100%;margin-bottom: 0;padding: 0.3em;box-sizing: border-box;text-align: center;}#sk-container-id-12 label.sk-toggleable__label-arrow:before {content: \"▸\";float: left;margin-right: 0.25em;color: #696969;}#sk-container-id-12 label.sk-toggleable__label-arrow:hover:before {color: black;}#sk-container-id-12 div.sk-estimator:hover label.sk-toggleable__label-arrow:before {color: black;}#sk-container-id-12 div.sk-toggleable__content {max-height: 0;max-width: 0;overflow: hidden;text-align: left;background-color: #f0f8ff;}#sk-container-id-12 div.sk-toggleable__content pre {margin: 0.2em;color: black;border-radius: 0.25em;background-color: #f0f8ff;}#sk-container-id-12 input.sk-toggleable__control:checked~div.sk-toggleable__content {max-height: 200px;max-width: 100%;overflow: auto;}#sk-container-id-12 input.sk-toggleable__control:checked~label.sk-toggleable__label-arrow:before {content: \"▾\";}#sk-container-id-12 div.sk-estimator input.sk-toggleable__control:checked~label.sk-toggleable__label {background-color: #d4ebff;}#sk-container-id-12 div.sk-label input.sk-toggleable__control:checked~label.sk-toggleable__label {background-color: #d4ebff;}#sk-container-id-12 input.sk-hidden--visually {border: 0;clip: rect(1px 1px 1px 1px);clip: rect(1px, 1px, 1px, 1px);height: 1px;margin: -1px;overflow: hidden;padding: 0;position: absolute;width: 1px;}#sk-container-id-12 div.sk-estimator {font-family: monospace;background-color: #f0f8ff;border: 1px dotted black;border-radius: 0.25em;box-sizing: border-box;margin-bottom: 0.5em;}#sk-container-id-12 div.sk-estimator:hover {background-color: #d4ebff;}#sk-container-id-12 div.sk-parallel-item::after {content: \"\";width: 100%;border-bottom: 1px solid gray;flex-grow: 1;}#sk-container-id-12 div.sk-label:hover label.sk-toggleable__label {background-color: #d4ebff;}#sk-container-id-12 div.sk-serial::before {content: \"\";position: absolute;border-left: 1px solid gray;box-sizing: border-box;top: 0;bottom: 0;left: 50%;z-index: 0;}#sk-container-id-12 div.sk-serial {display: flex;flex-direction: column;align-items: center;background-color: white;padding-right: 0.2em;padding-left: 0.2em;position: relative;}#sk-container-id-12 div.sk-item {position: relative;z-index: 1;}#sk-container-id-12 div.sk-parallel {display: flex;align-items: stretch;justify-content: center;background-color: white;position: relative;}#sk-container-id-12 div.sk-item::before, #sk-container-id-12 div.sk-parallel-item::before {content: \"\";position: absolute;border-left: 1px solid gray;box-sizing: border-box;top: 0;bottom: 0;left: 50%;z-index: -1;}#sk-container-id-12 div.sk-parallel-item {display: flex;flex-direction: column;z-index: 1;position: relative;background-color: white;}#sk-container-id-12 div.sk-parallel-item:first-child::after {align-self: flex-end;width: 50%;}#sk-container-id-12 div.sk-parallel-item:last-child::after {align-self: flex-start;width: 50%;}#sk-container-id-12 div.sk-parallel-item:only-child::after {width: 0;}#sk-container-id-12 div.sk-dashed-wrapped {border: 1px dashed gray;margin: 0 0.4em 0.5em 0.4em;box-sizing: border-box;padding-bottom: 0.4em;background-color: white;}#sk-container-id-12 div.sk-label label {font-family: monospace;font-weight: bold;display: inline-block;line-height: 1.2em;}#sk-container-id-12 div.sk-label-container {text-align: center;}#sk-container-id-12 div.sk-container {/* jupyter's `normalize.less` sets `[hidden] { display: none; }` but bootstrap.min.css set `[hidden] { display: none !important; }` so we also need the `!important` here to be able to override the default hidden behavior on the sphinx rendered scikit-learn.org. See: https://github.com/scikit-learn/scikit-learn/issues/21755 */display: inline-block !important;position: relative;}#sk-container-id-12 div.sk-text-repr-fallback {display: none;}</style><div id=\"sk-container-id-12\" class=\"sk-top-container\"><div class=\"sk-text-repr-fallback\"><pre>DecisionTreeRegressor()</pre><b>In a Jupyter environment, please rerun this cell to show the HTML representation or trust the notebook. <br />On GitHub, the HTML representation is unable to render, please try loading this page with nbviewer.org.</b></div><div class=\"sk-container\" hidden><div class=\"sk-item\"><div class=\"sk-estimator sk-toggleable\"><input class=\"sk-toggleable__control sk-hidden--visually\" id=\"sk-estimator-id-12\" type=\"checkbox\" checked><label for=\"sk-estimator-id-12\" class=\"sk-toggleable__label sk-toggleable__label-arrow\">DecisionTreeRegressor</label><div class=\"sk-toggleable__content\"><pre>DecisionTreeRegressor()</pre></div></div></div></div></div>"
      ],
      "text/plain": [
       "DecisionTreeRegressor()"
      ]
     },
     "execution_count": 82,
     "metadata": {},
     "output_type": "execute_result"
    }
   ],
   "source": [
    "dtr1.fit(x_train,y_train)"
   ]
  },
  {
   "cell_type": "code",
   "execution_count": 83,
   "id": "03f83dbd",
   "metadata": {},
   "outputs": [
    {
     "data": {
      "text/plain": [
       "array([1., 1., 3., 1., 1., 3., 1., 1., 1., 1., 1., 1., 1., 3., 1., 1., 3.,\n",
       "       1., 3., 1., 3., 3., 1., 1., 3., 2., 1., 1., 1., 1., 1., 3., 1., 1.,\n",
       "       1., 1., 3., 1., 1., 1., 1., 1., 1., 3., 1., 1., 3., 3., 0., 1., 3.,\n",
       "       1., 1., 1., 1., 1., 1., 1., 3., 3., 1., 1., 1., 1., 3., 3., 1., 1.,\n",
       "       3., 1., 1., 1., 1., 1., 1., 1., 1., 1., 1., 3., 1., 1., 1., 3., 1.,\n",
       "       3., 1., 1., 1., 1., 1., 1., 3., 1., 1., 1., 1., 1., 3., 1., 1., 1.,\n",
       "       1., 1., 1., 1., 3., 1., 1., 1., 1., 0., 3., 1., 1., 1., 1., 3., 1.,\n",
       "       1., 1., 1., 1., 1., 1., 1., 1., 1., 1., 1., 1., 3., 1., 1., 3., 1.,\n",
       "       3., 1., 3., 1., 1., 1., 1., 1., 1., 1., 1., 1., 1., 1., 1., 1., 3.,\n",
       "       1., 1., 1., 1., 1., 3., 1., 1., 1., 1., 3., 1., 1., 1., 1., 1., 1.,\n",
       "       1., 1., 1., 1., 1., 3., 1., 1., 1., 3., 1., 3., 1., 1., 1., 1., 1.,\n",
       "       1., 3., 1., 1., 1., 1.])"
      ]
     },
     "execution_count": 83,
     "metadata": {},
     "output_type": "execute_result"
    }
   ],
   "source": [
    "xpred4=dtr1.predict(x_train)\n",
    "xpred4"
   ]
  },
  {
   "cell_type": "code",
   "execution_count": 84,
   "id": "2d73d9c3",
   "metadata": {},
   "outputs": [
    {
     "data": {
      "text/plain": [
       "array([1., 1., 1., 1., 1., 1., 1., 1., 1., 1., 1., 1., 1., 3., 3., 1., 1.,\n",
       "       1., 1., 1., 3., 3., 1., 1., 1., 1., 1., 1., 1., 3., 1., 1., 1., 1.,\n",
       "       3., 1., 1., 3., 1., 3., 1., 1., 3., 3., 1., 1., 1., 1., 1., 1., 1.,\n",
       "       1., 3., 1., 3., 1., 3., 1., 3., 1., 1., 1., 3., 1., 1., 1., 3., 1.,\n",
       "       1., 1.])"
      ]
     },
     "execution_count": 84,
     "metadata": {},
     "output_type": "execute_result"
    }
   ],
   "source": [
    "ypred4=dtr1.predict(x_test)\n",
    "ypred4"
   ]
  },
  {
   "cell_type": "code",
   "execution_count": 85,
   "id": "845f5174",
   "metadata": {},
   "outputs": [
    {
     "data": {
      "text/plain": [
       "1.0"
      ]
     },
     "execution_count": 85,
     "metadata": {},
     "output_type": "execute_result"
    }
   ],
   "source": [
    "trainingscore4=dtr1.score(x_train,y_train)\n",
    "trainingscore4"
   ]
  },
  {
   "cell_type": "code",
   "execution_count": 86,
   "id": "9218eabf",
   "metadata": {},
   "outputs": [
    {
     "data": {
      "text/plain": [
       "0.9223085460599334"
      ]
     },
     "execution_count": 86,
     "metadata": {},
     "output_type": "execute_result"
    }
   ],
   "source": [
    "testingscore4=dtr1.score(x_test,y_test)\n",
    "testingscore4"
   ]
  },
  {
   "cell_type": "code",
   "execution_count": 32,
   "id": "a338bbbb",
   "metadata": {},
   "outputs": [
    {
     "name": "stdout",
     "output_type": "stream",
     "text": [
      "mae\n"
     ]
    },
    {
     "data": {
      "text/plain": [
       "(None, 0.02857142857142857)"
      ]
     },
     "execution_count": 32,
     "metadata": {},
     "output_type": "execute_result"
    }
   ],
   "source": [
    "print(\"mae\"),metrics.mean_absolute_error(y_test,ypred4) #mean absolute error"
   ]
  },
  {
   "cell_type": "code",
   "execution_count": 33,
   "id": "def9c492",
   "metadata": {},
   "outputs": [
    {
     "name": "stdout",
     "output_type": "stream",
     "text": [
      "mse\n"
     ]
    },
    {
     "data": {
      "text/plain": [
       "(None, 0.05714285714285714)"
      ]
     },
     "execution_count": 33,
     "metadata": {},
     "output_type": "execute_result"
    }
   ],
   "source": [
    "print(\"mse\"),metrics.mean_squared_error(y_test,ypred4)  #mean squared error"
   ]
  },
  {
   "cell_type": "code",
   "execution_count": 34,
   "id": "8e9d44fd",
   "metadata": {},
   "outputs": [
    {
     "name": "stdout",
     "output_type": "stream",
     "text": [
      "rmae\n"
     ]
    },
    {
     "data": {
      "text/plain": [
       "(None, 0.1690308509457033)"
      ]
     },
     "execution_count": 34,
     "metadata": {},
     "output_type": "execute_result"
    }
   ],
   "source": [
    "print(\"rmae\"),np.sqrt(metrics.mean_absolute_error(y_test,ypred4)) #mean absolute error"
   ]
  },
  {
   "cell_type": "code",
   "execution_count": 35,
   "id": "837e6a69",
   "metadata": {},
   "outputs": [
    {
     "name": "stdout",
     "output_type": "stream",
     "text": [
      "rmse\n"
     ]
    },
    {
     "data": {
      "text/plain": [
       "(None, 0.23904572186687872)"
      ]
     },
     "execution_count": 35,
     "metadata": {},
     "output_type": "execute_result"
    }
   ],
   "source": [
    "print(\"rmse\"),np.sqrt(metrics.mean_squared_error(y_test,ypred4)) #mean squared error"
   ]
  },
  {
   "cell_type": "code",
   "execution_count": 36,
   "id": "759b2718",
   "metadata": {},
   "outputs": [
    {
     "data": {
      "text/plain": [
       "0.9223085460599334"
      ]
     },
     "execution_count": 36,
     "metadata": {},
     "output_type": "execute_result"
    }
   ],
   "source": [
    "r2=r2_score(y_test,ypred4)\n",
    "r2"
   ]
  },
  {
   "cell_type": "markdown",
   "id": "2c05f28b",
   "metadata": {},
   "source": [
    "# SVR"
   ]
  },
  {
   "cell_type": "code",
   "execution_count": 25,
   "id": "0502ecaf",
   "metadata": {},
   "outputs": [],
   "source": [
    "from sklearn.svm import SVR                                               # Importing SVR"
   ]
  },
  {
   "cell_type": "code",
   "execution_count": 26,
   "id": "a7751e48",
   "metadata": {},
   "outputs": [
    {
     "data": {
      "text/html": [
       "<style>#sk-container-id-1 {color: black;}#sk-container-id-1 pre{padding: 0;}#sk-container-id-1 div.sk-toggleable {background-color: white;}#sk-container-id-1 label.sk-toggleable__label {cursor: pointer;display: block;width: 100%;margin-bottom: 0;padding: 0.3em;box-sizing: border-box;text-align: center;}#sk-container-id-1 label.sk-toggleable__label-arrow:before {content: \"▸\";float: left;margin-right: 0.25em;color: #696969;}#sk-container-id-1 label.sk-toggleable__label-arrow:hover:before {color: black;}#sk-container-id-1 div.sk-estimator:hover label.sk-toggleable__label-arrow:before {color: black;}#sk-container-id-1 div.sk-toggleable__content {max-height: 0;max-width: 0;overflow: hidden;text-align: left;background-color: #f0f8ff;}#sk-container-id-1 div.sk-toggleable__content pre {margin: 0.2em;color: black;border-radius: 0.25em;background-color: #f0f8ff;}#sk-container-id-1 input.sk-toggleable__control:checked~div.sk-toggleable__content {max-height: 200px;max-width: 100%;overflow: auto;}#sk-container-id-1 input.sk-toggleable__control:checked~label.sk-toggleable__label-arrow:before {content: \"▾\";}#sk-container-id-1 div.sk-estimator input.sk-toggleable__control:checked~label.sk-toggleable__label {background-color: #d4ebff;}#sk-container-id-1 div.sk-label input.sk-toggleable__control:checked~label.sk-toggleable__label {background-color: #d4ebff;}#sk-container-id-1 input.sk-hidden--visually {border: 0;clip: rect(1px 1px 1px 1px);clip: rect(1px, 1px, 1px, 1px);height: 1px;margin: -1px;overflow: hidden;padding: 0;position: absolute;width: 1px;}#sk-container-id-1 div.sk-estimator {font-family: monospace;background-color: #f0f8ff;border: 1px dotted black;border-radius: 0.25em;box-sizing: border-box;margin-bottom: 0.5em;}#sk-container-id-1 div.sk-estimator:hover {background-color: #d4ebff;}#sk-container-id-1 div.sk-parallel-item::after {content: \"\";width: 100%;border-bottom: 1px solid gray;flex-grow: 1;}#sk-container-id-1 div.sk-label:hover label.sk-toggleable__label {background-color: #d4ebff;}#sk-container-id-1 div.sk-serial::before {content: \"\";position: absolute;border-left: 1px solid gray;box-sizing: border-box;top: 0;bottom: 0;left: 50%;z-index: 0;}#sk-container-id-1 div.sk-serial {display: flex;flex-direction: column;align-items: center;background-color: white;padding-right: 0.2em;padding-left: 0.2em;position: relative;}#sk-container-id-1 div.sk-item {position: relative;z-index: 1;}#sk-container-id-1 div.sk-parallel {display: flex;align-items: stretch;justify-content: center;background-color: white;position: relative;}#sk-container-id-1 div.sk-item::before, #sk-container-id-1 div.sk-parallel-item::before {content: \"\";position: absolute;border-left: 1px solid gray;box-sizing: border-box;top: 0;bottom: 0;left: 50%;z-index: -1;}#sk-container-id-1 div.sk-parallel-item {display: flex;flex-direction: column;z-index: 1;position: relative;background-color: white;}#sk-container-id-1 div.sk-parallel-item:first-child::after {align-self: flex-end;width: 50%;}#sk-container-id-1 div.sk-parallel-item:last-child::after {align-self: flex-start;width: 50%;}#sk-container-id-1 div.sk-parallel-item:only-child::after {width: 0;}#sk-container-id-1 div.sk-dashed-wrapped {border: 1px dashed gray;margin: 0 0.4em 0.5em 0.4em;box-sizing: border-box;padding-bottom: 0.4em;background-color: white;}#sk-container-id-1 div.sk-label label {font-family: monospace;font-weight: bold;display: inline-block;line-height: 1.2em;}#sk-container-id-1 div.sk-label-container {text-align: center;}#sk-container-id-1 div.sk-container {/* jupyter's `normalize.less` sets `[hidden] { display: none; }` but bootstrap.min.css set `[hidden] { display: none !important; }` so we also need the `!important` here to be able to override the default hidden behavior on the sphinx rendered scikit-learn.org. See: https://github.com/scikit-learn/scikit-learn/issues/21755 */display: inline-block !important;position: relative;}#sk-container-id-1 div.sk-text-repr-fallback {display: none;}</style><div id=\"sk-container-id-1\" class=\"sk-top-container\"><div class=\"sk-text-repr-fallback\"><pre>SVR(kernel=&#x27;linear&#x27;)</pre><b>In a Jupyter environment, please rerun this cell to show the HTML representation or trust the notebook. <br />On GitHub, the HTML representation is unable to render, please try loading this page with nbviewer.org.</b></div><div class=\"sk-container\" hidden><div class=\"sk-item\"><div class=\"sk-estimator sk-toggleable\"><input class=\"sk-toggleable__control sk-hidden--visually\" id=\"sk-estimator-id-1\" type=\"checkbox\" checked><label for=\"sk-estimator-id-1\" class=\"sk-toggleable__label sk-toggleable__label-arrow\">SVR</label><div class=\"sk-toggleable__content\"><pre>SVR(kernel=&#x27;linear&#x27;)</pre></div></div></div></div></div>"
      ],
      "text/plain": [
       "SVR(kernel='linear')"
      ]
     },
     "execution_count": 26,
     "metadata": {},
     "output_type": "execute_result"
    }
   ],
   "source": [
    "svr=SVR(kernel=\"linear\")\n",
    "svr.fit(x_train,y_train)                                                  # Fitting on SVR"
   ]
  },
  {
   "cell_type": "code",
   "execution_count": 27,
   "id": "cbe94034",
   "metadata": {},
   "outputs": [
    {
     "data": {
      "text/plain": [
       "array([1.10006585, 1.099411  , 1.10082184, 1.09723602, 1.09349175,\n",
       "       1.0980982 , 1.08778967, 1.09998411, 1.08825348, 1.09969672,\n",
       "       1.10037122, 1.09333667, 1.08808689, 1.09972452, 1.10051647,\n",
       "       1.09405024, 1.10050832, 1.09357996, 1.10037769, 1.09984869,\n",
       "       1.10057209, 1.10026503, 1.0934232 , 1.09690452, 1.08661397,\n",
       "       1.09903708, 1.10064064, 1.0973144 , 1.09956776, 1.09734053,\n",
       "       1.09966412, 1.095928  , 1.09993354, 1.09936522, 1.10142444,\n",
       "       1.89974225, 1.08845266, 1.09960204, 1.09716579, 1.0993669 ,\n",
       "       1.09997932, 1.09346731, 1.09350158, 1.09959389, 1.09897332,\n",
       "       1.09893257, 1.09652892, 1.10098028, 1.09979475, 1.09658285,\n",
       "       1.09351788, 1.09971805, 1.10038584, 1.08793013, 1.10066676,\n",
       "       1.1003892 , 1.10135589, 1.08844452, 1.09605864, 1.09973099,\n",
       "       1.0998796 , 1.08805908, 1.10003636, 1.10018019, 1.09616483,\n",
       "       1.09682614, 1.09598841, 1.09715764, 1.09648649, 1.08846249,\n",
       "       1.09681799, 1.09684412, 1.09977678, 1.1000136 , 1.10029284,\n",
       "       1.09307373, 1.09616314, 1.09360609, 1.09302962, 1.09355384,\n",
       "       1.09699273, 1.09970486, 1.09651262, 1.10050186, 1.0996658 ,\n",
       "       1.10071734, 1.08816527, 1.09383955, 1.09983071, 1.08840041,\n",
       "       1.10058024, 1.10139831, 1.09397186, 1.09992707, 1.10016868,\n",
       "       1.10863851, 1.1004822 , 1.09458261, 1.0941466 , 1.0937106 ,\n",
       "       1.09630193, 1.08822735, 1.10071902, 1.10128566, 1.09618927,\n",
       "       1.10009676, 1.09979643, 1.09572714, 1.10137218, 1.08771129,\n",
       "       1.09639829, 1.09899298, 1.09930482, 1.08847879, 1.10032544,\n",
       "       1.09738463, 1.09963799, 1.1009019 , 1.09964614, 1.09990573,\n",
       "       1.10010827, 1.09946158, 1.0990191 , 1.09428538, 1.09937841,\n",
       "       1.09453682, 1.0997751 , 1.10065693, 1.09993186, 1.09456295,\n",
       "       1.10043809, 1.10076959, 1.10056873, 1.09363054, 1.09941747,\n",
       "       1.10061451, 1.10008383, 1.09364851, 1.08765904, 1.09650447,\n",
       "       1.08826978, 1.09896685, 1.09362239, 1.0938918 , 1.10010827,\n",
       "       1.09390978, 1.09386568, 1.09939639, 1.08841839, 1.10074514,\n",
       "       1.09357182, 1.10006249, 1.10056226, 1.10012793, 1.09418088,\n",
       "       1.09919552, 1.09718377, 1.09629378, 1.08787788, 1.09941268,\n",
       "       1.09661713, 1.09707926, 1.09968378, 1.08811302, 1.09406822,\n",
       "       1.10084797, 1.09407637, 1.09935228, 1.0993832 , 1.10053613,\n",
       "       1.0938151 , 1.0998029 , 1.09957591, 1.10105866, 1.10071566,\n",
       "       1.09873171, 1.10012289, 1.10011642, 1.09595413, 1.09349344,\n",
       "       1.0937547 , 1.10003157, 1.09724417, 1.08831388, 1.10119913,\n",
       "       1.10102271, 1.09988128, 1.09412862, 1.0989587 , 1.07457797,\n",
       "       1.09378083, 1.10125953, 1.09352771])"
      ]
     },
     "execution_count": 27,
     "metadata": {},
     "output_type": "execute_result"
    }
   ],
   "source": [
    "xpred5=svr.predict(x_train)\n",
    "xpred5"
   ]
  },
  {
   "cell_type": "code",
   "execution_count": 28,
   "id": "8977dd97",
   "metadata": {},
   "outputs": [
    {
     "data": {
      "text/plain": [
       "array([1.09668568, 1.10058838, 1.69751466, 1.09575327, 1.09995798,\n",
       "       1.10099658, 1.10042826, 1.09416458, 1.1000903 , 1.09256102,\n",
       "       1.09590188, 1.09969193, 1.09632973, 1.09924777, 1.09685227,\n",
       "       1.0878158 , 1.10063896, 1.09664157, 1.09956608, 1.0996217 ,\n",
       "       1.10141629, 1.10023891, 1.10105698, 1.10037601, 1.09938488,\n",
       "       1.10039735, 1.1007974 , 1.10077127, 1.09940285, 1.08849677,\n",
       "       1.09570101, 1.09962002, 1.09384123, 1.08810319, 1.10045607,\n",
       "       1.09359794, 1.0878762 , 1.10095248, 1.10146854, 1.09962002,\n",
       "       1.10066508, 1.0969225 , 1.0941025 , 1.08838411, 1.0963199 ,\n",
       "       1.09894072, 1.10033359, 1.09997764, 1.10097046, 1.09988943,\n",
       "       1.10029763, 1.09975065, 1.10035971, 1.09684244, 1.09982256,\n",
       "       1.09663343, 1.10031897, 1.094434  , 1.0933628 , 1.09378898,\n",
       "       1.10018665, 1.09967059, 1.09622355, 1.09959221, 1.1004055 ,\n",
       "       1.10045439, 1.09710539, 1.10092803, 1.1002274 , 1.09331702])"
      ]
     },
     "execution_count": 28,
     "metadata": {},
     "output_type": "execute_result"
    }
   ],
   "source": [
    "ypred5=svr.predict(x_test)\n",
    "ypred5"
   ]
  },
  {
   "cell_type": "code",
   "execution_count": 29,
   "id": "7665d1f9",
   "metadata": {},
   "outputs": [
    {
     "data": {
      "text/plain": [
       "-0.166894251269176"
      ]
     },
     "execution_count": 29,
     "metadata": {},
     "output_type": "execute_result"
    }
   ],
   "source": [
    "trainingscore5=svr.score(x_train,y_train)\n",
    "trainingscore5"
   ]
  },
  {
   "cell_type": "code",
   "execution_count": 30,
   "id": "95c694f2",
   "metadata": {},
   "outputs": [
    {
     "data": {
      "text/plain": [
       "-0.10135156457719408"
      ]
     },
     "execution_count": 30,
     "metadata": {},
     "output_type": "execute_result"
    }
   ],
   "source": [
    "testingscore5=svr.score(x_test,y_test)\n",
    "testingscore5"
   ]
  },
  {
   "cell_type": "markdown",
   "id": "396f9f3c",
   "metadata": {},
   "source": [
    "To Increase the Accuracy using Std Scaler"
   ]
  },
  {
   "cell_type": "code",
   "execution_count": 87,
   "id": "82a869c4",
   "metadata": {},
   "outputs": [],
   "source": [
    "from sklearn.preprocessing import StandardScaler"
   ]
  },
  {
   "cell_type": "code",
   "execution_count": 88,
   "id": "6ab05d96",
   "metadata": {},
   "outputs": [],
   "source": [
    "ss=StandardScaler()"
   ]
  },
  {
   "cell_type": "code",
   "execution_count": 89,
   "id": "bae36d30",
   "metadata": {},
   "outputs": [],
   "source": [
    "x_test=ss.fit_transform(x_test)"
   ]
  },
  {
   "cell_type": "code",
   "execution_count": 90,
   "id": "5bcd65ea",
   "metadata": {},
   "outputs": [
    {
     "data": {
      "text/html": [
       "<style>#sk-container-id-13 {color: black;}#sk-container-id-13 pre{padding: 0;}#sk-container-id-13 div.sk-toggleable {background-color: white;}#sk-container-id-13 label.sk-toggleable__label {cursor: pointer;display: block;width: 100%;margin-bottom: 0;padding: 0.3em;box-sizing: border-box;text-align: center;}#sk-container-id-13 label.sk-toggleable__label-arrow:before {content: \"▸\";float: left;margin-right: 0.25em;color: #696969;}#sk-container-id-13 label.sk-toggleable__label-arrow:hover:before {color: black;}#sk-container-id-13 div.sk-estimator:hover label.sk-toggleable__label-arrow:before {color: black;}#sk-container-id-13 div.sk-toggleable__content {max-height: 0;max-width: 0;overflow: hidden;text-align: left;background-color: #f0f8ff;}#sk-container-id-13 div.sk-toggleable__content pre {margin: 0.2em;color: black;border-radius: 0.25em;background-color: #f0f8ff;}#sk-container-id-13 input.sk-toggleable__control:checked~div.sk-toggleable__content {max-height: 200px;max-width: 100%;overflow: auto;}#sk-container-id-13 input.sk-toggleable__control:checked~label.sk-toggleable__label-arrow:before {content: \"▾\";}#sk-container-id-13 div.sk-estimator input.sk-toggleable__control:checked~label.sk-toggleable__label {background-color: #d4ebff;}#sk-container-id-13 div.sk-label input.sk-toggleable__control:checked~label.sk-toggleable__label {background-color: #d4ebff;}#sk-container-id-13 input.sk-hidden--visually {border: 0;clip: rect(1px 1px 1px 1px);clip: rect(1px, 1px, 1px, 1px);height: 1px;margin: -1px;overflow: hidden;padding: 0;position: absolute;width: 1px;}#sk-container-id-13 div.sk-estimator {font-family: monospace;background-color: #f0f8ff;border: 1px dotted black;border-radius: 0.25em;box-sizing: border-box;margin-bottom: 0.5em;}#sk-container-id-13 div.sk-estimator:hover {background-color: #d4ebff;}#sk-container-id-13 div.sk-parallel-item::after {content: \"\";width: 100%;border-bottom: 1px solid gray;flex-grow: 1;}#sk-container-id-13 div.sk-label:hover label.sk-toggleable__label {background-color: #d4ebff;}#sk-container-id-13 div.sk-serial::before {content: \"\";position: absolute;border-left: 1px solid gray;box-sizing: border-box;top: 0;bottom: 0;left: 50%;z-index: 0;}#sk-container-id-13 div.sk-serial {display: flex;flex-direction: column;align-items: center;background-color: white;padding-right: 0.2em;padding-left: 0.2em;position: relative;}#sk-container-id-13 div.sk-item {position: relative;z-index: 1;}#sk-container-id-13 div.sk-parallel {display: flex;align-items: stretch;justify-content: center;background-color: white;position: relative;}#sk-container-id-13 div.sk-item::before, #sk-container-id-13 div.sk-parallel-item::before {content: \"\";position: absolute;border-left: 1px solid gray;box-sizing: border-box;top: 0;bottom: 0;left: 50%;z-index: -1;}#sk-container-id-13 div.sk-parallel-item {display: flex;flex-direction: column;z-index: 1;position: relative;background-color: white;}#sk-container-id-13 div.sk-parallel-item:first-child::after {align-self: flex-end;width: 50%;}#sk-container-id-13 div.sk-parallel-item:last-child::after {align-self: flex-start;width: 50%;}#sk-container-id-13 div.sk-parallel-item:only-child::after {width: 0;}#sk-container-id-13 div.sk-dashed-wrapped {border: 1px dashed gray;margin: 0 0.4em 0.5em 0.4em;box-sizing: border-box;padding-bottom: 0.4em;background-color: white;}#sk-container-id-13 div.sk-label label {font-family: monospace;font-weight: bold;display: inline-block;line-height: 1.2em;}#sk-container-id-13 div.sk-label-container {text-align: center;}#sk-container-id-13 div.sk-container {/* jupyter's `normalize.less` sets `[hidden] { display: none; }` but bootstrap.min.css set `[hidden] { display: none !important; }` so we also need the `!important` here to be able to override the default hidden behavior on the sphinx rendered scikit-learn.org. See: https://github.com/scikit-learn/scikit-learn/issues/21755 */display: inline-block !important;position: relative;}#sk-container-id-13 div.sk-text-repr-fallback {display: none;}</style><div id=\"sk-container-id-13\" class=\"sk-top-container\"><div class=\"sk-text-repr-fallback\"><pre>StandardScaler()</pre><b>In a Jupyter environment, please rerun this cell to show the HTML representation or trust the notebook. <br />On GitHub, the HTML representation is unable to render, please try loading this page with nbviewer.org.</b></div><div class=\"sk-container\" hidden><div class=\"sk-item\"><div class=\"sk-estimator sk-toggleable\"><input class=\"sk-toggleable__control sk-hidden--visually\" id=\"sk-estimator-id-13\" type=\"checkbox\" checked><label for=\"sk-estimator-id-13\" class=\"sk-toggleable__label sk-toggleable__label-arrow\">StandardScaler</label><div class=\"sk-toggleable__content\"><pre>StandardScaler()</pre></div></div></div></div></div>"
      ],
      "text/plain": [
       "StandardScaler()"
      ]
     },
     "execution_count": 90,
     "metadata": {},
     "output_type": "execute_result"
    }
   ],
   "source": [
    "ss.fit(x_train,y_train)"
   ]
  },
  {
   "cell_type": "code",
   "execution_count": 91,
   "id": "dceb1e0e",
   "metadata": {},
   "outputs": [],
   "source": [
    "x_train,x_test,y_train,y_test=train_test_split(x,y,test_size=70,random_state=69)"
   ]
  },
  {
   "cell_type": "code",
   "execution_count": 92,
   "id": "b20ec259",
   "metadata": {},
   "outputs": [],
   "source": [
    "from sklearn.svm import SVR                                               # Importing SVR"
   ]
  },
  {
   "cell_type": "code",
   "execution_count": 93,
   "id": "2f710ffa",
   "metadata": {},
   "outputs": [
    {
     "data": {
      "text/html": [
       "<style>#sk-container-id-14 {color: black;}#sk-container-id-14 pre{padding: 0;}#sk-container-id-14 div.sk-toggleable {background-color: white;}#sk-container-id-14 label.sk-toggleable__label {cursor: pointer;display: block;width: 100%;margin-bottom: 0;padding: 0.3em;box-sizing: border-box;text-align: center;}#sk-container-id-14 label.sk-toggleable__label-arrow:before {content: \"▸\";float: left;margin-right: 0.25em;color: #696969;}#sk-container-id-14 label.sk-toggleable__label-arrow:hover:before {color: black;}#sk-container-id-14 div.sk-estimator:hover label.sk-toggleable__label-arrow:before {color: black;}#sk-container-id-14 div.sk-toggleable__content {max-height: 0;max-width: 0;overflow: hidden;text-align: left;background-color: #f0f8ff;}#sk-container-id-14 div.sk-toggleable__content pre {margin: 0.2em;color: black;border-radius: 0.25em;background-color: #f0f8ff;}#sk-container-id-14 input.sk-toggleable__control:checked~div.sk-toggleable__content {max-height: 200px;max-width: 100%;overflow: auto;}#sk-container-id-14 input.sk-toggleable__control:checked~label.sk-toggleable__label-arrow:before {content: \"▾\";}#sk-container-id-14 div.sk-estimator input.sk-toggleable__control:checked~label.sk-toggleable__label {background-color: #d4ebff;}#sk-container-id-14 div.sk-label input.sk-toggleable__control:checked~label.sk-toggleable__label {background-color: #d4ebff;}#sk-container-id-14 input.sk-hidden--visually {border: 0;clip: rect(1px 1px 1px 1px);clip: rect(1px, 1px, 1px, 1px);height: 1px;margin: -1px;overflow: hidden;padding: 0;position: absolute;width: 1px;}#sk-container-id-14 div.sk-estimator {font-family: monospace;background-color: #f0f8ff;border: 1px dotted black;border-radius: 0.25em;box-sizing: border-box;margin-bottom: 0.5em;}#sk-container-id-14 div.sk-estimator:hover {background-color: #d4ebff;}#sk-container-id-14 div.sk-parallel-item::after {content: \"\";width: 100%;border-bottom: 1px solid gray;flex-grow: 1;}#sk-container-id-14 div.sk-label:hover label.sk-toggleable__label {background-color: #d4ebff;}#sk-container-id-14 div.sk-serial::before {content: \"\";position: absolute;border-left: 1px solid gray;box-sizing: border-box;top: 0;bottom: 0;left: 50%;z-index: 0;}#sk-container-id-14 div.sk-serial {display: flex;flex-direction: column;align-items: center;background-color: white;padding-right: 0.2em;padding-left: 0.2em;position: relative;}#sk-container-id-14 div.sk-item {position: relative;z-index: 1;}#sk-container-id-14 div.sk-parallel {display: flex;align-items: stretch;justify-content: center;background-color: white;position: relative;}#sk-container-id-14 div.sk-item::before, #sk-container-id-14 div.sk-parallel-item::before {content: \"\";position: absolute;border-left: 1px solid gray;box-sizing: border-box;top: 0;bottom: 0;left: 50%;z-index: -1;}#sk-container-id-14 div.sk-parallel-item {display: flex;flex-direction: column;z-index: 1;position: relative;background-color: white;}#sk-container-id-14 div.sk-parallel-item:first-child::after {align-self: flex-end;width: 50%;}#sk-container-id-14 div.sk-parallel-item:last-child::after {align-self: flex-start;width: 50%;}#sk-container-id-14 div.sk-parallel-item:only-child::after {width: 0;}#sk-container-id-14 div.sk-dashed-wrapped {border: 1px dashed gray;margin: 0 0.4em 0.5em 0.4em;box-sizing: border-box;padding-bottom: 0.4em;background-color: white;}#sk-container-id-14 div.sk-label label {font-family: monospace;font-weight: bold;display: inline-block;line-height: 1.2em;}#sk-container-id-14 div.sk-label-container {text-align: center;}#sk-container-id-14 div.sk-container {/* jupyter's `normalize.less` sets `[hidden] { display: none; }` but bootstrap.min.css set `[hidden] { display: none !important; }` so we also need the `!important` here to be able to override the default hidden behavior on the sphinx rendered scikit-learn.org. See: https://github.com/scikit-learn/scikit-learn/issues/21755 */display: inline-block !important;position: relative;}#sk-container-id-14 div.sk-text-repr-fallback {display: none;}</style><div id=\"sk-container-id-14\" class=\"sk-top-container\"><div class=\"sk-text-repr-fallback\"><pre>SVR(kernel=&#x27;linear&#x27;)</pre><b>In a Jupyter environment, please rerun this cell to show the HTML representation or trust the notebook. <br />On GitHub, the HTML representation is unable to render, please try loading this page with nbviewer.org.</b></div><div class=\"sk-container\" hidden><div class=\"sk-item\"><div class=\"sk-estimator sk-toggleable\"><input class=\"sk-toggleable__control sk-hidden--visually\" id=\"sk-estimator-id-14\" type=\"checkbox\" checked><label for=\"sk-estimator-id-14\" class=\"sk-toggleable__label sk-toggleable__label-arrow\">SVR</label><div class=\"sk-toggleable__content\"><pre>SVR(kernel=&#x27;linear&#x27;)</pre></div></div></div></div></div>"
      ],
      "text/plain": [
       "SVR(kernel='linear')"
      ]
     },
     "execution_count": 93,
     "metadata": {},
     "output_type": "execute_result"
    }
   ],
   "source": [
    "svr1=SVR(kernel=\"linear\")\n",
    "svr1.fit(x_train,y_train)                                                  # Fitting on SVR"
   ]
  },
  {
   "cell_type": "code",
   "execution_count": 94,
   "id": "49ac9160",
   "metadata": {},
   "outputs": [
    {
     "data": {
      "text/plain": [
       "array([1.09996521, 1.10013758, 1.09975497, 1.10008573, 1.09986606,\n",
       "       1.1005469 , 1.10085503, 1.10045105, 1.10047368, 1.10051029,\n",
       "       1.69800677, 1.09959124, 1.10039511, 1.09701716, 1.09610676,\n",
       "       1.09743842, 1.10077646, 1.09289913, 1.09368776, 1.09608413,\n",
       "       1.10025276, 1.09918931, 1.0986722 , 1.092981  , 1.09361988,\n",
       "       1.9001982 , 1.10098545, 1.09665514, 1.09341954, 1.09660454,\n",
       "       1.09356599, 1.09694928, 1.09923786, 1.09723478, 1.09958794,\n",
       "       1.09584388, 1.09724343, 1.10010301, 1.09964843, 1.1003046 ,\n",
       "       1.09997919, 1.08843511, 1.10056748, 1.09398191, 1.10018283,\n",
       "       1.1000631 , 1.09391403, 1.09651938, 1.07456913, 1.09955133,\n",
       "       1.08838986, 1.10045105, 1.09642023, 1.10061808, 1.10004707,\n",
       "       1.09994258, 1.08832732, 1.08766046, 1.10090892, 1.1008863 ,\n",
       "       1.09752029, 1.09977225, 1.09667776, 1.08834995, 1.09676827,\n",
       "       1.10032063, 1.09969369, 1.09347878, 1.09998453, 1.10028073,\n",
       "       1.09619726, 1.10835431, 1.09649141, 1.09424808, 1.08777359,\n",
       "       1.09905685, 1.09967845, 1.09728004, 1.09996191, 1.09393665,\n",
       "       1.10050165, 1.09961057, 1.10047368, 1.09937032, 1.09950938,\n",
       "       1.09262432, 1.09397327, 1.0997237 , 1.10001785, 1.0960615 ,\n",
       "       1.10069994, 1.10086163, 1.10036589, 1.09869482, 1.09970437,\n",
       "       1.09345615, 1.10012564, 1.0867554 , 1.1002075 , 1.09631039,\n",
       "       1.09347548, 1.08818622, 1.1008324 , 1.10051893, 1.09336235,\n",
       "       1.08835859, 1.10023013, 1.09998453, 1.09981751, 1.10110722,\n",
       "       1.09700852, 1.09354336, 1.09411767, 1.10096816, 1.10012029,\n",
       "       1.10002115, 1.09956532, 1.10034326, 1.09364581, 1.10027868,\n",
       "       1.10039181, 1.1004996 , 1.09864957, 1.09410038, 1.09718089,\n",
       "       1.09909016, 1.09943286, 1.1006407 , 1.09945219, 1.10028198,\n",
       "       1.09333972, 1.09384615, 1.10047902, 1.08845773, 1.10027538,\n",
       "       1.10027004, 1.08814096, 1.09981421, 1.09996191, 1.08846308,\n",
       "       1.10128823, 1.09935099, 1.10018817, 1.09665843, 1.09977555,\n",
       "       1.09846856, 1.09868618, 1.08827672, 1.09427071, 1.09721216,\n",
       "       1.10017953, 1.08779622, 1.10016225, 1.09642353, 1.09671437,\n",
       "       1.09903422, 1.09870881, 1.09336565, 1.09350675, 1.09999522,\n",
       "       1.09446241, 1.10020546, 1.09371039, 1.10070858, 1.10014292,\n",
       "       1.10101342, 1.08847172, 1.09926253, 1.09373302, 1.10029596,\n",
       "       1.09984013, 1.09930904, 1.09995656, 1.09362318, 1.09636429,\n",
       "       1.0997809 , 1.10061273, 1.0964009 , 1.10082376, 1.08798258,\n",
       "       1.09402716, 1.0934615 , 1.09669505, 1.09687606, 1.10027334,\n",
       "       1.10024411, 1.09871745, 1.1000664 , 1.10082172, 1.0967403 ,\n",
       "       1.08770572, 1.09989607, 1.10063536])"
      ]
     },
     "execution_count": 94,
     "metadata": {},
     "output_type": "execute_result"
    }
   ],
   "source": [
    "xpred6=svr1.predict(x_train)\n",
    "xpred6"
   ]
  },
  {
   "cell_type": "code",
   "execution_count": 95,
   "id": "24ca3d38",
   "metadata": {},
   "outputs": [
    {
     "data": {
      "text/plain": [
       "array([1.09360055, 1.09877669, 1.09949744, 1.09904491, 1.09809459,\n",
       "       1.09984878, 1.09932836, 1.09588913, 1.09628777, 1.10066333,\n",
       "       1.1001602 , 1.08780486, 1.09345286, 1.09970972, 1.09348412,\n",
       "       1.10017623, 1.10022808, 1.09629641, 1.09994133, 1.08796325,\n",
       "       1.10038851, 1.09343887, 1.09963979, 1.09404115, 1.09918067,\n",
       "       1.10095952, 1.09947481, 1.09909346, 1.10000716, 1.08793732,\n",
       "       1.08804511, 1.1004963 , 1.09370175, 1.09334302, 1.09395928,\n",
       "       1.09970767, 1.10004377, 1.10023343, 1.09678225, 1.09731131,\n",
       "       1.09976896, 1.09370504, 1.10004912, 1.09352938, 1.09734792,\n",
       "       1.0958665 , 1.0974158 , 1.10012234, 1.09429004, 1.09609277,\n",
       "       1.10020216, 1.09999852, 1.09697191, 1.09951142, 1.10093155,\n",
       "       1.09730266, 1.09337099, 1.09920329, 1.10018488, 1.08851697,\n",
       "       1.09372437, 1.08844909, 1.08811834, 1.0970764 , 1.09698589,\n",
       "       1.09314802, 1.10061478, 1.10103934, 1.09988868, 1.08853096])"
      ]
     },
     "execution_count": 95,
     "metadata": {},
     "output_type": "execute_result"
    }
   ],
   "source": [
    "ypred6=svr1.predict(x_test)\n",
    "ypred6"
   ]
  },
  {
   "cell_type": "code",
   "execution_count": 96,
   "id": "89695224",
   "metadata": {},
   "outputs": [
    {
     "data": {
      "text/plain": [
       "-0.12735504611334747"
      ]
     },
     "execution_count": 96,
     "metadata": {},
     "output_type": "execute_result"
    }
   ],
   "source": [
    "trainingscore6=svr1.score(x_train,y_train)\n",
    "trainingscore6"
   ]
  },
  {
   "cell_type": "code",
   "execution_count": 97,
   "id": "5dc7b787",
   "metadata": {},
   "outputs": [
    {
     "data": {
      "text/plain": [
       "-0.20600943132026384"
      ]
     },
     "execution_count": 97,
     "metadata": {},
     "output_type": "execute_result"
    }
   ],
   "source": [
    "testingscore6=svr1.score(x_test,y_test)\n",
    "testingscore6"
   ]
  },
  {
   "cell_type": "code",
   "execution_count": 45,
   "id": "1ed4d1d3",
   "metadata": {},
   "outputs": [
    {
     "name": "stdout",
     "output_type": "stream",
     "text": [
      "mae\n"
     ]
    },
    {
     "data": {
      "text/plain": [
       "(None, 0.5355456888655328)"
      ]
     },
     "execution_count": 45,
     "metadata": {},
     "output_type": "execute_result"
    }
   ],
   "source": [
    "print(\"mae\"),metrics.mean_absolute_error(y_test,ypred6) #mean absolute error"
   ]
  },
  {
   "cell_type": "code",
   "execution_count": 46,
   "id": "b5899b0d",
   "metadata": {},
   "outputs": [
    {
     "name": "stdout",
     "output_type": "stream",
     "text": [
      "mse\n"
     ]
    },
    {
     "data": {
      "text/plain": [
       "(None, 0.8870322429547414)"
      ]
     },
     "execution_count": 46,
     "metadata": {},
     "output_type": "execute_result"
    }
   ],
   "source": [
    "print(\"mse\"),metrics.mean_squared_error(y_test,ypred6)  #mean squared error"
   ]
  },
  {
   "cell_type": "code",
   "execution_count": 47,
   "id": "e8bea9a8",
   "metadata": {},
   "outputs": [
    {
     "name": "stdout",
     "output_type": "stream",
     "text": [
      "rmae\n"
     ]
    },
    {
     "data": {
      "text/plain": [
       "(None, 0.7318098720743884)"
      ]
     },
     "execution_count": 47,
     "metadata": {},
     "output_type": "execute_result"
    }
   ],
   "source": [
    "print(\"rmae\"),np.sqrt(metrics.mean_absolute_error(y_test,ypred6)) #mean absolute error"
   ]
  },
  {
   "cell_type": "code",
   "execution_count": 48,
   "id": "e9a13ff0",
   "metadata": {},
   "outputs": [
    {
     "name": "stdout",
     "output_type": "stream",
     "text": [
      "rmse\n"
     ]
    },
    {
     "data": {
      "text/plain": [
       "(None, 0.9418238916882187)"
      ]
     },
     "execution_count": 48,
     "metadata": {},
     "output_type": "execute_result"
    }
   ],
   "source": [
    "print(\"rmse\"),np.sqrt(metrics.mean_squared_error(y_test,ypred6)) #mean squared error"
   ]
  },
  {
   "cell_type": "code",
   "execution_count": 49,
   "id": "0e29952c",
   "metadata": {},
   "outputs": [
    {
     "data": {
      "text/plain": [
       "-0.20600943132026384"
      ]
     },
     "execution_count": 49,
     "metadata": {},
     "output_type": "execute_result"
    }
   ],
   "source": [
    "r3=r2_score(y_test,ypred6)\n",
    "r3"
   ]
  },
  {
   "cell_type": "markdown",
   "id": "4ab3e104",
   "metadata": {},
   "source": [
    "# Random Forest"
   ]
  },
  {
   "cell_type": "code",
   "execution_count": 19,
   "id": "cc39d436",
   "metadata": {},
   "outputs": [],
   "source": [
    "from sklearn.ensemble import RandomForestRegressor               # Importing Random Forest"
   ]
  },
  {
   "cell_type": "code",
   "execution_count": 20,
   "id": "49f2c110",
   "metadata": {},
   "outputs": [
    {
     "data": {
      "text/html": [
       "<style>#sk-container-id-1 {color: black;}#sk-container-id-1 pre{padding: 0;}#sk-container-id-1 div.sk-toggleable {background-color: white;}#sk-container-id-1 label.sk-toggleable__label {cursor: pointer;display: block;width: 100%;margin-bottom: 0;padding: 0.3em;box-sizing: border-box;text-align: center;}#sk-container-id-1 label.sk-toggleable__label-arrow:before {content: \"▸\";float: left;margin-right: 0.25em;color: #696969;}#sk-container-id-1 label.sk-toggleable__label-arrow:hover:before {color: black;}#sk-container-id-1 div.sk-estimator:hover label.sk-toggleable__label-arrow:before {color: black;}#sk-container-id-1 div.sk-toggleable__content {max-height: 0;max-width: 0;overflow: hidden;text-align: left;background-color: #f0f8ff;}#sk-container-id-1 div.sk-toggleable__content pre {margin: 0.2em;color: black;border-radius: 0.25em;background-color: #f0f8ff;}#sk-container-id-1 input.sk-toggleable__control:checked~div.sk-toggleable__content {max-height: 200px;max-width: 100%;overflow: auto;}#sk-container-id-1 input.sk-toggleable__control:checked~label.sk-toggleable__label-arrow:before {content: \"▾\";}#sk-container-id-1 div.sk-estimator input.sk-toggleable__control:checked~label.sk-toggleable__label {background-color: #d4ebff;}#sk-container-id-1 div.sk-label input.sk-toggleable__control:checked~label.sk-toggleable__label {background-color: #d4ebff;}#sk-container-id-1 input.sk-hidden--visually {border: 0;clip: rect(1px 1px 1px 1px);clip: rect(1px, 1px, 1px, 1px);height: 1px;margin: -1px;overflow: hidden;padding: 0;position: absolute;width: 1px;}#sk-container-id-1 div.sk-estimator {font-family: monospace;background-color: #f0f8ff;border: 1px dotted black;border-radius: 0.25em;box-sizing: border-box;margin-bottom: 0.5em;}#sk-container-id-1 div.sk-estimator:hover {background-color: #d4ebff;}#sk-container-id-1 div.sk-parallel-item::after {content: \"\";width: 100%;border-bottom: 1px solid gray;flex-grow: 1;}#sk-container-id-1 div.sk-label:hover label.sk-toggleable__label {background-color: #d4ebff;}#sk-container-id-1 div.sk-serial::before {content: \"\";position: absolute;border-left: 1px solid gray;box-sizing: border-box;top: 0;bottom: 0;left: 50%;z-index: 0;}#sk-container-id-1 div.sk-serial {display: flex;flex-direction: column;align-items: center;background-color: white;padding-right: 0.2em;padding-left: 0.2em;position: relative;}#sk-container-id-1 div.sk-item {position: relative;z-index: 1;}#sk-container-id-1 div.sk-parallel {display: flex;align-items: stretch;justify-content: center;background-color: white;position: relative;}#sk-container-id-1 div.sk-item::before, #sk-container-id-1 div.sk-parallel-item::before {content: \"\";position: absolute;border-left: 1px solid gray;box-sizing: border-box;top: 0;bottom: 0;left: 50%;z-index: -1;}#sk-container-id-1 div.sk-parallel-item {display: flex;flex-direction: column;z-index: 1;position: relative;background-color: white;}#sk-container-id-1 div.sk-parallel-item:first-child::after {align-self: flex-end;width: 50%;}#sk-container-id-1 div.sk-parallel-item:last-child::after {align-self: flex-start;width: 50%;}#sk-container-id-1 div.sk-parallel-item:only-child::after {width: 0;}#sk-container-id-1 div.sk-dashed-wrapped {border: 1px dashed gray;margin: 0 0.4em 0.5em 0.4em;box-sizing: border-box;padding-bottom: 0.4em;background-color: white;}#sk-container-id-1 div.sk-label label {font-family: monospace;font-weight: bold;display: inline-block;line-height: 1.2em;}#sk-container-id-1 div.sk-label-container {text-align: center;}#sk-container-id-1 div.sk-container {/* jupyter's `normalize.less` sets `[hidden] { display: none; }` but bootstrap.min.css set `[hidden] { display: none !important; }` so we also need the `!important` here to be able to override the default hidden behavior on the sphinx rendered scikit-learn.org. See: https://github.com/scikit-learn/scikit-learn/issues/21755 */display: inline-block !important;position: relative;}#sk-container-id-1 div.sk-text-repr-fallback {display: none;}</style><div id=\"sk-container-id-1\" class=\"sk-top-container\"><div class=\"sk-text-repr-fallback\"><pre>RandomForestRegressor()</pre><b>In a Jupyter environment, please rerun this cell to show the HTML representation or trust the notebook. <br />On GitHub, the HTML representation is unable to render, please try loading this page with nbviewer.org.</b></div><div class=\"sk-container\" hidden><div class=\"sk-item\"><div class=\"sk-estimator sk-toggleable\"><input class=\"sk-toggleable__control sk-hidden--visually\" id=\"sk-estimator-id-1\" type=\"checkbox\" checked><label for=\"sk-estimator-id-1\" class=\"sk-toggleable__label sk-toggleable__label-arrow\">RandomForestRegressor</label><div class=\"sk-toggleable__content\"><pre>RandomForestRegressor()</pre></div></div></div></div></div>"
      ],
      "text/plain": [
       "RandomForestRegressor()"
      ]
     },
     "execution_count": 20,
     "metadata": {},
     "output_type": "execute_result"
    }
   ],
   "source": [
    "RFR=RandomForestRegressor()\n",
    "RFR"
   ]
  },
  {
   "cell_type": "code",
   "execution_count": 21,
   "id": "bbc6be24",
   "metadata": {},
   "outputs": [
    {
     "data": {
      "text/html": [
       "<style>#sk-container-id-2 {color: black;}#sk-container-id-2 pre{padding: 0;}#sk-container-id-2 div.sk-toggleable {background-color: white;}#sk-container-id-2 label.sk-toggleable__label {cursor: pointer;display: block;width: 100%;margin-bottom: 0;padding: 0.3em;box-sizing: border-box;text-align: center;}#sk-container-id-2 label.sk-toggleable__label-arrow:before {content: \"▸\";float: left;margin-right: 0.25em;color: #696969;}#sk-container-id-2 label.sk-toggleable__label-arrow:hover:before {color: black;}#sk-container-id-2 div.sk-estimator:hover label.sk-toggleable__label-arrow:before {color: black;}#sk-container-id-2 div.sk-toggleable__content {max-height: 0;max-width: 0;overflow: hidden;text-align: left;background-color: #f0f8ff;}#sk-container-id-2 div.sk-toggleable__content pre {margin: 0.2em;color: black;border-radius: 0.25em;background-color: #f0f8ff;}#sk-container-id-2 input.sk-toggleable__control:checked~div.sk-toggleable__content {max-height: 200px;max-width: 100%;overflow: auto;}#sk-container-id-2 input.sk-toggleable__control:checked~label.sk-toggleable__label-arrow:before {content: \"▾\";}#sk-container-id-2 div.sk-estimator input.sk-toggleable__control:checked~label.sk-toggleable__label {background-color: #d4ebff;}#sk-container-id-2 div.sk-label input.sk-toggleable__control:checked~label.sk-toggleable__label {background-color: #d4ebff;}#sk-container-id-2 input.sk-hidden--visually {border: 0;clip: rect(1px 1px 1px 1px);clip: rect(1px, 1px, 1px, 1px);height: 1px;margin: -1px;overflow: hidden;padding: 0;position: absolute;width: 1px;}#sk-container-id-2 div.sk-estimator {font-family: monospace;background-color: #f0f8ff;border: 1px dotted black;border-radius: 0.25em;box-sizing: border-box;margin-bottom: 0.5em;}#sk-container-id-2 div.sk-estimator:hover {background-color: #d4ebff;}#sk-container-id-2 div.sk-parallel-item::after {content: \"\";width: 100%;border-bottom: 1px solid gray;flex-grow: 1;}#sk-container-id-2 div.sk-label:hover label.sk-toggleable__label {background-color: #d4ebff;}#sk-container-id-2 div.sk-serial::before {content: \"\";position: absolute;border-left: 1px solid gray;box-sizing: border-box;top: 0;bottom: 0;left: 50%;z-index: 0;}#sk-container-id-2 div.sk-serial {display: flex;flex-direction: column;align-items: center;background-color: white;padding-right: 0.2em;padding-left: 0.2em;position: relative;}#sk-container-id-2 div.sk-item {position: relative;z-index: 1;}#sk-container-id-2 div.sk-parallel {display: flex;align-items: stretch;justify-content: center;background-color: white;position: relative;}#sk-container-id-2 div.sk-item::before, #sk-container-id-2 div.sk-parallel-item::before {content: \"\";position: absolute;border-left: 1px solid gray;box-sizing: border-box;top: 0;bottom: 0;left: 50%;z-index: -1;}#sk-container-id-2 div.sk-parallel-item {display: flex;flex-direction: column;z-index: 1;position: relative;background-color: white;}#sk-container-id-2 div.sk-parallel-item:first-child::after {align-self: flex-end;width: 50%;}#sk-container-id-2 div.sk-parallel-item:last-child::after {align-self: flex-start;width: 50%;}#sk-container-id-2 div.sk-parallel-item:only-child::after {width: 0;}#sk-container-id-2 div.sk-dashed-wrapped {border: 1px dashed gray;margin: 0 0.4em 0.5em 0.4em;box-sizing: border-box;padding-bottom: 0.4em;background-color: white;}#sk-container-id-2 div.sk-label label {font-family: monospace;font-weight: bold;display: inline-block;line-height: 1.2em;}#sk-container-id-2 div.sk-label-container {text-align: center;}#sk-container-id-2 div.sk-container {/* jupyter's `normalize.less` sets `[hidden] { display: none; }` but bootstrap.min.css set `[hidden] { display: none !important; }` so we also need the `!important` here to be able to override the default hidden behavior on the sphinx rendered scikit-learn.org. See: https://github.com/scikit-learn/scikit-learn/issues/21755 */display: inline-block !important;position: relative;}#sk-container-id-2 div.sk-text-repr-fallback {display: none;}</style><div id=\"sk-container-id-2\" class=\"sk-top-container\"><div class=\"sk-text-repr-fallback\"><pre>RandomForestRegressor()</pre><b>In a Jupyter environment, please rerun this cell to show the HTML representation or trust the notebook. <br />On GitHub, the HTML representation is unable to render, please try loading this page with nbviewer.org.</b></div><div class=\"sk-container\" hidden><div class=\"sk-item\"><div class=\"sk-estimator sk-toggleable\"><input class=\"sk-toggleable__control sk-hidden--visually\" id=\"sk-estimator-id-2\" type=\"checkbox\" checked><label for=\"sk-estimator-id-2\" class=\"sk-toggleable__label sk-toggleable__label-arrow\">RandomForestRegressor</label><div class=\"sk-toggleable__content\"><pre>RandomForestRegressor()</pre></div></div></div></div></div>"
      ],
      "text/plain": [
       "RandomForestRegressor()"
      ]
     },
     "execution_count": 21,
     "metadata": {},
     "output_type": "execute_result"
    }
   ],
   "source": [
    "RFR.fit(x_train,y_train)                                         # Fitting on Random Forest Regressor"
   ]
  },
  {
   "cell_type": "code",
   "execution_count": 22,
   "id": "3db30d48",
   "metadata": {},
   "outputs": [
    {
     "data": {
      "text/plain": [
       "array([2.84, 1.  , 1.  , 1.  , 1.  , 0.86, 1.  , 1.  , 1.  , 1.  , 1.  ,\n",
       "       0.89, 2.88, 1.  , 2.94, 2.9 , 1.  , 3.  , 1.  , 1.  , 1.  , 1.  ,\n",
       "       3.  , 2.98, 1.  , 1.  , 3.  , 1.  , 1.  , 1.  , 1.  , 1.  , 1.  ,\n",
       "       1.  , 3.  , 1.69, 1.34, 3.  , 3.  , 3.  , 1.  , 0.89, 3.  , 1.  ,\n",
       "       1.  , 1.  , 1.  , 2.74, 1.  , 1.  , 1.  , 1.  , 3.  , 3.  , 3.  ,\n",
       "       1.  , 1.  , 1.  , 1.  , 1.  , 1.  , 1.  , 1.  , 1.  , 1.  , 2.84,\n",
       "       1.  , 1.  , 1.12, 1.  , 1.  , 1.  , 1.  , 2.84, 1.  , 1.  , 1.  ,\n",
       "       3.  , 1.  , 3.  , 1.  , 1.  , 1.12, 1.  , 1.  , 1.  , 1.72, 1.  ,\n",
       "       1.74, 2.46, 1.  , 3.  , 2.86, 1.  , 1.  , 1.  , 1.  , 1.  , 1.  ,\n",
       "       2.76, 1.  , 1.  , 3.  , 1.04, 1.  , 1.  , 1.  , 1.  , 3.  , 1.  ,\n",
       "       1.  , 1.  , 1.  , 1.36, 1.  , 1.  , 1.  , 1.74, 1.  , 1.  , 1.  ,\n",
       "       1.  , 1.  , 2.55, 1.  , 1.  , 1.  , 1.  , 1.  , 1.  , 2.94, 1.  ,\n",
       "       2.94, 1.  , 1.  , 3.  , 1.  , 1.  , 1.  , 1.  , 1.26, 1.  , 1.  ,\n",
       "       1.  , 1.  , 1.  , 1.  , 1.  , 1.  , 2.98, 0.33, 1.  , 3.  , 1.  ,\n",
       "       1.86, 1.  , 1.  , 1.  , 3.  , 2.58, 2.14, 1.  , 1.  , 2.8 , 1.  ,\n",
       "       1.  , 2.92, 1.  , 1.  , 3.  , 1.84, 1.  , 3.  , 2.9 , 1.  , 1.  ,\n",
       "       1.  , 1.  , 1.  , 0.87, 0.96, 1.  , 3.  , 1.  , 1.  , 1.  , 1.  ,\n",
       "       2.74, 1.  , 0.4 , 0.96, 1.04, 3.  ])"
      ]
     },
     "execution_count": 22,
     "metadata": {},
     "output_type": "execute_result"
    }
   ],
   "source": [
    "xpred7=RFR.predict(x_train)\n",
    "xpred7"
   ]
  },
  {
   "cell_type": "code",
   "execution_count": 23,
   "id": "e991f026",
   "metadata": {},
   "outputs": [
    {
     "data": {
      "text/plain": [
       "array([1.  , 3.  , 0.95, 1.  , 1.  , 1.  , 1.  , 1.  , 1.  , 3.  , 1.  ,\n",
       "       1.  , 1.12, 1.  , 2.92, 1.  , 1.  , 1.  , 1.  , 2.54, 1.04, 1.  ,\n",
       "       1.  , 1.  , 1.  , 1.  , 2.84, 2.96, 1.  , 1.  , 1.  , 1.  , 1.84,\n",
       "       1.  , 1.  , 0.33, 1.  , 1.  , 1.04, 1.  , 1.  , 1.  , 2.88, 1.  ,\n",
       "       1.  , 1.  , 3.  , 1.  , 1.  , 3.  , 1.  , 1.  , 3.  , 1.  , 1.  ,\n",
       "       1.  , 1.  , 1.  , 0.89, 1.84, 1.  , 1.  , 1.  , 1.  , 3.  , 1.  ,\n",
       "       1.  , 1.74, 1.  , 1.  ])"
      ]
     },
     "execution_count": 23,
     "metadata": {},
     "output_type": "execute_result"
    }
   ],
   "source": [
    "ypred7=RFR.predict(x_test)\n",
    "ypred7"
   ]
  },
  {
   "cell_type": "code",
   "execution_count": 24,
   "id": "ea03b0b1",
   "metadata": {},
   "outputs": [
    {
     "data": {
      "text/plain": [
       "0.9597646007858255"
      ]
     },
     "execution_count": 24,
     "metadata": {},
     "output_type": "execute_result"
    }
   ],
   "source": [
    "trainingscore7=RFR.score(x_train,y_train)\n",
    "trainingscore7"
   ]
  },
  {
   "cell_type": "code",
   "execution_count": 25,
   "id": "fd51ab6f",
   "metadata": {},
   "outputs": [
    {
     "data": {
      "text/plain": [
       "0.5993201078582435"
      ]
     },
     "execution_count": 25,
     "metadata": {},
     "output_type": "execute_result"
    }
   ],
   "source": [
    "testingscore7=RFR.score(x_test,y_test)\n",
    "testingscore7"
   ]
  },
  {
   "cell_type": "markdown",
   "id": "297ce7c3",
   "metadata": {},
   "source": [
    "To Increase the Accuracy using Std Scaler"
   ]
  },
  {
   "cell_type": "code",
   "execution_count": 98,
   "id": "51d1d80f",
   "metadata": {},
   "outputs": [],
   "source": [
    "from sklearn.preprocessing import StandardScaler"
   ]
  },
  {
   "cell_type": "code",
   "execution_count": 99,
   "id": "b7a88a48",
   "metadata": {},
   "outputs": [],
   "source": [
    "ss=StandardScaler()"
   ]
  },
  {
   "cell_type": "code",
   "execution_count": 100,
   "id": "51ab6fcc",
   "metadata": {},
   "outputs": [],
   "source": [
    "x_test=ss.fit_transform(x_test)"
   ]
  },
  {
   "cell_type": "code",
   "execution_count": 101,
   "id": "252fbd85",
   "metadata": {},
   "outputs": [],
   "source": [
    "x_train,x_test,y_train,y_test=train_test_split(x,y,test_size=70,random_state=69)"
   ]
  },
  {
   "cell_type": "code",
   "execution_count": 102,
   "id": "20c21119",
   "metadata": {},
   "outputs": [],
   "source": [
    "from sklearn.ensemble import RandomForestRegressor               # Importing Random Forest"
   ]
  },
  {
   "cell_type": "code",
   "execution_count": 103,
   "id": "22e6d5f5",
   "metadata": {},
   "outputs": [
    {
     "data": {
      "text/html": [
       "<style>#sk-container-id-15 {color: black;}#sk-container-id-15 pre{padding: 0;}#sk-container-id-15 div.sk-toggleable {background-color: white;}#sk-container-id-15 label.sk-toggleable__label {cursor: pointer;display: block;width: 100%;margin-bottom: 0;padding: 0.3em;box-sizing: border-box;text-align: center;}#sk-container-id-15 label.sk-toggleable__label-arrow:before {content: \"▸\";float: left;margin-right: 0.25em;color: #696969;}#sk-container-id-15 label.sk-toggleable__label-arrow:hover:before {color: black;}#sk-container-id-15 div.sk-estimator:hover label.sk-toggleable__label-arrow:before {color: black;}#sk-container-id-15 div.sk-toggleable__content {max-height: 0;max-width: 0;overflow: hidden;text-align: left;background-color: #f0f8ff;}#sk-container-id-15 div.sk-toggleable__content pre {margin: 0.2em;color: black;border-radius: 0.25em;background-color: #f0f8ff;}#sk-container-id-15 input.sk-toggleable__control:checked~div.sk-toggleable__content {max-height: 200px;max-width: 100%;overflow: auto;}#sk-container-id-15 input.sk-toggleable__control:checked~label.sk-toggleable__label-arrow:before {content: \"▾\";}#sk-container-id-15 div.sk-estimator input.sk-toggleable__control:checked~label.sk-toggleable__label {background-color: #d4ebff;}#sk-container-id-15 div.sk-label input.sk-toggleable__control:checked~label.sk-toggleable__label {background-color: #d4ebff;}#sk-container-id-15 input.sk-hidden--visually {border: 0;clip: rect(1px 1px 1px 1px);clip: rect(1px, 1px, 1px, 1px);height: 1px;margin: -1px;overflow: hidden;padding: 0;position: absolute;width: 1px;}#sk-container-id-15 div.sk-estimator {font-family: monospace;background-color: #f0f8ff;border: 1px dotted black;border-radius: 0.25em;box-sizing: border-box;margin-bottom: 0.5em;}#sk-container-id-15 div.sk-estimator:hover {background-color: #d4ebff;}#sk-container-id-15 div.sk-parallel-item::after {content: \"\";width: 100%;border-bottom: 1px solid gray;flex-grow: 1;}#sk-container-id-15 div.sk-label:hover label.sk-toggleable__label {background-color: #d4ebff;}#sk-container-id-15 div.sk-serial::before {content: \"\";position: absolute;border-left: 1px solid gray;box-sizing: border-box;top: 0;bottom: 0;left: 50%;z-index: 0;}#sk-container-id-15 div.sk-serial {display: flex;flex-direction: column;align-items: center;background-color: white;padding-right: 0.2em;padding-left: 0.2em;position: relative;}#sk-container-id-15 div.sk-item {position: relative;z-index: 1;}#sk-container-id-15 div.sk-parallel {display: flex;align-items: stretch;justify-content: center;background-color: white;position: relative;}#sk-container-id-15 div.sk-item::before, #sk-container-id-15 div.sk-parallel-item::before {content: \"\";position: absolute;border-left: 1px solid gray;box-sizing: border-box;top: 0;bottom: 0;left: 50%;z-index: -1;}#sk-container-id-15 div.sk-parallel-item {display: flex;flex-direction: column;z-index: 1;position: relative;background-color: white;}#sk-container-id-15 div.sk-parallel-item:first-child::after {align-self: flex-end;width: 50%;}#sk-container-id-15 div.sk-parallel-item:last-child::after {align-self: flex-start;width: 50%;}#sk-container-id-15 div.sk-parallel-item:only-child::after {width: 0;}#sk-container-id-15 div.sk-dashed-wrapped {border: 1px dashed gray;margin: 0 0.4em 0.5em 0.4em;box-sizing: border-box;padding-bottom: 0.4em;background-color: white;}#sk-container-id-15 div.sk-label label {font-family: monospace;font-weight: bold;display: inline-block;line-height: 1.2em;}#sk-container-id-15 div.sk-label-container {text-align: center;}#sk-container-id-15 div.sk-container {/* jupyter's `normalize.less` sets `[hidden] { display: none; }` but bootstrap.min.css set `[hidden] { display: none !important; }` so we also need the `!important` here to be able to override the default hidden behavior on the sphinx rendered scikit-learn.org. See: https://github.com/scikit-learn/scikit-learn/issues/21755 */display: inline-block !important;position: relative;}#sk-container-id-15 div.sk-text-repr-fallback {display: none;}</style><div id=\"sk-container-id-15\" class=\"sk-top-container\"><div class=\"sk-text-repr-fallback\"><pre>RandomForestRegressor()</pre><b>In a Jupyter environment, please rerun this cell to show the HTML representation or trust the notebook. <br />On GitHub, the HTML representation is unable to render, please try loading this page with nbviewer.org.</b></div><div class=\"sk-container\" hidden><div class=\"sk-item\"><div class=\"sk-estimator sk-toggleable\"><input class=\"sk-toggleable__control sk-hidden--visually\" id=\"sk-estimator-id-15\" type=\"checkbox\" checked><label for=\"sk-estimator-id-15\" class=\"sk-toggleable__label sk-toggleable__label-arrow\">RandomForestRegressor</label><div class=\"sk-toggleable__content\"><pre>RandomForestRegressor()</pre></div></div></div></div></div>"
      ],
      "text/plain": [
       "RandomForestRegressor()"
      ]
     },
     "execution_count": 103,
     "metadata": {},
     "output_type": "execute_result"
    }
   ],
   "source": [
    "RFR1=RandomForestRegressor()\n",
    "RFR1"
   ]
  },
  {
   "cell_type": "code",
   "execution_count": 104,
   "id": "b6b04dd1",
   "metadata": {},
   "outputs": [
    {
     "data": {
      "text/html": [
       "<style>#sk-container-id-16 {color: black;}#sk-container-id-16 pre{padding: 0;}#sk-container-id-16 div.sk-toggleable {background-color: white;}#sk-container-id-16 label.sk-toggleable__label {cursor: pointer;display: block;width: 100%;margin-bottom: 0;padding: 0.3em;box-sizing: border-box;text-align: center;}#sk-container-id-16 label.sk-toggleable__label-arrow:before {content: \"▸\";float: left;margin-right: 0.25em;color: #696969;}#sk-container-id-16 label.sk-toggleable__label-arrow:hover:before {color: black;}#sk-container-id-16 div.sk-estimator:hover label.sk-toggleable__label-arrow:before {color: black;}#sk-container-id-16 div.sk-toggleable__content {max-height: 0;max-width: 0;overflow: hidden;text-align: left;background-color: #f0f8ff;}#sk-container-id-16 div.sk-toggleable__content pre {margin: 0.2em;color: black;border-radius: 0.25em;background-color: #f0f8ff;}#sk-container-id-16 input.sk-toggleable__control:checked~div.sk-toggleable__content {max-height: 200px;max-width: 100%;overflow: auto;}#sk-container-id-16 input.sk-toggleable__control:checked~label.sk-toggleable__label-arrow:before {content: \"▾\";}#sk-container-id-16 div.sk-estimator input.sk-toggleable__control:checked~label.sk-toggleable__label {background-color: #d4ebff;}#sk-container-id-16 div.sk-label input.sk-toggleable__control:checked~label.sk-toggleable__label {background-color: #d4ebff;}#sk-container-id-16 input.sk-hidden--visually {border: 0;clip: rect(1px 1px 1px 1px);clip: rect(1px, 1px, 1px, 1px);height: 1px;margin: -1px;overflow: hidden;padding: 0;position: absolute;width: 1px;}#sk-container-id-16 div.sk-estimator {font-family: monospace;background-color: #f0f8ff;border: 1px dotted black;border-radius: 0.25em;box-sizing: border-box;margin-bottom: 0.5em;}#sk-container-id-16 div.sk-estimator:hover {background-color: #d4ebff;}#sk-container-id-16 div.sk-parallel-item::after {content: \"\";width: 100%;border-bottom: 1px solid gray;flex-grow: 1;}#sk-container-id-16 div.sk-label:hover label.sk-toggleable__label {background-color: #d4ebff;}#sk-container-id-16 div.sk-serial::before {content: \"\";position: absolute;border-left: 1px solid gray;box-sizing: border-box;top: 0;bottom: 0;left: 50%;z-index: 0;}#sk-container-id-16 div.sk-serial {display: flex;flex-direction: column;align-items: center;background-color: white;padding-right: 0.2em;padding-left: 0.2em;position: relative;}#sk-container-id-16 div.sk-item {position: relative;z-index: 1;}#sk-container-id-16 div.sk-parallel {display: flex;align-items: stretch;justify-content: center;background-color: white;position: relative;}#sk-container-id-16 div.sk-item::before, #sk-container-id-16 div.sk-parallel-item::before {content: \"\";position: absolute;border-left: 1px solid gray;box-sizing: border-box;top: 0;bottom: 0;left: 50%;z-index: -1;}#sk-container-id-16 div.sk-parallel-item {display: flex;flex-direction: column;z-index: 1;position: relative;background-color: white;}#sk-container-id-16 div.sk-parallel-item:first-child::after {align-self: flex-end;width: 50%;}#sk-container-id-16 div.sk-parallel-item:last-child::after {align-self: flex-start;width: 50%;}#sk-container-id-16 div.sk-parallel-item:only-child::after {width: 0;}#sk-container-id-16 div.sk-dashed-wrapped {border: 1px dashed gray;margin: 0 0.4em 0.5em 0.4em;box-sizing: border-box;padding-bottom: 0.4em;background-color: white;}#sk-container-id-16 div.sk-label label {font-family: monospace;font-weight: bold;display: inline-block;line-height: 1.2em;}#sk-container-id-16 div.sk-label-container {text-align: center;}#sk-container-id-16 div.sk-container {/* jupyter's `normalize.less` sets `[hidden] { display: none; }` but bootstrap.min.css set `[hidden] { display: none !important; }` so we also need the `!important` here to be able to override the default hidden behavior on the sphinx rendered scikit-learn.org. See: https://github.com/scikit-learn/scikit-learn/issues/21755 */display: inline-block !important;position: relative;}#sk-container-id-16 div.sk-text-repr-fallback {display: none;}</style><div id=\"sk-container-id-16\" class=\"sk-top-container\"><div class=\"sk-text-repr-fallback\"><pre>RandomForestRegressor()</pre><b>In a Jupyter environment, please rerun this cell to show the HTML representation or trust the notebook. <br />On GitHub, the HTML representation is unable to render, please try loading this page with nbviewer.org.</b></div><div class=\"sk-container\" hidden><div class=\"sk-item\"><div class=\"sk-estimator sk-toggleable\"><input class=\"sk-toggleable__control sk-hidden--visually\" id=\"sk-estimator-id-16\" type=\"checkbox\" checked><label for=\"sk-estimator-id-16\" class=\"sk-toggleable__label sk-toggleable__label-arrow\">RandomForestRegressor</label><div class=\"sk-toggleable__content\"><pre>RandomForestRegressor()</pre></div></div></div></div></div>"
      ],
      "text/plain": [
       "RandomForestRegressor()"
      ]
     },
     "execution_count": 104,
     "metadata": {},
     "output_type": "execute_result"
    }
   ],
   "source": [
    "RFR1.fit(x_train,y_train)                                         # Fitting on Random Forest Regressor"
   ]
  },
  {
   "cell_type": "code",
   "execution_count": 105,
   "id": "766a52b1",
   "metadata": {},
   "outputs": [
    {
     "data": {
      "text/plain": [
       "array([1.  , 1.  , 2.52, 1.  , 1.  , 2.32, 1.  , 1.  , 1.  , 1.  , 0.99,\n",
       "       1.  , 1.  , 2.98, 1.  , 1.  , 2.92, 1.  , 2.26, 1.  , 3.  , 2.84,\n",
       "       1.  , 1.  , 2.74, 1.73, 1.  , 1.22, 1.  , 1.  , 0.68, 2.94, 1.  ,\n",
       "       1.  , 1.  , 1.  , 3.  , 1.  , 1.  , 1.  , 1.  , 1.1 , 1.  , 2.8 ,\n",
       "       1.  , 1.  , 3.  , 2.34, 0.34, 1.64, 2.3 , 1.  , 1.  , 1.3 , 1.  ,\n",
       "       1.  , 1.  , 1.  , 2.92, 2.92, 1.  , 1.  , 1.22, 1.  , 2.3 , 3.  ,\n",
       "       1.  , 1.  , 2.9 , 1.  , 1.  , 1.  , 1.  , 1.  , 1.  , 1.  , 1.  ,\n",
       "       1.  , 1.02, 3.  , 1.42, 1.  , 1.  , 2.76, 1.  , 2.98, 0.98, 1.  ,\n",
       "       1.  , 1.  , 1.  , 1.  , 3.  , 1.  , 1.  , 1.  , 1.  , 1.  , 3.  ,\n",
       "       1.  , 0.71, 1.6 , 1.  , 1.  , 0.9 , 1.  , 3.  , 1.  , 1.  , 1.  ,\n",
       "       1.  , 0.39, 2.5 , 1.  , 1.02, 1.  , 1.  , 3.  , 1.  , 1.  , 1.02,\n",
       "       1.  , 1.  , 0.98, 1.  , 1.  , 1.  , 1.3 , 1.  , 1.  , 0.86, 2.94,\n",
       "       1.42, 1.1 , 3.  , 1.  , 2.38, 1.  , 2.9 , 1.  , 1.  , 1.  , 1.  ,\n",
       "       1.  , 1.  , 1.  , 1.  , 1.28, 1.  , 1.  , 1.  , 1.  , 3.  , 1.  ,\n",
       "       1.  , 1.  , 1.  , 1.  , 2.96, 1.  , 1.  , 1.  , 1.54, 2.48, 1.  ,\n",
       "       1.04, 0.97, 1.  , 1.36, 1.  , 1.  , 1.  , 1.  , 1.  , 1.  , 2.89,\n",
       "       1.  , 1.  , 1.02, 2.98, 1.78, 2.96, 1.  , 1.  , 1.  , 1.  , 1.  ,\n",
       "       1.  , 2.92, 1.  , 1.  , 1.  , 1.  ])"
      ]
     },
     "execution_count": 105,
     "metadata": {},
     "output_type": "execute_result"
    }
   ],
   "source": [
    "xpred8=RFR1.predict(x_train)\n",
    "xpred8"
   ]
  },
  {
   "cell_type": "code",
   "execution_count": 106,
   "id": "33a36800",
   "metadata": {},
   "outputs": [
    {
     "data": {
      "text/plain": [
       "array([1.  , 1.  , 1.  , 1.  , 0.84, 1.04, 1.  , 1.  , 1.  , 1.3 , 1.  ,\n",
       "       1.  , 0.8 , 2.52, 2.96, 1.  , 1.  , 1.  , 1.  , 1.  , 2.86, 2.96,\n",
       "       1.  , 1.  , 1.  , 1.  , 1.  , 1.  , 1.  , 2.98, 1.  , 1.  , 0.68,\n",
       "       1.  , 2.94, 1.  , 1.  , 2.84, 1.  , 2.98, 1.  , 1.  , 2.98, 2.96,\n",
       "       1.  , 1.  , 1.  , 1.  , 1.  , 1.  , 1.  , 1.  , 2.98, 1.  , 2.92,\n",
       "       1.  , 2.74, 1.  , 3.  , 0.91, 0.68, 0.99, 2.48, 1.  , 1.  , 1.  ,\n",
       "       2.28, 1.  , 1.  , 1.  ])"
      ]
     },
     "execution_count": 106,
     "metadata": {},
     "output_type": "execute_result"
    }
   ],
   "source": [
    "ypred8=RFR1.predict(x_test)\n",
    "ypred8"
   ]
  },
  {
   "cell_type": "code",
   "execution_count": 107,
   "id": "c68c6843",
   "metadata": {},
   "outputs": [
    {
     "data": {
      "text/plain": [
       "0.9450971016879374"
      ]
     },
     "execution_count": 107,
     "metadata": {},
     "output_type": "execute_result"
    }
   ],
   "source": [
    "trainingscore8=RFR1.score(x_train,y_train)\n",
    "trainingscore8"
   ]
  },
  {
   "cell_type": "code",
   "execution_count": 108,
   "id": "89fb5fc8",
   "metadata": {},
   "outputs": [
    {
     "data": {
      "text/plain": [
       "0.9161204217536071"
      ]
     },
     "execution_count": 108,
     "metadata": {},
     "output_type": "execute_result"
    }
   ],
   "source": [
    "testingscore8=RFR1.score(x_test,y_test)\n",
    "testingscore8"
   ]
  },
  {
   "cell_type": "code",
   "execution_count": 45,
   "id": "1e861df7",
   "metadata": {},
   "outputs": [
    {
     "name": "stdout",
     "output_type": "stream",
     "text": [
      "mae\n"
     ]
    },
    {
     "data": {
      "text/plain": [
       "(None, 0.081)"
      ]
     },
     "execution_count": 45,
     "metadata": {},
     "output_type": "execute_result"
    }
   ],
   "source": [
    "print(\"mae\"),metrics.mean_absolute_error(y_test,ypred8) #mean absolute error"
   ]
  },
  {
   "cell_type": "code",
   "execution_count": 46,
   "id": "fd33e207",
   "metadata": {},
   "outputs": [
    {
     "name": "stdout",
     "output_type": "stream",
     "text": [
      "mse\n"
     ]
    },
    {
     "data": {
      "text/plain": [
       "(None, 0.06515571428571429)"
      ]
     },
     "execution_count": 46,
     "metadata": {},
     "output_type": "execute_result"
    }
   ],
   "source": [
    "print(\"mse\"),metrics.mean_squared_error(y_test,ypred8)  #mean squared error"
   ]
  },
  {
   "cell_type": "code",
   "execution_count": 47,
   "id": "0766a09d",
   "metadata": {},
   "outputs": [
    {
     "name": "stdout",
     "output_type": "stream",
     "text": [
      "rmae\n"
     ]
    },
    {
     "data": {
      "text/plain": [
       "(None, 0.28460498941515416)"
      ]
     },
     "execution_count": 47,
     "metadata": {},
     "output_type": "execute_result"
    }
   ],
   "source": [
    "print(\"rmae\"),np.sqrt(metrics.mean_absolute_error(y_test,ypred8)) #mean absolute error"
   ]
  },
  {
   "cell_type": "code",
   "execution_count": 48,
   "id": "200f822a",
   "metadata": {},
   "outputs": [
    {
     "name": "stdout",
     "output_type": "stream",
     "text": [
      "rmse\n"
     ]
    },
    {
     "data": {
      "text/plain": [
       "(None, 0.25525617384446214)"
      ]
     },
     "execution_count": 48,
     "metadata": {},
     "output_type": "execute_result"
    }
   ],
   "source": [
    "print(\"rmse\"),np.sqrt(metrics.mean_squared_error(y_test,ypred8)) #mean squared error"
   ]
  },
  {
   "cell_type": "code",
   "execution_count": 49,
   "id": "c1ad0583",
   "metadata": {},
   "outputs": [
    {
     "data": {
      "text/plain": [
       "0.9114142619311876"
      ]
     },
     "execution_count": 49,
     "metadata": {},
     "output_type": "execute_result"
    }
   ],
   "source": [
    "r4=r2_score(y_test,ypred8)\n",
    "r4"
   ]
  },
  {
   "cell_type": "code",
   "execution_count": 109,
   "id": "72bf9975",
   "metadata": {},
   "outputs": [
    {
     "data": {
      "text/html": [
       "<div>\n",
       "<style scoped>\n",
       "    .dataframe tbody tr th:only-of-type {\n",
       "        vertical-align: middle;\n",
       "    }\n",
       "\n",
       "    .dataframe tbody tr th {\n",
       "        vertical-align: top;\n",
       "    }\n",
       "\n",
       "    .dataframe thead th {\n",
       "        text-align: right;\n",
       "    }\n",
       "</style>\n",
       "<table border=\"1\" class=\"dataframe\">\n",
       "  <thead>\n",
       "    <tr style=\"text-align: right;\">\n",
       "      <th></th>\n",
       "      <th>ML Models</th>\n",
       "      <th>Accuracy Score</th>\n",
       "    </tr>\n",
       "  </thead>\n",
       "  <tbody>\n",
       "    <tr>\n",
       "      <th>0</th>\n",
       "      <td>Linear</td>\n",
       "      <td>0.018381</td>\n",
       "    </tr>\n",
       "    <tr>\n",
       "      <th>1</th>\n",
       "      <td>Decision Tree</td>\n",
       "      <td>0.922309</td>\n",
       "    </tr>\n",
       "    <tr>\n",
       "      <th>2</th>\n",
       "      <td>SVR</td>\n",
       "      <td>-0.206009</td>\n",
       "    </tr>\n",
       "    <tr>\n",
       "      <th>3</th>\n",
       "      <td>Random Forest</td>\n",
       "      <td>0.916120</td>\n",
       "    </tr>\n",
       "  </tbody>\n",
       "</table>\n",
       "</div>"
      ],
      "text/plain": [
       "       ML Models  Accuracy Score\n",
       "0         Linear        0.018381\n",
       "1  Decision Tree        0.922309\n",
       "2            SVR       -0.206009\n",
       "3  Random Forest        0.916120"
      ]
     },
     "execution_count": 109,
     "metadata": {},
     "output_type": "execute_result"
    }
   ],
   "source": [
    "z=pd.DataFrame({\"ML Models\":[\"Linear\",\"Decision Tree\",\"SVR\",\"Random Forest\"],\n",
    "               \"Accuracy Score\":[testingscore2,testingscore4,testingscore6,testingscore8]})\n",
    "z"
   ]
  },
  {
   "cell_type": "code",
   "execution_count": 110,
   "id": "71980ac3",
   "metadata": {},
   "outputs": [
    {
     "data": {
      "text/html": [
       "<div>\n",
       "<style scoped>\n",
       "    .dataframe tbody tr th:only-of-type {\n",
       "        vertical-align: middle;\n",
       "    }\n",
       "\n",
       "    .dataframe tbody tr th {\n",
       "        vertical-align: top;\n",
       "    }\n",
       "\n",
       "    .dataframe thead th {\n",
       "        text-align: right;\n",
       "    }\n",
       "</style>\n",
       "<table border=\"1\" class=\"dataframe\">\n",
       "  <thead>\n",
       "    <tr style=\"text-align: right;\">\n",
       "      <th></th>\n",
       "      <th>ML Models</th>\n",
       "      <th>Accuracy Score</th>\n",
       "    </tr>\n",
       "  </thead>\n",
       "  <tbody>\n",
       "    <tr>\n",
       "      <th>1</th>\n",
       "      <td>Decision Tree</td>\n",
       "      <td>0.922309</td>\n",
       "    </tr>\n",
       "    <tr>\n",
       "      <th>3</th>\n",
       "      <td>Random Forest</td>\n",
       "      <td>0.916120</td>\n",
       "    </tr>\n",
       "    <tr>\n",
       "      <th>0</th>\n",
       "      <td>Linear</td>\n",
       "      <td>0.018381</td>\n",
       "    </tr>\n",
       "    <tr>\n",
       "      <th>2</th>\n",
       "      <td>SVR</td>\n",
       "      <td>-0.206009</td>\n",
       "    </tr>\n",
       "  </tbody>\n",
       "</table>\n",
       "</div>"
      ],
      "text/plain": [
       "       ML Models  Accuracy Score\n",
       "1  Decision Tree        0.922309\n",
       "3  Random Forest        0.916120\n",
       "0         Linear        0.018381\n",
       "2            SVR       -0.206009"
      ]
     },
     "execution_count": 110,
     "metadata": {},
     "output_type": "execute_result"
    },
    {
     "data": {
      "image/png": "[encoded data removed]",
      "text/plain": [
       "<Figure size 640x480 with 1 Axes>"
      ]
     },
     "metadata": {},
     "output_type": "display_data"
    }
   ],
   "source": [
    "sns.barplot(x=\"ML Models\",y=\"Accuracy Score\",data=z)            # after predicting the gold price datasets using different regressions, Decision Tree & Random Forest has the highest accuracy rate\n",
    "z.sort_values(by=\"Accuracy Score\",ascending=False)"
   ]
  },
  {
   "cell_type": "markdown",
   "id": "7c5a48f2",
   "metadata": {},
   "source": [
    "# Test Data's Accuracy Of All Models"
   ]
  },
  {
   "cell_type": "markdown",
   "id": "0f8f227f",
   "metadata": {},
   "source": [
    "    Test data accuracy in Linear regression - 0.018, Test data accuracy in SVR -negative, Test data accuracy in Decision Tree - 91% Test data accuracy in Random Forest - 92%\n",
    "\n",
    "HENCE BEST MODEL TO PREDICT TAXI TRIP PREDICTION RANGE FROM THE GIVEN DATASET IS DECISION TREE MODEL"
   ]
  },
  {
   "cell_type": "markdown",
   "id": "0c31411d",
   "metadata": {},
   "source": [
    "# Input Method"
   ]
  },
  {
   "cell_type": "code",
   "execution_count": 113,
   "id": "d57699da",
   "metadata": {},
   "outputs": [
    {
     "name": "stdout",
     "output_type": "stream",
     "text": [
      "Enter LocationID :263\n",
      "Enter Borough :3\n",
      "Enter Zone :259\n",
      "service_zone 1\n"
     ]
    }
   ],
   "source": [
    "LocationID=int(input(\"Enter LocationID :\"))\n",
    "Borough=int(input(\"Enter Borough :\"))\n",
    "Zone=int(input(\"Enter Zone :\"))\n",
    "New=[LocationID,Borough,Zone] \n",
    "import numpy as np                            # creating a variable including all the above input variables\n",
    "numpy=np.asarray(New)                                           # converting into numpy array\n",
    "Newarray=numpy.reshape(1,-1)\n",
    "pred=regressor1.predict(Newarray)\n",
    "d=int(pred)\n",
    "print(\"service_zone\",d)\n",
    "\n"
   ]
  },
  {
   "cell_type": "code",
   "execution_count": null,
   "id": "e58cb8a5",
   "metadata": {},
   "outputs": [],
   "source": []
  }
 ],
 "metadata": {
  "kernelspec": {
   "display_name": "Python 3 (ipykernel)",
   "language": "python",
   "name": "python3"
  },
  "language_info": {
   "codemirror_mode": {
    "name": "ipython",
    "version": 3
   },
   "file_extension": ".py",
   "mimetype": "text/x-python",
   "name": "python",
   "nbconvert_exporter": "python",
   "pygments_lexer": "ipython3",
   "version": "3.11.4"
  }
 },
 "nbformat": 4,
 "nbformat_minor": 5
}
